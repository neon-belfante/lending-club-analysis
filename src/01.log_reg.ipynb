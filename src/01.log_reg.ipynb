{
 "cells": [
  {
   "cell_type": "markdown",
   "id": "8e8e1fa5",
   "metadata": {},
   "source": [
    "# Description\n",
    "Create a logistic regression"
   ]
  },
  {
   "cell_type": "markdown",
   "id": "1afb7bab",
   "metadata": {},
   "source": [
    "# Setup"
   ]
  },
  {
   "cell_type": "code",
   "execution_count": 1,
   "id": "dc294d45",
   "metadata": {},
   "outputs": [],
   "source": [
    "import pandas as pd\n",
    "import plotly.express as px\n",
    "import re\n",
    "import numpy as np\n",
    "from IPython.display import Image\n",
    "from sklearn.tree import DecisionTreeClassifier\n",
    "from sklearn import tree\n",
    "import joblib\n",
    "\n",
    "import findspark\n",
    "import pyspark\n",
    "from pyspark.sql import SparkSession\n",
    "import pyspark\n",
    "from pyspark.sql import DataFrame\n",
    "import pyspark.sql.functions as sql\n",
    "from pyspark.sql.window import Window\n",
    "from pyspark.sql.functions import *\n",
    "from pyspark.sql import functions as F\n",
    "from pyspark.sql.types import *\n",
    "from pyspark.ml.stat import Correlation\n",
    "from pyspark.ml.feature import VectorAssembler\n",
    "\n",
    "from pyspark.ml import Pipeline, PipelineModel\n",
    "from pyspark.ml.regression import GeneralizedLinearRegression\n",
    "from pyspark.ml.functions import vector_to_array"
   ]
  },
  {
   "cell_type": "code",
   "execution_count": 2,
   "id": "9aeed56d",
   "metadata": {},
   "outputs": [
    {
     "name": "stderr",
     "output_type": "stream",
     "text": [
      "WARNING: Using incubator modules: jdk.incubator.vector\n",
      "Using Spark's default log4j profile: org/apache/spark/log4j2-defaults.properties\n",
      "25/06/11 11:49:14 WARN Utils: Your hostname, pop-os-note, resolves to a loopback address: 127.0.0.1; using 192.168.0.4 instead (on interface wlp2s0)\n",
      "25/06/11 11:49:14 WARN Utils: Set SPARK_LOCAL_IP if you need to bind to another address\n",
      "Using Spark's default log4j profile: org/apache/spark/log4j2-defaults.properties\n",
      "Setting default log level to \"WARN\".\n",
      "To adjust logging level use sc.setLogLevel(newLevel). For SparkR, use setLogLevel(newLevel).\n",
      "25/06/11 11:49:17 WARN NativeCodeLoader: Unable to load native-hadoop library for your platform... using builtin-java classes where applicable\n"
     ]
    }
   ],
   "source": [
    "findspark.init()\n",
    "sc = pyspark.SparkContext(appName=\"Test\")\n",
    "spark = SparkSession.builder.master(\"local[*]\") \\\n",
    "                    .appName('test') \\\n",
    "                    .getOrCreate()"
   ]
  },
  {
   "cell_type": "code",
   "execution_count": 3,
   "id": "7e2b62f7",
   "metadata": {},
   "outputs": [],
   "source": [
    "pd.set_option('display.max_rows', 1000)\n",
    "spark.conf.set(\"spark.sql.execution.arrow.pyspark.enabled\",\"true\")"
   ]
  },
  {
   "cell_type": "code",
   "execution_count": 4,
   "id": "8a483287",
   "metadata": {},
   "outputs": [],
   "source": [
    "input_path = \"../data/\"\n",
    "output_path = \"../outputs/\""
   ]
  },
  {
   "cell_type": "markdown",
   "id": "75f33933",
   "metadata": {},
   "source": [
    "# Data"
   ]
  },
  {
   "cell_type": "code",
   "execution_count": 5,
   "id": "4b546dd0",
   "metadata": {},
   "outputs": [
    {
     "name": "stderr",
     "output_type": "stream",
     "text": [
      "                                                                                \r"
     ]
    }
   ],
   "source": [
    "train_data = spark.read.parquet(f\"{output_path}train_df_woe.parquet\")\n",
    "test_data = spark.read.parquet(f\"{output_path}test_df_woe.parquet\")"
   ]
  },
  {
   "cell_type": "markdown",
   "id": "397c2c80",
   "metadata": {},
   "source": [
    "# Analysis"
   ]
  },
  {
   "cell_type": "code",
   "execution_count": 6,
   "id": "7fe32908",
   "metadata": {},
   "outputs": [
    {
     "name": "stderr",
     "output_type": "stream",
     "text": [
      "                                                                                \r"
     ]
    }
   ],
   "source": [
    "selected_cols = \\\n",
    "['funded_amnt_woe',\n",
    " 'term_woe',\n",
    " 'sub_grade_woe',\n",
    " 'home_ownership_woe',\n",
    " 'annual_inc_woe',\n",
    " 'verification_status_woe',\n",
    " 'zip_code_woe',\n",
    " 'dti_woe',\n",
    " 'earliest_cr_line_woe',\n",
    " 'fico_range_low_woe',\n",
    " 'inq_last_6mths_woe',\n",
    " 'revol_util_woe']\n",
    "\n",
    "target_col = \"default_flag\"\n",
    "\n",
    "Xtrain = train_data.select(selected_cols).toPandas()\n",
    "ytrain = train_data.select(target_col).toPandas()[target_col]"
   ]
  },
  {
   "cell_type": "markdown",
   "id": "77d3a672",
   "metadata": {},
   "source": [
    "## Sklearn"
   ]
  },
  {
   "cell_type": "code",
   "execution_count": 7,
   "id": "f77635ad",
   "metadata": {},
   "outputs": [
    {
     "name": "stderr",
     "output_type": "stream",
     "text": [
      "/home/neon/Documents/lending-club-analysis/lending-club-analysis/.venv/lib/python3.10/site-packages/sklearn/linear_model/_logistic.py:1207: UserWarning: Setting penalty=None will ignore the C and l1_ratio parameters\n",
      "  warnings.warn(\n"
     ]
    },
    {
     "data": {
      "text/html": [
       "<style>#sk-container-id-1 {\n",
       "  /* Definition of color scheme common for light and dark mode */\n",
       "  --sklearn-color-text: #000;\n",
       "  --sklearn-color-text-muted: #666;\n",
       "  --sklearn-color-line: gray;\n",
       "  /* Definition of color scheme for unfitted estimators */\n",
       "  --sklearn-color-unfitted-level-0: #fff5e6;\n",
       "  --sklearn-color-unfitted-level-1: #f6e4d2;\n",
       "  --sklearn-color-unfitted-level-2: #ffe0b3;\n",
       "  --sklearn-color-unfitted-level-3: chocolate;\n",
       "  /* Definition of color scheme for fitted estimators */\n",
       "  --sklearn-color-fitted-level-0: #f0f8ff;\n",
       "  --sklearn-color-fitted-level-1: #d4ebff;\n",
       "  --sklearn-color-fitted-level-2: #b3dbfd;\n",
       "  --sklearn-color-fitted-level-3: cornflowerblue;\n",
       "\n",
       "  /* Specific color for light theme */\n",
       "  --sklearn-color-text-on-default-background: var(--sg-text-color, var(--theme-code-foreground, var(--jp-content-font-color1, black)));\n",
       "  --sklearn-color-background: var(--sg-background-color, var(--theme-background, var(--jp-layout-color0, white)));\n",
       "  --sklearn-color-border-box: var(--sg-text-color, var(--theme-code-foreground, var(--jp-content-font-color1, black)));\n",
       "  --sklearn-color-icon: #696969;\n",
       "\n",
       "  @media (prefers-color-scheme: dark) {\n",
       "    /* Redefinition of color scheme for dark theme */\n",
       "    --sklearn-color-text-on-default-background: var(--sg-text-color, var(--theme-code-foreground, var(--jp-content-font-color1, white)));\n",
       "    --sklearn-color-background: var(--sg-background-color, var(--theme-background, var(--jp-layout-color0, #111)));\n",
       "    --sklearn-color-border-box: var(--sg-text-color, var(--theme-code-foreground, var(--jp-content-font-color1, white)));\n",
       "    --sklearn-color-icon: #878787;\n",
       "  }\n",
       "}\n",
       "\n",
       "#sk-container-id-1 {\n",
       "  color: var(--sklearn-color-text);\n",
       "}\n",
       "\n",
       "#sk-container-id-1 pre {\n",
       "  padding: 0;\n",
       "}\n",
       "\n",
       "#sk-container-id-1 input.sk-hidden--visually {\n",
       "  border: 0;\n",
       "  clip: rect(1px 1px 1px 1px);\n",
       "  clip: rect(1px, 1px, 1px, 1px);\n",
       "  height: 1px;\n",
       "  margin: -1px;\n",
       "  overflow: hidden;\n",
       "  padding: 0;\n",
       "  position: absolute;\n",
       "  width: 1px;\n",
       "}\n",
       "\n",
       "#sk-container-id-1 div.sk-dashed-wrapped {\n",
       "  border: 1px dashed var(--sklearn-color-line);\n",
       "  margin: 0 0.4em 0.5em 0.4em;\n",
       "  box-sizing: border-box;\n",
       "  padding-bottom: 0.4em;\n",
       "  background-color: var(--sklearn-color-background);\n",
       "}\n",
       "\n",
       "#sk-container-id-1 div.sk-container {\n",
       "  /* jupyter's `normalize.less` sets `[hidden] { display: none; }`\n",
       "     but bootstrap.min.css set `[hidden] { display: none !important; }`\n",
       "     so we also need the `!important` here to be able to override the\n",
       "     default hidden behavior on the sphinx rendered scikit-learn.org.\n",
       "     See: https://github.com/scikit-learn/scikit-learn/issues/21755 */\n",
       "  display: inline-block !important;\n",
       "  position: relative;\n",
       "}\n",
       "\n",
       "#sk-container-id-1 div.sk-text-repr-fallback {\n",
       "  display: none;\n",
       "}\n",
       "\n",
       "div.sk-parallel-item,\n",
       "div.sk-serial,\n",
       "div.sk-item {\n",
       "  /* draw centered vertical line to link estimators */\n",
       "  background-image: linear-gradient(var(--sklearn-color-text-on-default-background), var(--sklearn-color-text-on-default-background));\n",
       "  background-size: 2px 100%;\n",
       "  background-repeat: no-repeat;\n",
       "  background-position: center center;\n",
       "}\n",
       "\n",
       "/* Parallel-specific style estimator block */\n",
       "\n",
       "#sk-container-id-1 div.sk-parallel-item::after {\n",
       "  content: \"\";\n",
       "  width: 100%;\n",
       "  border-bottom: 2px solid var(--sklearn-color-text-on-default-background);\n",
       "  flex-grow: 1;\n",
       "}\n",
       "\n",
       "#sk-container-id-1 div.sk-parallel {\n",
       "  display: flex;\n",
       "  align-items: stretch;\n",
       "  justify-content: center;\n",
       "  background-color: var(--sklearn-color-background);\n",
       "  position: relative;\n",
       "}\n",
       "\n",
       "#sk-container-id-1 div.sk-parallel-item {\n",
       "  display: flex;\n",
       "  flex-direction: column;\n",
       "}\n",
       "\n",
       "#sk-container-id-1 div.sk-parallel-item:first-child::after {\n",
       "  align-self: flex-end;\n",
       "  width: 50%;\n",
       "}\n",
       "\n",
       "#sk-container-id-1 div.sk-parallel-item:last-child::after {\n",
       "  align-self: flex-start;\n",
       "  width: 50%;\n",
       "}\n",
       "\n",
       "#sk-container-id-1 div.sk-parallel-item:only-child::after {\n",
       "  width: 0;\n",
       "}\n",
       "\n",
       "/* Serial-specific style estimator block */\n",
       "\n",
       "#sk-container-id-1 div.sk-serial {\n",
       "  display: flex;\n",
       "  flex-direction: column;\n",
       "  align-items: center;\n",
       "  background-color: var(--sklearn-color-background);\n",
       "  padding-right: 1em;\n",
       "  padding-left: 1em;\n",
       "}\n",
       "\n",
       "\n",
       "/* Toggleable style: style used for estimator/Pipeline/ColumnTransformer box that is\n",
       "clickable and can be expanded/collapsed.\n",
       "- Pipeline and ColumnTransformer use this feature and define the default style\n",
       "- Estimators will overwrite some part of the style using the `sk-estimator` class\n",
       "*/\n",
       "\n",
       "/* Pipeline and ColumnTransformer style (default) */\n",
       "\n",
       "#sk-container-id-1 div.sk-toggleable {\n",
       "  /* Default theme specific background. It is overwritten whether we have a\n",
       "  specific estimator or a Pipeline/ColumnTransformer */\n",
       "  background-color: var(--sklearn-color-background);\n",
       "}\n",
       "\n",
       "/* Toggleable label */\n",
       "#sk-container-id-1 label.sk-toggleable__label {\n",
       "  cursor: pointer;\n",
       "  display: flex;\n",
       "  width: 100%;\n",
       "  margin-bottom: 0;\n",
       "  padding: 0.5em;\n",
       "  box-sizing: border-box;\n",
       "  text-align: center;\n",
       "  align-items: start;\n",
       "  justify-content: space-between;\n",
       "  gap: 0.5em;\n",
       "}\n",
       "\n",
       "#sk-container-id-1 label.sk-toggleable__label .caption {\n",
       "  font-size: 0.6rem;\n",
       "  font-weight: lighter;\n",
       "  color: var(--sklearn-color-text-muted);\n",
       "}\n",
       "\n",
       "#sk-container-id-1 label.sk-toggleable__label-arrow:before {\n",
       "  /* Arrow on the left of the label */\n",
       "  content: \"▸\";\n",
       "  float: left;\n",
       "  margin-right: 0.25em;\n",
       "  color: var(--sklearn-color-icon);\n",
       "}\n",
       "\n",
       "#sk-container-id-1 label.sk-toggleable__label-arrow:hover:before {\n",
       "  color: var(--sklearn-color-text);\n",
       "}\n",
       "\n",
       "/* Toggleable content - dropdown */\n",
       "\n",
       "#sk-container-id-1 div.sk-toggleable__content {\n",
       "  max-height: 0;\n",
       "  max-width: 0;\n",
       "  overflow: hidden;\n",
       "  text-align: left;\n",
       "  /* unfitted */\n",
       "  background-color: var(--sklearn-color-unfitted-level-0);\n",
       "}\n",
       "\n",
       "#sk-container-id-1 div.sk-toggleable__content.fitted {\n",
       "  /* fitted */\n",
       "  background-color: var(--sklearn-color-fitted-level-0);\n",
       "}\n",
       "\n",
       "#sk-container-id-1 div.sk-toggleable__content pre {\n",
       "  margin: 0.2em;\n",
       "  border-radius: 0.25em;\n",
       "  color: var(--sklearn-color-text);\n",
       "  /* unfitted */\n",
       "  background-color: var(--sklearn-color-unfitted-level-0);\n",
       "}\n",
       "\n",
       "#sk-container-id-1 div.sk-toggleable__content.fitted pre {\n",
       "  /* unfitted */\n",
       "  background-color: var(--sklearn-color-fitted-level-0);\n",
       "}\n",
       "\n",
       "#sk-container-id-1 input.sk-toggleable__control:checked~div.sk-toggleable__content {\n",
       "  /* Expand drop-down */\n",
       "  max-height: 200px;\n",
       "  max-width: 100%;\n",
       "  overflow: auto;\n",
       "}\n",
       "\n",
       "#sk-container-id-1 input.sk-toggleable__control:checked~label.sk-toggleable__label-arrow:before {\n",
       "  content: \"▾\";\n",
       "}\n",
       "\n",
       "/* Pipeline/ColumnTransformer-specific style */\n",
       "\n",
       "#sk-container-id-1 div.sk-label input.sk-toggleable__control:checked~label.sk-toggleable__label {\n",
       "  color: var(--sklearn-color-text);\n",
       "  background-color: var(--sklearn-color-unfitted-level-2);\n",
       "}\n",
       "\n",
       "#sk-container-id-1 div.sk-label.fitted input.sk-toggleable__control:checked~label.sk-toggleable__label {\n",
       "  background-color: var(--sklearn-color-fitted-level-2);\n",
       "}\n",
       "\n",
       "/* Estimator-specific style */\n",
       "\n",
       "/* Colorize estimator box */\n",
       "#sk-container-id-1 div.sk-estimator input.sk-toggleable__control:checked~label.sk-toggleable__label {\n",
       "  /* unfitted */\n",
       "  background-color: var(--sklearn-color-unfitted-level-2);\n",
       "}\n",
       "\n",
       "#sk-container-id-1 div.sk-estimator.fitted input.sk-toggleable__control:checked~label.sk-toggleable__label {\n",
       "  /* fitted */\n",
       "  background-color: var(--sklearn-color-fitted-level-2);\n",
       "}\n",
       "\n",
       "#sk-container-id-1 div.sk-label label.sk-toggleable__label,\n",
       "#sk-container-id-1 div.sk-label label {\n",
       "  /* The background is the default theme color */\n",
       "  color: var(--sklearn-color-text-on-default-background);\n",
       "}\n",
       "\n",
       "/* On hover, darken the color of the background */\n",
       "#sk-container-id-1 div.sk-label:hover label.sk-toggleable__label {\n",
       "  color: var(--sklearn-color-text);\n",
       "  background-color: var(--sklearn-color-unfitted-level-2);\n",
       "}\n",
       "\n",
       "/* Label box, darken color on hover, fitted */\n",
       "#sk-container-id-1 div.sk-label.fitted:hover label.sk-toggleable__label.fitted {\n",
       "  color: var(--sklearn-color-text);\n",
       "  background-color: var(--sklearn-color-fitted-level-2);\n",
       "}\n",
       "\n",
       "/* Estimator label */\n",
       "\n",
       "#sk-container-id-1 div.sk-label label {\n",
       "  font-family: monospace;\n",
       "  font-weight: bold;\n",
       "  display: inline-block;\n",
       "  line-height: 1.2em;\n",
       "}\n",
       "\n",
       "#sk-container-id-1 div.sk-label-container {\n",
       "  text-align: center;\n",
       "}\n",
       "\n",
       "/* Estimator-specific */\n",
       "#sk-container-id-1 div.sk-estimator {\n",
       "  font-family: monospace;\n",
       "  border: 1px dotted var(--sklearn-color-border-box);\n",
       "  border-radius: 0.25em;\n",
       "  box-sizing: border-box;\n",
       "  margin-bottom: 0.5em;\n",
       "  /* unfitted */\n",
       "  background-color: var(--sklearn-color-unfitted-level-0);\n",
       "}\n",
       "\n",
       "#sk-container-id-1 div.sk-estimator.fitted {\n",
       "  /* fitted */\n",
       "  background-color: var(--sklearn-color-fitted-level-0);\n",
       "}\n",
       "\n",
       "/* on hover */\n",
       "#sk-container-id-1 div.sk-estimator:hover {\n",
       "  /* unfitted */\n",
       "  background-color: var(--sklearn-color-unfitted-level-2);\n",
       "}\n",
       "\n",
       "#sk-container-id-1 div.sk-estimator.fitted:hover {\n",
       "  /* fitted */\n",
       "  background-color: var(--sklearn-color-fitted-level-2);\n",
       "}\n",
       "\n",
       "/* Specification for estimator info (e.g. \"i\" and \"?\") */\n",
       "\n",
       "/* Common style for \"i\" and \"?\" */\n",
       "\n",
       ".sk-estimator-doc-link,\n",
       "a:link.sk-estimator-doc-link,\n",
       "a:visited.sk-estimator-doc-link {\n",
       "  float: right;\n",
       "  font-size: smaller;\n",
       "  line-height: 1em;\n",
       "  font-family: monospace;\n",
       "  background-color: var(--sklearn-color-background);\n",
       "  border-radius: 1em;\n",
       "  height: 1em;\n",
       "  width: 1em;\n",
       "  text-decoration: none !important;\n",
       "  margin-left: 0.5em;\n",
       "  text-align: center;\n",
       "  /* unfitted */\n",
       "  border: var(--sklearn-color-unfitted-level-1) 1pt solid;\n",
       "  color: var(--sklearn-color-unfitted-level-1);\n",
       "}\n",
       "\n",
       ".sk-estimator-doc-link.fitted,\n",
       "a:link.sk-estimator-doc-link.fitted,\n",
       "a:visited.sk-estimator-doc-link.fitted {\n",
       "  /* fitted */\n",
       "  border: var(--sklearn-color-fitted-level-1) 1pt solid;\n",
       "  color: var(--sklearn-color-fitted-level-1);\n",
       "}\n",
       "\n",
       "/* On hover */\n",
       "div.sk-estimator:hover .sk-estimator-doc-link:hover,\n",
       ".sk-estimator-doc-link:hover,\n",
       "div.sk-label-container:hover .sk-estimator-doc-link:hover,\n",
       ".sk-estimator-doc-link:hover {\n",
       "  /* unfitted */\n",
       "  background-color: var(--sklearn-color-unfitted-level-3);\n",
       "  color: var(--sklearn-color-background);\n",
       "  text-decoration: none;\n",
       "}\n",
       "\n",
       "div.sk-estimator.fitted:hover .sk-estimator-doc-link.fitted:hover,\n",
       ".sk-estimator-doc-link.fitted:hover,\n",
       "div.sk-label-container:hover .sk-estimator-doc-link.fitted:hover,\n",
       ".sk-estimator-doc-link.fitted:hover {\n",
       "  /* fitted */\n",
       "  background-color: var(--sklearn-color-fitted-level-3);\n",
       "  color: var(--sklearn-color-background);\n",
       "  text-decoration: none;\n",
       "}\n",
       "\n",
       "/* Span, style for the box shown on hovering the info icon */\n",
       ".sk-estimator-doc-link span {\n",
       "  display: none;\n",
       "  z-index: 9999;\n",
       "  position: relative;\n",
       "  font-weight: normal;\n",
       "  right: .2ex;\n",
       "  padding: .5ex;\n",
       "  margin: .5ex;\n",
       "  width: min-content;\n",
       "  min-width: 20ex;\n",
       "  max-width: 50ex;\n",
       "  color: var(--sklearn-color-text);\n",
       "  box-shadow: 2pt 2pt 4pt #999;\n",
       "  /* unfitted */\n",
       "  background: var(--sklearn-color-unfitted-level-0);\n",
       "  border: .5pt solid var(--sklearn-color-unfitted-level-3);\n",
       "}\n",
       "\n",
       ".sk-estimator-doc-link.fitted span {\n",
       "  /* fitted */\n",
       "  background: var(--sklearn-color-fitted-level-0);\n",
       "  border: var(--sklearn-color-fitted-level-3);\n",
       "}\n",
       "\n",
       ".sk-estimator-doc-link:hover span {\n",
       "  display: block;\n",
       "}\n",
       "\n",
       "/* \"?\"-specific style due to the `<a>` HTML tag */\n",
       "\n",
       "#sk-container-id-1 a.estimator_doc_link {\n",
       "  float: right;\n",
       "  font-size: 1rem;\n",
       "  line-height: 1em;\n",
       "  font-family: monospace;\n",
       "  background-color: var(--sklearn-color-background);\n",
       "  border-radius: 1rem;\n",
       "  height: 1rem;\n",
       "  width: 1rem;\n",
       "  text-decoration: none;\n",
       "  /* unfitted */\n",
       "  color: var(--sklearn-color-unfitted-level-1);\n",
       "  border: var(--sklearn-color-unfitted-level-1) 1pt solid;\n",
       "}\n",
       "\n",
       "#sk-container-id-1 a.estimator_doc_link.fitted {\n",
       "  /* fitted */\n",
       "  border: var(--sklearn-color-fitted-level-1) 1pt solid;\n",
       "  color: var(--sklearn-color-fitted-level-1);\n",
       "}\n",
       "\n",
       "/* On hover */\n",
       "#sk-container-id-1 a.estimator_doc_link:hover {\n",
       "  /* unfitted */\n",
       "  background-color: var(--sklearn-color-unfitted-level-3);\n",
       "  color: var(--sklearn-color-background);\n",
       "  text-decoration: none;\n",
       "}\n",
       "\n",
       "#sk-container-id-1 a.estimator_doc_link.fitted:hover {\n",
       "  /* fitted */\n",
       "  background-color: var(--sklearn-color-fitted-level-3);\n",
       "}\n",
       "</style><div id=\"sk-container-id-1\" class=\"sk-top-container\"><div class=\"sk-text-repr-fallback\"><pre>LogisticRegression(C=99999, penalty=None, solver=&#x27;saga&#x27;)</pre><b>In a Jupyter environment, please rerun this cell to show the HTML representation or trust the notebook. <br />On GitHub, the HTML representation is unable to render, please try loading this page with nbviewer.org.</b></div><div class=\"sk-container\" hidden><div class=\"sk-item\"><div class=\"sk-estimator fitted sk-toggleable\"><input class=\"sk-toggleable__control sk-hidden--visually\" id=\"sk-estimator-id-1\" type=\"checkbox\" checked><label for=\"sk-estimator-id-1\" class=\"sk-toggleable__label fitted sk-toggleable__label-arrow\"><div><div>LogisticRegression</div></div><div><a class=\"sk-estimator-doc-link fitted\" rel=\"noreferrer\" target=\"_blank\" href=\"https://scikit-learn.org/1.6/modules/generated/sklearn.linear_model.LogisticRegression.html\">?<span>Documentation for LogisticRegression</span></a><span class=\"sk-estimator-doc-link fitted\">i<span>Fitted</span></span></div></label><div class=\"sk-toggleable__content fitted\"><pre>LogisticRegression(C=99999, penalty=None, solver=&#x27;saga&#x27;)</pre></div> </div></div></div></div>"
      ],
      "text/plain": [
       "LogisticRegression(C=99999, penalty=None, solver='saga')"
      ]
     },
     "execution_count": 7,
     "metadata": {},
     "output_type": "execute_result"
    }
   ],
   "source": [
    "from sklearn.linear_model import LogisticRegression\n",
    "\n",
    "log_reg_sk= LogisticRegression(penalty=None, C=99999, solver=\"saga\")\n",
    "log_reg_sk.fit(Xtrain, ytrain)"
   ]
  },
  {
   "cell_type": "code",
   "execution_count": 8,
   "id": "f5a8082c",
   "metadata": {},
   "outputs": [
    {
     "name": "stdout",
     "output_type": "stream",
     "text": [
      "[-1.39248857]\n",
      "[[ 0.6824754   0.5353565   0.6363676   0.88731919  0.65011516  0.22695381\n",
      "   0.91335388  0.5689844   0.60373196  0.46776623  0.46249377 -0.27359909]]\n"
     ]
    }
   ],
   "source": [
    "print(log_reg_sk.intercept_)\n",
    "print(log_reg_sk.coef_)"
   ]
  },
  {
   "cell_type": "code",
   "execution_count": 9,
   "id": "b0d03f10",
   "metadata": {},
   "outputs": [
    {
     "data": {
      "text/plain": [
       "['../outputs/sk_log_reg.gz']"
      ]
     },
     "execution_count": 9,
     "metadata": {},
     "output_type": "execute_result"
    }
   ],
   "source": [
    "import joblib\n",
    "joblib.dump(log_reg_sk, f\"{output_path}sk_log_reg.gz\")"
   ]
  },
  {
   "cell_type": "markdown",
   "id": "ed2629b1",
   "metadata": {},
   "source": [
    "## Stats Model"
   ]
  },
  {
   "cell_type": "code",
   "execution_count": 13,
   "id": "4826c69a",
   "metadata": {},
   "outputs": [
    {
     "name": "stdout",
     "output_type": "stream",
     "text": [
      "Optimization terminated successfully.\n",
      "         Current function value: 0.452541\n",
      "         Iterations 6\n"
     ]
    },
    {
     "data": {
      "text/html": [
       "<table class=\"simpletable\">\n",
       "<caption>Logit Regression Results</caption>\n",
       "<tr>\n",
       "  <th>Dep. Variable:</th>     <td>default_flag</td>   <th>  No. Observations:  </th>   <td>809048</td>   \n",
       "</tr>\n",
       "<tr>\n",
       "  <th>Model:</th>                 <td>Logit</td>      <th>  Df Residuals:      </th>   <td>809035</td>   \n",
       "</tr>\n",
       "<tr>\n",
       "  <th>Method:</th>                 <td>MLE</td>       <th>  Df Model:          </th>   <td>    12</td>   \n",
       "</tr>\n",
       "<tr>\n",
       "  <th>Date:</th>            <td>Mon, 09 Jun 2025</td> <th>  Pseudo R-squ.:     </th>   <td>0.09411</td>  \n",
       "</tr>\n",
       "<tr>\n",
       "  <th>Time:</th>                <td>10:38:23</td>     <th>  Log-Likelihood:    </th> <td>-3.6613e+05</td>\n",
       "</tr>\n",
       "<tr>\n",
       "  <th>converged:</th>             <td>True</td>       <th>  LL-Null:           </th> <td>-4.0416e+05</td>\n",
       "</tr>\n",
       "<tr>\n",
       "  <th>Covariance Type:</th>     <td>nonrobust</td>    <th>  LLR p-value:       </th>   <td> 0.000</td>   \n",
       "</tr>\n",
       "</table>\n",
       "<table class=\"simpletable\">\n",
       "<tr>\n",
       "             <td></td>                <th>coef</th>     <th>std err</th>      <th>z</th>      <th>P>|z|</th>  <th>[0.025</th>    <th>0.975]</th>  \n",
       "</tr>\n",
       "<tr>\n",
       "  <th>const</th>                   <td>   -1.3925</td> <td>    0.003</td> <td> -463.422</td> <td> 0.000</td> <td>   -1.398</td> <td>   -1.387</td>\n",
       "</tr>\n",
       "<tr>\n",
       "  <th>funded_amnt_woe</th>         <td>    0.6825</td> <td>    0.020</td> <td>   33.474</td> <td> 0.000</td> <td>    0.643</td> <td>    0.722</td>\n",
       "</tr>\n",
       "<tr>\n",
       "  <th>term_woe</th>                <td>    0.5354</td> <td>    0.008</td> <td>   64.282</td> <td> 0.000</td> <td>    0.519</td> <td>    0.552</td>\n",
       "</tr>\n",
       "<tr>\n",
       "  <th>sub_grade_woe</th>           <td>    0.6364</td> <td>    0.006</td> <td>  110.500</td> <td> 0.000</td> <td>    0.625</td> <td>    0.648</td>\n",
       "</tr>\n",
       "<tr>\n",
       "  <th>home_ownership_woe</th>      <td>    0.8873</td> <td>    0.018</td> <td>   50.464</td> <td> 0.000</td> <td>    0.853</td> <td>    0.922</td>\n",
       "</tr>\n",
       "<tr>\n",
       "  <th>annual_inc_woe</th>          <td>    0.6501</td> <td>    0.021</td> <td>   30.764</td> <td> 0.000</td> <td>    0.609</td> <td>    0.691</td>\n",
       "</tr>\n",
       "<tr>\n",
       "  <th>verification_status_woe</th> <td>    0.2270</td> <td>    0.013</td> <td>   16.931</td> <td> 0.000</td> <td>    0.201</td> <td>    0.253</td>\n",
       "</tr>\n",
       "<tr>\n",
       "  <th>zip_code_woe</th>            <td>    0.9134</td> <td>    0.016</td> <td>   57.019</td> <td> 0.000</td> <td>    0.882</td> <td>    0.945</td>\n",
       "</tr>\n",
       "<tr>\n",
       "  <th>dti_woe</th>                 <td>    0.5690</td> <td>    0.011</td> <td>   50.103</td> <td> 0.000</td> <td>    0.547</td> <td>    0.591</td>\n",
       "</tr>\n",
       "<tr>\n",
       "  <th>earliest_cr_line_woe</th>    <td>    0.6038</td> <td>    0.020</td> <td>   29.868</td> <td> 0.000</td> <td>    0.564</td> <td>    0.643</td>\n",
       "</tr>\n",
       "<tr>\n",
       "  <th>fico_range_low_woe</th>      <td>    0.4678</td> <td>    0.011</td> <td>   42.922</td> <td> 0.000</td> <td>    0.446</td> <td>    0.489</td>\n",
       "</tr>\n",
       "<tr>\n",
       "  <th>inq_last_6mths_woe</th>      <td>    0.4625</td> <td>    0.018</td> <td>   25.425</td> <td> 0.000</td> <td>    0.427</td> <td>    0.498</td>\n",
       "</tr>\n",
       "<tr>\n",
       "  <th>revol_util_woe</th>          <td>   -0.2736</td> <td>    0.022</td> <td>  -12.408</td> <td> 0.000</td> <td>   -0.317</td> <td>   -0.230</td>\n",
       "</tr>\n",
       "</table>"
      ],
      "text/latex": [
       "\\begin{center}\n",
       "\\begin{tabular}{lclc}\n",
       "\\toprule\n",
       "\\textbf{Dep. Variable:}            &  default\\_flag   & \\textbf{  No. Observations:  } &    809048    \\\\\n",
       "\\textbf{Model:}                    &      Logit       & \\textbf{  Df Residuals:      } &    809035    \\\\\n",
       "\\textbf{Method:}                   &       MLE        & \\textbf{  Df Model:          } &        12    \\\\\n",
       "\\textbf{Date:}                     & Mon, 09 Jun 2025 & \\textbf{  Pseudo R-squ.:     } &   0.09411    \\\\\n",
       "\\textbf{Time:}                     &     10:38:23     & \\textbf{  Log-Likelihood:    } & -3.6613e+05  \\\\\n",
       "\\textbf{converged:}                &       True       & \\textbf{  LL-Null:           } & -4.0416e+05  \\\\\n",
       "\\textbf{Covariance Type:}          &    nonrobust     & \\textbf{  LLR p-value:       } &     0.000    \\\\\n",
       "\\bottomrule\n",
       "\\end{tabular}\n",
       "\\begin{tabular}{lcccccc}\n",
       "                                   & \\textbf{coef} & \\textbf{std err} & \\textbf{z} & \\textbf{P$> |$z$|$} & \\textbf{[0.025} & \\textbf{0.975]}  \\\\\n",
       "\\midrule\n",
       "\\textbf{const}                     &      -1.3925  &        0.003     &  -463.422  &         0.000        &       -1.398    &       -1.387     \\\\\n",
       "\\textbf{funded\\_amnt\\_woe}         &       0.6825  &        0.020     &    33.474  &         0.000        &        0.643    &        0.722     \\\\\n",
       "\\textbf{term\\_woe}                 &       0.5354  &        0.008     &    64.282  &         0.000        &        0.519    &        0.552     \\\\\n",
       "\\textbf{sub\\_grade\\_woe}           &       0.6364  &        0.006     &   110.500  &         0.000        &        0.625    &        0.648     \\\\\n",
       "\\textbf{home\\_ownership\\_woe}      &       0.8873  &        0.018     &    50.464  &         0.000        &        0.853    &        0.922     \\\\\n",
       "\\textbf{annual\\_inc\\_woe}          &       0.6501  &        0.021     &    30.764  &         0.000        &        0.609    &        0.691     \\\\\n",
       "\\textbf{verification\\_status\\_woe} &       0.2270  &        0.013     &    16.931  &         0.000        &        0.201    &        0.253     \\\\\n",
       "\\textbf{zip\\_code\\_woe}            &       0.9134  &        0.016     &    57.019  &         0.000        &        0.882    &        0.945     \\\\\n",
       "\\textbf{dti\\_woe}                  &       0.5690  &        0.011     &    50.103  &         0.000        &        0.547    &        0.591     \\\\\n",
       "\\textbf{earliest\\_cr\\_line\\_woe}   &       0.6038  &        0.020     &    29.868  &         0.000        &        0.564    &        0.643     \\\\\n",
       "\\textbf{fico\\_range\\_low\\_woe}     &       0.4678  &        0.011     &    42.922  &         0.000        &        0.446    &        0.489     \\\\\n",
       "\\textbf{inq\\_last\\_6mths\\_woe}     &       0.4625  &        0.018     &    25.425  &         0.000        &        0.427    &        0.498     \\\\\n",
       "\\textbf{revol\\_util\\_woe}          &      -0.2736  &        0.022     &   -12.408  &         0.000        &       -0.317    &       -0.230     \\\\\n",
       "\\bottomrule\n",
       "\\end{tabular}\n",
       "%\\caption{Logit Regression Results}\n",
       "\\end{center}"
      ],
      "text/plain": [
       "<class 'statsmodels.iolib.summary.Summary'>\n",
       "\"\"\"\n",
       "                           Logit Regression Results                           \n",
       "==============================================================================\n",
       "Dep. Variable:           default_flag   No. Observations:               809048\n",
       "Model:                          Logit   Df Residuals:                   809035\n",
       "Method:                           MLE   Df Model:                           12\n",
       "Date:                Mon, 09 Jun 2025   Pseudo R-squ.:                 0.09411\n",
       "Time:                        10:38:23   Log-Likelihood:            -3.6613e+05\n",
       "converged:                       True   LL-Null:                   -4.0416e+05\n",
       "Covariance Type:            nonrobust   LLR p-value:                     0.000\n",
       "===========================================================================================\n",
       "                              coef    std err          z      P>|z|      [0.025      0.975]\n",
       "-------------------------------------------------------------------------------------------\n",
       "const                      -1.3925      0.003   -463.422      0.000      -1.398      -1.387\n",
       "funded_amnt_woe             0.6825      0.020     33.474      0.000       0.643       0.722\n",
       "term_woe                    0.5354      0.008     64.282      0.000       0.519       0.552\n",
       "sub_grade_woe               0.6364      0.006    110.500      0.000       0.625       0.648\n",
       "home_ownership_woe          0.8873      0.018     50.464      0.000       0.853       0.922\n",
       "annual_inc_woe              0.6501      0.021     30.764      0.000       0.609       0.691\n",
       "verification_status_woe     0.2270      0.013     16.931      0.000       0.201       0.253\n",
       "zip_code_woe                0.9134      0.016     57.019      0.000       0.882       0.945\n",
       "dti_woe                     0.5690      0.011     50.103      0.000       0.547       0.591\n",
       "earliest_cr_line_woe        0.6038      0.020     29.868      0.000       0.564       0.643\n",
       "fico_range_low_woe          0.4678      0.011     42.922      0.000       0.446       0.489\n",
       "inq_last_6mths_woe          0.4625      0.018     25.425      0.000       0.427       0.498\n",
       "revol_util_woe             -0.2736      0.022    -12.408      0.000      -0.317      -0.230\n",
       "===========================================================================================\n",
       "\"\"\""
      ]
     },
     "execution_count": 13,
     "metadata": {},
     "output_type": "execute_result"
    }
   ],
   "source": [
    "import statsmodels.api as sm\n",
    "Xtrain_cons = sm.add_constant(Xtrain)\n",
    "log_reg = sm.Logit(ytrain, Xtrain_cons).fit()\n",
    "log_reg.summary()"
   ]
  },
  {
   "cell_type": "markdown",
   "id": "eee5e1c9",
   "metadata": {},
   "source": [
    "## Pyspark ML"
   ]
  },
  {
   "cell_type": "code",
   "execution_count": null,
   "id": "a7355e16",
   "metadata": {},
   "outputs": [
    {
     "name": "stderr",
     "output_type": "stream",
     "text": [
      "25/06/09 10:54:01 WARN Instrumentation: [872d0bf2] regParam is zero, which might cause numerical instability and overfitting.\n",
      "25/06/09 10:54:08 WARN Instrumentation: [872d0bf2] regParam is zero, which might cause numerical instability and overfitting.\n",
      "25/06/09 10:54:14 WARN Instrumentation: [872d0bf2] regParam is zero, which might cause numerical instability and overfitting.\n",
      "25/06/09 10:54:18 WARN Instrumentation: [872d0bf2] regParam is zero, which might cause numerical instability and overfitting.\n",
      "25/06/09 10:54:23 WARN Instrumentation: [872d0bf2] regParam is zero, which might cause numerical instability and overfitting.\n",
      "25/06/09 10:54:27 WARN Instrumentation: [872d0bf2] regParam is zero, which might cause numerical instability and overfitting.\n",
      "25/06/09 10:54:31 WARN Instrumentation: [872d0bf2] regParam is zero, which might cause numerical instability and overfitting.\n",
      "                                                                                \r"
     ]
    }
   ],
   "source": [
    "selected_cols = \\\n",
    "['funded_amnt_woe',\n",
    " 'term_woe',\n",
    " 'sub_grade_woe',\n",
    " 'home_ownership_woe',\n",
    " 'annual_inc_woe',\n",
    " 'verification_status_woe',\n",
    " 'zip_code_woe',\n",
    " 'dti_woe',\n",
    " 'earliest_cr_line_woe',\n",
    " 'fico_range_low_woe',\n",
    " 'inq_last_6mths_woe',\n",
    " 'revol_util_woe']\n",
    "\n",
    "target_col = \"default_flag\"\n",
    "\n",
    "vectoriser = VectorAssembler(inputCols=selected_cols, outputCol=\"features\")\n",
    "glr = GeneralizedLinearRegression(family=\"binomial\", \n",
    "                                  link=\"logit\", \n",
    "                                  maxIter=10, \n",
    "                                  regParam=0, \n",
    "                                  featuresCol=\"features\",\n",
    "                                  labelCol=target_col)\n",
    "\n",
    "pipeline = Pipeline(stages=[vectoriser, glr])\n",
    "\n",
    "\n",
    "model = pipeline.fit(train_data)"
   ]
  },
  {
   "cell_type": "code",
   "execution_count": 30,
   "id": "46a2930e",
   "metadata": {},
   "outputs": [
    {
     "name": "stderr",
     "output_type": "stream",
     "text": [
      "                                                                                \r"
     ]
    },
    {
     "data": {
      "text/plain": [
       "Coefficients:\n",
       "             Feature Estimate Std Error   T Value P Value\n",
       "         (Intercept)  -1.3925    0.0030 -463.4218  0.0000\n",
       "     funded_amnt_woe   0.6825    0.0204   33.4737  0.0000\n",
       "            term_woe   0.5354    0.0083   64.2819  0.0000\n",
       "       sub_grade_woe   0.6364    0.0058  110.4996  0.0000\n",
       "  home_ownership_woe   0.8873    0.0176   50.4644  0.0000\n",
       "      annual_inc_woe   0.6501    0.0211   30.7642  0.0000\n",
       "verification_stat...   0.2270    0.0134   16.9309  0.0000\n",
       "        zip_code_woe   0.9134    0.0160   57.0190  0.0000\n",
       "             dti_woe   0.5690    0.0114   50.1032  0.0000\n",
       "earliest_cr_line_woe   0.6038    0.0202   29.8682  0.0000\n",
       "  fico_range_low_woe   0.4678    0.0109   42.9222  0.0000\n",
       "  inq_last_6mths_woe   0.4625    0.0182   25.4253  0.0000\n",
       "      revol_util_woe  -0.2736    0.0220  -12.4080  0.0000\n",
       "\n",
       "(Dispersion parameter for binomial family taken to be 1.0000)\n",
       "    Null deviance: 808325.9463 on 809035 degrees of freedom\n",
       "Residual deviance: 732254.3396 on 809035 degrees of freedom\n",
       "AIC: 732280.3396"
      ]
     },
     "execution_count": 30,
     "metadata": {},
     "output_type": "execute_result"
    }
   ],
   "source": [
    "model.stages[1].summary"
   ]
  },
  {
   "cell_type": "code",
   "execution_count": 50,
   "id": "f3de1845",
   "metadata": {},
   "outputs": [
    {
     "name": "stderr",
     "output_type": "stream",
     "text": [
      "[Stage 51:==============================================>           (4 + 1) / 5]\r"
     ]
    },
    {
     "name": "stdout",
     "output_type": "stream",
     "text": [
      "+-------------------+-------------------+\n",
      "|             actual|               pred|\n",
      "+-------------------+-------------------+\n",
      "|0.19938866420780968|0.19938866420781015|\n",
      "+-------------------+-------------------+\n",
      "\n"
     ]
    },
    {
     "name": "stderr",
     "output_type": "stream",
     "text": [
      "                                                                                \r"
     ]
    }
   ],
   "source": [
    "model\\\n",
    "    .transform(train_data)\\\n",
    "    .agg(avg(target_col).alias(\"actual\"),\n",
    "         avg(\"prediction\").alias(\"pred\"))\\\n",
    "    .show()"
   ]
  },
  {
   "cell_type": "code",
   "execution_count": 51,
   "id": "0df07d45",
   "metadata": {},
   "outputs": [
    {
     "name": "stderr",
     "output_type": "stream",
     "text": [
      "[Stage 54:===========================================>              (3 + 1) / 4]\r"
     ]
    },
    {
     "name": "stdout",
     "output_type": "stream",
     "text": [
      "+-------------------+-------------------+\n",
      "|             actual|               pred|\n",
      "+-------------------+-------------------+\n",
      "|0.20043558030687264|0.19942816374955474|\n",
      "+-------------------+-------------------+\n",
      "\n"
     ]
    },
    {
     "name": "stderr",
     "output_type": "stream",
     "text": [
      "                                                                                \r"
     ]
    }
   ],
   "source": [
    "test_data\\\n",
    "    .transform(model.transform)\\\n",
    "    .agg(avg(target_col).alias(\"actual\"),\n",
    "         avg(\"prediction\").alias(\"pred\"))\\\n",
    "    .show()"
   ]
  },
  {
   "cell_type": "code",
   "execution_count": null,
   "id": "76252813",
   "metadata": {},
   "outputs": [
    {
     "data": {
      "text/plain": [
       "Coefficients:\n",
       "             Feature Estimate Std Error   T Value P Value\n",
       "         (Intercept)  -1.3925    0.0030 -463.4218  0.0000\n",
       "     funded_amnt_woe   0.6825    0.0204   33.4737  0.0000\n",
       "            term_woe   0.5354    0.0083   64.2819  0.0000\n",
       "       sub_grade_woe   0.6364    0.0058  110.4996  0.0000\n",
       "  home_ownership_woe   0.8873    0.0176   50.4644  0.0000\n",
       "      annual_inc_woe   0.6501    0.0211   30.7642  0.0000\n",
       "verification_stat...   0.2270    0.0134   16.9309  0.0000\n",
       "        zip_code_woe   0.9134    0.0160   57.0190  0.0000\n",
       "             dti_woe   0.5690    0.0114   50.1032  0.0000\n",
       "earliest_cr_line_woe   0.6038    0.0202   29.8682  0.0000\n",
       "  fico_range_low_woe   0.4678    0.0109   42.9222  0.0000\n",
       "  inq_last_6mths_woe   0.4625    0.0182   25.4253  0.0000\n",
       "      revol_util_woe  -0.2736    0.0220  -12.4080  0.0000\n",
       "\n",
       "(Dispersion parameter for binomial family taken to be 1.0000)\n",
       "    Null deviance: 808325.9463 on 809035 degrees of freedom\n",
       "Residual deviance: 732254.3396 on 809035 degrees of freedom\n",
       "AIC: 732280.3396"
      ]
     },
     "execution_count": 63,
     "metadata": {},
     "output_type": "execute_result"
    }
   ],
   "source": [
    "model.stages[1].summary"
   ]
  },
  {
   "cell_type": "code",
   "execution_count": 57,
   "id": "7e483fcc",
   "metadata": {},
   "outputs": [
    {
     "name": "stderr",
     "output_type": "stream",
     "text": [
      "                                                                                \r"
     ]
    }
   ],
   "source": [
    "model.save(f\"{output_path}_log_reg.gz\")"
   ]
  },
  {
   "cell_type": "code",
   "execution_count": null,
   "id": "2f6398a9",
   "metadata": {},
   "outputs": [],
   "source": [
    "pipe = PipelineModel.load(f\"{output_path}_log_reg.gz\")"
   ]
  },
  {
   "cell_type": "code",
   "execution_count": 82,
   "id": "4c302c1a",
   "metadata": {},
   "outputs": [
    {
     "data": {
      "text/plain": [
       "DenseVector([0.6825, 0.5354, 0.6364, 0.8873, 0.6501, 0.227, 0.9134, 0.569, 0.6038, 0.4678, 0.4625, -0.2736])"
      ]
     },
     "execution_count": 82,
     "metadata": {},
     "output_type": "execute_result"
    }
   ],
   "source": [
    "pipe.stages[-1].coefficients"
   ]
  },
  {
   "cell_type": "code",
   "execution_count": null,
   "id": "d579904c",
   "metadata": {},
   "outputs": [],
   "source": [
    "dt = spark.read.parquet(f\"{output_path}/_log_reg.gz/stages/1_GeneralizedLinearRegression_bbc52cf66d2b/data\")"
   ]
  },
  {
   "cell_type": "code",
   "execution_count": 101,
   "id": "cf247bc6",
   "metadata": {},
   "outputs": [
    {
     "name": "stderr",
     "output_type": "stream",
     "text": [
      "[Stage 140:>                                                        (0 + 1) / 1]\r"
     ]
    },
    {
     "name": "stdout",
     "output_type": "stream",
     "text": [
      "+-------------------+------------------+------------------+--------------------+------------------+------------------+------------------+-------------------+-------------------+------------------+-----------------+-----------------------+------------------+\n",
      "|          intercept|    annual_inc_woe|           dti_woe|earliest_cr_line_woe|fico_range_low_woe|   funded_amnt_woe|home_ownership_woe| inq_last_6mths_woe|     revol_util_woe|     sub_grade_woe|         term_woe|verification_status_woe|      zip_code_woe|\n",
      "+-------------------+------------------+------------------+--------------------+------------------+------------------+------------------+-------------------+-------------------+------------------+-----------------+-----------------------+------------------+\n",
      "|-1.3924913836320794|0.6500697919534217|0.5690049329222368|  0.6037555702965285|0.4677702711714637|0.6824781085590917|0.8872963663697023|0.46248972965391955|-0.2735607855371191|0.6363798884908634|0.535351288968826|    0.22697144408561548|0.9133677666299737|\n",
      "+-------------------+------------------+------------------+--------------------+------------------+------------------+------------------+-------------------+-------------------+------------------+-----------------+-----------------------+------------------+\n",
      "\n"
     ]
    },
    {
     "name": "stderr",
     "output_type": "stream",
     "text": [
      "                                                                                \r"
     ]
    }
   ],
   "source": [
    "dt\\\n",
    ".withColumn(\"features\", lit(pipe.stages[0].getInputCols()))\\\n",
    ".withColumn(\"temp\", explode(F.arrays_zip(\"features\", vector_to_array(\"coefficients\").alias(\"coefficients\"))))\\\n",
    ".withColumn(\"features\", F.col(\"temp.features\"))\\\n",
    ".withColumn(\"coefficients\", F.col(\"temp.coefficients\"))\\\n",
    ".drop(\"temp\")\\\n",
    ".groupBy(\"intercept\")\\\n",
    ".pivot(\"features\")\\\n",
    ".agg(sum(\"coefficients\"))\\\n",
    ".show()"
   ]
  },
  {
   "cell_type": "code",
   "execution_count": 81,
   "id": "7f0b1a59",
   "metadata": {},
   "outputs": [
    {
     "data": {
      "text/plain": [
       "['funded_amnt_woe',\n",
       " 'term_woe',\n",
       " 'sub_grade_woe',\n",
       " 'home_ownership_woe',\n",
       " 'annual_inc_woe',\n",
       " 'verification_status_woe',\n",
       " 'zip_code_woe',\n",
       " 'dti_woe',\n",
       " 'earliest_cr_line_woe',\n",
       " 'fico_range_low_woe',\n",
       " 'inq_last_6mths_woe',\n",
       " 'revol_util_woe']"
      ]
     },
     "execution_count": 81,
     "metadata": {},
     "output_type": "execute_result"
    }
   ],
   "source": [
    "pipe.stages[0].getInputCols()"
   ]
  },
  {
   "cell_type": "code",
   "execution_count": 104,
   "id": "971cc4c0",
   "metadata": {},
   "outputs": [
    {
     "data": {
      "text/plain": [
       "Param(parent='GeneralizedLinearRegression_bbc52cf66d2b', name='link', doc='The name of link function which provides the relationship between the linear predictor and the mean of the distribution function. Supported options: identity, log, inverse, logit, probit, cloglog and sqrt.')"
      ]
     },
     "execution_count": 104,
     "metadata": {},
     "output_type": "execute_result"
    }
   ],
   "source": [
    "model.stages[1].getParam(\"link\")"
   ]
  },
  {
   "cell_type": "markdown",
   "id": "f3dd4321",
   "metadata": {},
   "source": [
    "## Pyspark ML Pipe"
   ]
  },
  {
   "cell_type": "code",
   "execution_count": 5,
   "id": "6cd6e60c",
   "metadata": {},
   "outputs": [
    {
     "name": "stderr",
     "output_type": "stream",
     "text": [
      "                                                                                \r"
     ]
    }
   ],
   "source": [
    "woe_df = spark.read.parquet(f\"{output_path}woe_df.parquet\")\n",
    "raw_train_df = spark.read.parquet(f\"{output_path}raw_train.parquet\")"
   ]
  },
  {
   "cell_type": "code",
   "execution_count": null,
   "id": "19c95fed",
   "metadata": {},
   "outputs": [],
   "source": [
    "from pyspark.ml.util import DefaultParamsReadable, DefaultParamsWritable\n",
    "from pyspark.ml import Transformer\n",
    "from pyspark.ml.param.shared import HasInputCols, HasOutputCols, Param, Params, TypeConverters\n",
    "from pyspark.ml.util import MLReadable, MLWritable\n",
    "from pyspark import keyword_only\n",
    "\n",
    "\n",
    "class addWoeFromSavedDF(Transformer, HasInputCols, DefaultParamsReadable, DefaultParamsWritable,\n",
    "                        MLReadable, MLWritable):\n",
    "    \n",
    "    @keyword_only\n",
    "    def __init__(self,\n",
    "                 woe_df_path: str=None,\n",
    "                 inputCols: list=None):\n",
    "        super(addWoeFromSavedDF, self).__init__()\n",
    "        kwargs = self._input_kwargs\n",
    "        self.woe_df_path = Param(self, \"woe_df_path\", \"\")\n",
    "        self.inputCols = Param(self, \"inputCols\", \"\")\n",
    "        self.setParams(**kwargs)\n",
    "        self.build_dict_flag = True\n",
    "    \n",
    "    @keyword_only\n",
    "    def setParams(self, woe_df_path=None, inputCols=None):\n",
    "        kwargs = self._input_kwargs\n",
    "        return self._set(**kwargs)\n",
    "    \n",
    "    def setInputCols(self, value):\n",
    "        \"\"\"\n",
    "        Sets the value of :py:attr:`inputCols`.\n",
    "        \"\"\"\n",
    "        return self._set(inputCols=value)\n",
    "    \n",
    "    def buildDicts(self):\n",
    "        self.woe_df = spark.read.parquet(self.getOrDefault(\"woe_df_path\"))\n",
    "        self.col_types = self.woe_df\\\n",
    "                        .select(\"column\", \"type\")\\\n",
    "                        .distinct()\\\n",
    "                        .toPandas()\\\n",
    "                        .set_index(\"column\")\\\n",
    "                        .to_dict()['type']\n",
    "        \n",
    "        self.splits = self.woe_df\\\n",
    "            .where(F.col(\"type\") == \"numeric\")\\\n",
    "            .select(\"column\", \"splits\")\\\n",
    "            .toPandas()\\\n",
    "            .set_index(\"column\")\\\n",
    "            .to_dict()['splits']\n",
    "\n",
    "        numeric_woe_df = self.woe_df\\\n",
    "            .where(F.col(\"type\") == \"numeric\")\\\n",
    "            .select(\"column\", \"bands\", \"woe\")\\\n",
    "            .toPandas()\n",
    "        \n",
    "        category_woe_df = self.woe_df\\\n",
    "            .where(F.col(\"type\")==\"category\")\\\n",
    "            .select(\"column\", \n",
    "                    \"bands\", \n",
    "                    \"woe\")\\\n",
    "            .distinct()\\\n",
    "            .toPandas()\n",
    "\n",
    "        self.woe_dict = dict()\n",
    "        for col_i in numeric_woe_df['column'].drop_duplicates():\n",
    "            filtered_df = numeric_woe_df[numeric_woe_df['column']==col_i]\n",
    "            self.woe_dict[col_i] = filtered_df.set_index(\"bands\").to_dict()[\"woe\"]\n",
    "\n",
    "        self.cat_woe_dict = dict()\n",
    "        for col_i in category_woe_df['column'].drop_duplicates():\n",
    "            filtered_df = category_woe_df[category_woe_df['column']==col_i]\n",
    "            self.cat_woe_dict[col_i] = filtered_df.set_index(\"bands\").to_dict()[\"woe\"]\n",
    "        \n",
    "        self.coalesce_woe_values_dict = self.woe_df\\\n",
    "            .select(\"column\", \"null_coalesce_woe\")\\\n",
    "            .distinct()\\\n",
    "            .toPandas()\\\n",
    "            .set_index(\"column\")\\\n",
    "            .to_dict()[\"null_coalesce_woe\"]\n",
    "\n",
    "    def _transform(self, df: DataFrame):\n",
    "        if self.build_dict_flag:\n",
    "            self.buildDicts()\n",
    "            self.build_dict_flag = False\n",
    "        result = df\n",
    "        for col_i in self.getOrDefault(\"inputCols\"):\n",
    "            result = result.transform(self.addWoeColumn, col_i)\n",
    "        return result\n",
    "\n",
    "    def addWoeColumn(self, df: DataFrame, col_to_bin: str):\n",
    "        column_type = self.col_types[col_to_bin]\n",
    "        if column_type == \"numeric\":\n",
    "            result = df.transform(self.addWoeNumericColumn,  col_to_bin)\n",
    "        else:\n",
    "            result = df.transform(self.addWoeCategoryColumn, col_to_bin)\n",
    "        return result\n",
    "\n",
    "    def addWoeNumericColumn(self, df: DataFrame, col_to_bin: str):  \n",
    "        from pyspark.ml.feature import Bucketizer\n",
    "        splits = self.splits[col_to_bin]\n",
    "        woe_values = self.woe_dict[col_to_bin]\n",
    "        coalesce_value = self.coalesce_woe_values_dict[col_to_bin]\n",
    "        \n",
    "        # pd.cut have a left closed interval while bucketizer have a right closed interval, this adjusts the difference\n",
    "        splits = [i + 0.000000001 for i in splits]\n",
    "\n",
    "        bucketizer = Bucketizer(inputCol=col_to_bin, outputCol=f\"{col_to_bin}_bands\", splits=splits)\n",
    "        result = df\\\n",
    "                .transform(bucketizer.transform)\\\n",
    "                .withColumn(f\"{col_to_bin}_woe\", F.col(f\"{col_to_bin}_bands\"))\\\n",
    "                .replace(woe_values, subset=[f\"{col_to_bin}_woe\"])\\\n",
    "                .withColumn(f\"{col_to_bin}_woe\", coalesce(F.col(f\"{col_to_bin}_woe\"), lit(coalesce_value)))\n",
    "        return result\n",
    "    \n",
    "    def addWoeCategoryColumn(self, df: DataFrame, col_to_bin: str):\n",
    "        spark_woe = self.woe_df\\\n",
    "                            .where(F.col(\"column\")==col_to_bin)\\\n",
    "                            .select(\n",
    "                                explode(\"clusters\").alias(col_to_bin),\n",
    "                                F.col(\"bands\").alias(f\"{col_to_bin}_bands\"),\n",
    "                                \"woe\",\n",
    "                                \"null_coalesce_woe\"\n",
    "                                )\n",
    "        result = df\\\n",
    "                .withColumn(col_to_bin, coalesce(F.col(col_to_bin), lit(\"None\")))\\\n",
    "                .join(broadcast(spark_woe), [f\"{col_to_bin}\"], \"left\")\\\n",
    "                .withColumn(f\"{col_to_bin}_woe\", coalesce(F.col(\"woe\"), F.col(\"null_coalesce_woe\")))\\\n",
    "                .drop('woe', 'null_coalesce_woe')\n",
    "        return result\n",
    "    \n",
    "    def _load(self, path):\n",
    "        self.load(path)\n",
    "        self.buildDicts()"
   ]
  },
  {
   "cell_type": "code",
   "execution_count": 121,
   "id": "f5d9132a",
   "metadata": {},
   "outputs": [],
   "source": [
    "selected_cols = \\\n",
    "['funded_amnt',\n",
    " 'term',\n",
    " 'sub_grade',\n",
    " 'home_ownership',\n",
    " 'annual_inc',\n",
    " 'verification_status',\n",
    " 'zip_code',\n",
    " 'dti',\n",
    " 'earliest_cr_line',\n",
    " 'fico_range_low',\n",
    " 'inq_last_6mths',\n",
    " 'revol_util']\n",
    "\n",
    "target_col = \"default_flag\"\n",
    "woe_df_path = f\"{output_path}woe_df.parquet\"\n",
    "\n",
    "woe_transformer = addWoeFromSavedDF(woe_df_path=woe_df_path, inputCols=selected_cols)\n",
    "vectoriser = VectorAssembler(inputCols=[f\"{col_i}_woe\" for col_i in selected_cols], outputCol=\"features\")\n",
    "glr = GeneralizedLinearRegression(family=\"binomial\", \n",
    "                                  link=\"logit\", \n",
    "                                  maxIter=10, \n",
    "                                  regParam=0, \n",
    "                                  featuresCol=\"features\",\n",
    "                                  labelCol=target_col)"
   ]
  },
  {
   "cell_type": "code",
   "execution_count": 122,
   "id": "ff42fef7",
   "metadata": {},
   "outputs": [
    {
     "name": "stderr",
     "output_type": "stream",
     "text": [
      "25/06/11 14:12:18 WARN Instrumentation: [4f87ec26] regParam is zero, which might cause numerical instability and overfitting.\n",
      "25/06/11 14:12:44 WARN Instrumentation: [4f87ec26] regParam is zero, which might cause numerical instability and overfitting.\n",
      "25/06/11 14:13:07 WARN Instrumentation: [4f87ec26] regParam is zero, which might cause numerical instability and overfitting.\n",
      "25/06/11 14:13:29 WARN Instrumentation: [4f87ec26] regParam is zero, which might cause numerical instability and overfitting.\n",
      "25/06/11 14:13:52 WARN Instrumentation: [4f87ec26] regParam is zero, which might cause numerical instability and overfitting.\n",
      "25/06/11 14:14:14 WARN Instrumentation: [4f87ec26] regParam is zero, which might cause numerical instability and overfitting.\n",
      "25/06/11 14:14:38 WARN Instrumentation: [4f87ec26] regParam is zero, which might cause numerical instability and overfitting.\n",
      "                                                                                \r"
     ]
    }
   ],
   "source": [
    "pipeline = Pipeline(stages=[woe_transformer, vectoriser, glr])\n",
    "model = pipeline.fit(raw_train_df)"
   ]
  },
  {
   "cell_type": "code",
   "execution_count": 123,
   "id": "7c3a11e4",
   "metadata": {},
   "outputs": [
    {
     "name": "stdout",
     "output_type": "stream",
     "text": [
      "+----------------+--------+-------------------+--------------+---------+----------+--------+---------+-----------+---------------+--------+-----------+-----+----------+--------+-----------+----------+--------------------+------------------+--------------------+----------+-----+-----------+--------------+---------------+--------------+--------+-------+---------+----------+---------+-------------------+---------+-------------+------------------+---------------+---------------+-------------+------------------+----------+-----------------------+------------+---------------+------------------+--------------------+-------------------+--------------------------+-----------+----------------+--------------+--------------------+--------------+-------+------------------------+-----------+--------+--------------------+-----------+--------+----------------+--------------------+---------+-----------------+--------------+-------------+-------------------+--------------------+------------+-----------------+-------------------+----------+--------------------+---------------+--------------------+--------------------+--------------------+----------------+--------------------+-------------------------+-----------------------+--------------+--------------------+---------+--------------------+----------------------+--------------------+--------------------+--------------------+--------------------+-------------------+----------------+--------------------+--------------------+--------------------+\n",
      "|earliest_cr_line|zip_code|verification_status|home_ownership|sub_grade|      term|      id|loan_amnt|funded_amnt|funded_amnt_inv|int_rate|installment|grade|annual_inc| issue_d|loan_status|pymnt_plan|                 url|           purpose|               title|addr_state|  dti|delinq_2yrs|fico_range_low|fico_range_high|inq_last_6mths|open_acc|pub_rec|revol_bal|revol_util|total_acc|initial_list_status|out_prncp|out_prncp_inv|       total_pymnt|total_pymnt_inv|total_rec_prncp|total_rec_int|total_rec_late_fee|recoveries|collection_recovery_fee|last_pymnt_d|last_pymnt_amnt|last_credit_pull_d|last_fico_range_high|last_fico_range_low|collections_12_mths_ex_med|policy_code|application_type|acc_now_delinq|acc_open_past_24mths|bc_open_to_buy|bc_util|chargeoff_within_12_mths|delinq_amnt|mort_acc|mths_since_recent_bc|num_bc_sats|num_sats|percent_bc_gt_75|pub_rec_bankruptcies|tax_liens|total_bal_ex_mort|total_bc_limit|hardship_flag|disbursement_method|debt_settlement_flag|default_flag|funded_amnt_bands|    funded_amnt_woe|term_bands|            term_woe|sub_grade_bands|       sub_grade_woe|home_ownership_bands|  home_ownership_woe|annual_inc_bands|      annual_inc_woe|verification_status_bands|verification_status_woe|zip_code_bands|        zip_code_woe|dti_bands|             dti_woe|earliest_cr_line_bands|earliest_cr_line_woe|fico_range_low_bands|  fico_range_low_woe|inq_last_6mths_bands| inq_last_6mths_woe|revol_util_bands|      revol_util_woe|            features|          prediction|\n",
      "+----------------+--------+-------------------+--------------+---------+----------+--------+---------+-----------+---------------+--------+-----------+-----+----------+--------+-----------+----------+--------------------+------------------+--------------------+----------+-----+-----------+--------------+---------------+--------------+--------+-------+---------+----------+---------+-------------------+---------+-------------+------------------+---------------+---------------+-------------+------------------+----------+-----------------------+------------+---------------+------------------+--------------------+-------------------+--------------------------+-----------+----------------+--------------+--------------------+--------------+-------+------------------------+-----------+--------+--------------------+-----------+--------+----------------+--------------------+---------+-----------------+--------------+-------------+-------------------+--------------------+------------+-----------------+-------------------+----------+--------------------+---------------+--------------------+--------------------+--------------------+----------------+--------------------+-------------------------+-----------------------+--------------+--------------------+---------+--------------------+----------------------+--------------------+--------------------+--------------------+--------------------+-------------------+----------------+--------------------+--------------------+--------------------+\n",
      "|        Jan-1982|   553xx|           Verified|      MORTGAGE|       B5| 36 months| 1003627|  35000.0|    35000.0|        35000.0|   12.49|    1170.71|    B|  230000.0|Oct-2014| Fully Paid|         n|https://lendingcl...|debt_consolidation|  Debt consolidation|        MN|21.37|        0.0|         705.0|          709.0|           1.0|    17.0|    0.0|  62397.0|      68.0|     45.0|                  w|      0.0|          0.0|   42121.227782598|       42121.23|        35000.0|      7121.23|               0.0|       0.0|                    0.0|    Oct-2017|        1170.67|          Oct-2017|               724.0|              720.0|                       0.0|        1.0|      Individual|           0.0|                 5.0|       18600.0|   76.4|                     0.0|        0.0|     7.0|                36.0|        6.0|    17.0|            66.7|                 0.0|      0.0|         240230.0|       78800.0|            N|               Cash|                   N|           0|              4.0|0.26685540466146423|       0.0|-0.27106867520003614|            5.0|-0.20859572688986106|                 5.0|-0.18009551362907258|             8.0| -0.3471781384144935|                      2.0|     0.2252439030212081|          10.0|-0.00865593062513...|      5.0| 0.04880547363448311|                   0.0| -0.2227885657945895|                10.0|-0.15691990749556192|                 1.0|0.08886429252893809|             5.0| 0.10112774317125806|[0.26685540466146...| 0.11949624510359981|\n",
      "|        May-1998|   029xx|    Source Verified|          RENT|       D2| 60 months|10066327|  14675.0|    14675.0|        14675.0|   16.29|     359.14|    D|   35000.0|Oct-2014| Fully Paid|         n|https://lendingcl...|       credit_card|Credit card refin...|        RI|27.85|        0.0|         710.0|          714.0|           1.0|    14.0|    0.0|  19403.0|      74.9|     24.0|                  w|      0.0|          0.0|  20273.5822074462|       20273.58|        14675.0|      5598.58|               0.0|       0.0|                    0.0|    Nov-2017|         1055.2|          Dec-2017|               739.0|              735.0|                       0.0|        1.0|      Individual|           0.0|                 2.0|        4897.0|   79.8|                     0.0|        0.0|     0.0|                 1.0|        8.0|    14.0|            75.0|                 0.0|      0.0|          26865.0|       24300.0|            N|               Cash|                   N|           0|              2.0|0.05077741928032634|       1.0|   0.656449056231136|            6.0|  0.5968131743902927|                 3.0| 0.19170897137870133|             2.0| 0.17815682184621756|                      0.0|    0.05847419970770776|          10.0|-0.00865593062513...|      8.0| 0.32302334762562435|                   6.0|-0.00893346136850...|                11.0|-0.24758862246590962|                 1.0|0.08886429252893809|             5.0| 0.10112774317125806|[0.05077741928032...| 0.43553694754571853|\n",
      "|        Sep-2005|   672xx|       Not Verified|      MORTGAGE|       C5| 36 months|10067257|  14575.0|    14575.0|        14575.0|   14.99|     505.18|    C|   95000.0|Jul-2014| Fully Paid|         n|https://lendingcl...|             other|               Other|        KS|18.48|        2.0|         675.0|          679.0|           1.0|     9.0|    0.0|   5328.0|      37.0|     47.0|                  w|      0.0|          0.0|          16745.68|       16745.68|        14575.0|      2170.68|               0.0|       0.0|                    0.0|    Sep-2015|       10178.34|          Jul-2018|               739.0|              735.0|                       0.0|        1.0|      Individual|           0.0|                 6.0|        1743.0|   71.4|                     0.0|        0.0|     0.0|                39.0|        3.0|     9.0|            33.3|                 0.0|      0.0|          93074.0|        6100.0|            N|               Cash|                   N|           0|              2.0|0.05077741928032634|       0.0|-0.27106867520003614|            0.0|   0.240086810426605|                 5.0|-0.18009551362907258|             6.0|-0.14577632100216914|                      1.0|    -0.3615039873000736|          13.0| 0.13598923268928162|      4.0|-0.03716783782410...|                   6.0|-0.00893346136850...|                 4.0|  0.2150648356402604|                 1.0|0.08886429252893809|             2.0|-0.12911125219343828|[0.05077741928032...| 0.19590367154080957|\n",
      "|        Jul-2002|   141xx|       Not Verified|      MORTGAGE|       A1| 36 months|10068968|  12500.0|    12500.0|        12500.0|    6.03|     380.45|    A|   50000.0|Jul-2014| Fully Paid|         n|https://lendingcl...|       credit_card|Credit card refin...|        NY|13.71|        0.0|         710.0|          714.0|           0.0|    12.0|    0.0|  15501.0|      47.5|     26.0|                  w|      0.0|          0.0|13695.969952289799|       13695.97|        12500.0|      1195.97|               0.0|       0.0|                    0.0|    Jul-2017|         380.22|          Mar-2018|               779.0|              775.0|                       0.0|        1.0|      Individual|           0.0|                 5.0|       10560.0|   51.6|                     0.0|        0.0|     1.0|                35.0|        4.0|    12.0|            50.0|                 0.0|      0.0|          37166.0|       21800.0|            N|               Cash|                   N|           0|              2.0|0.05077741928032634|       0.0|-0.27106867520003614|            2.0| -1.5202257425547134|                 5.0|-0.18009551362907258|             3.0| 0.11759055163046839|                      1.0|    -0.3615039873000736|          10.0|-0.00865593062513...|      2.0|-0.18946891236965915|                   6.0|-0.00893346136850...|                11.0|-0.24758862246590962|                 0.0|-0.1339431634847562|             3.0|-0.01815417880224...|[0.05077741928032...|0.050704466850112685|\n",
      "|        Jan-2004|   461xx|    Source Verified|          RENT|       B3| 36 months|10073089|  25000.0|    25000.0|        24975.0|   10.99|     818.35|    B|   63000.0|Aug-2014| Fully Paid|         n|https://lendingcl...|debt_consolidation|  Debt consolidation|        IN|25.26|        0.0|         685.0|          689.0|           0.0|    17.0|    0.0|  26289.0|      82.2|     29.0|                  f|      0.0|          0.0|   29460.580579111|       29431.12|        25000.0|      4460.58|               0.0|       0.0|                    0.0|    Aug-2017|         818.33|          Aug-2017|               729.0|              725.0|                       0.0|        1.0|      Individual|           0.0|                 2.0|        1770.0|   91.8|                     0.0|        0.0|     0.0|                19.0|        4.0|    17.0|           100.0|                 0.0|      0.0|          69640.0|       21500.0|            N|               Cash|                   N|           0|              3.0| 0.1553521664238666|       0.0|-0.27106867520003614|            4.0|  -0.706767613735917|                 3.0| 0.19170897137870133|             4.0|0.059616659452344505|                      0.0|    0.05847419970770776|          13.0| 0.13598923268928162|      6.0|  0.1635869795064134|                  10.0|  0.1234241540501021|                 6.0| 0.09175326947771807|                 0.0|-0.1339431634847562|             6.0| 0.15402305405769026|[0.15535216642386...| 0.19331979809836172|\n",
      "|        Nov-2001|   941xx|    Source Verified|          RENT|       C3| 60 months|10074967|  28650.0|    28650.0|        28650.0|   13.98|     666.34|    C|  150000.0|May-2014| Fully Paid|         n|https://lendingcl...|debt_consolidation|  Debt consolidation|        CA|11.87|        0.0|         705.0|          709.0|           0.0|     8.0|    0.0|  39764.0|      86.8|     18.0|                  w|      0.0|          0.0|  38646.0407702394|       38646.04|        28650.0|      9996.04|               0.0|       0.0|                    0.0|    Dec-2017|        8292.44|          Mar-2019|               764.0|              760.0|                       0.0|        1.0|      Individual|           0.0|                 1.0|        4278.0|   90.0|                     0.0|        0.0|     0.0|                26.0|        6.0|     8.0|            60.0|                 0.0|      0.0|          52593.0|       42800.0|            N|               Cash|                   N|           0|              4.0|0.26685540466146423|       1.0|   0.656449056231136|            0.0|   0.240086810426605|                 3.0| 0.19170897137870133|             7.0|-0.24837833520060562|                      0.0|    0.05847419970770776|          11.0|-0.38865646702389145|      1.0|  -0.251819740248679|                   6.0|-0.00893346136850...|                10.0|-0.15691990749556192|                 0.0|-0.1339431634847562|             6.0| 0.15402305405769026|[0.26685540466146...|  0.2033655504523788|\n",
      "|        Oct-1996|   014xx|    Source Verified|      MORTGAGE|       E2| 60 months|10078462|  35000.0|    35000.0|        34950.0|   20.49|     936.86|    E|   96000.0|May-2014|Charged Off|         n|https://lendingcl...|debt_consolidation|  Debt consolidation|        MA|11.35|        0.0|         710.0|          714.0|           1.0|    13.0|    1.0|  27218.0|      40.6|     23.0|                  f|      0.0|          0.0|          17140.08|       17115.59|        6186.96|       8807.8|               0.0|   2145.32|         386.1575999946|    Sep-2015|         936.86|          Jul-2018|               544.0|              540.0|                       0.0|        1.0|      Individual|           0.0|                 9.0|       37082.0|   42.3|                     0.0|        0.0|     7.0|                 6.0|        9.0|    13.0|            33.3|                 1.0|      0.0|          46036.0|       64300.0|            N|               Cash|                   N|           1|              4.0|0.26685540466146423|       1.0|   0.656449056231136|            3.0|  0.9274807772107007|                 5.0|-0.18009551362907258|             6.0|-0.14577632100216914|                      0.0|    0.05847419970770776|           5.0| 0.05709727960552149|      1.0|  -0.251819740248679|                  10.0|  0.1234241540501021|                11.0|-0.24758862246590962|                 1.0|0.08886429252893809|             3.0|-0.01815417880224...|[0.26685540466146...| 0.35517560472990733|\n",
      "|        Oct-1999|   301xx|       Not Verified|          RENT|       D3| 60 months|10078882|  16000.0|    16000.0|        16000.0|   16.99|     397.56|    D|   65000.0|Jul-2014| Fully Paid|         n|https://lendingcl...|debt_consolidation|  Debt consolidation|        GA|14.55|        0.0|         685.0|          689.0|           1.0|    13.0|    1.0|  11450.0|      48.9|     34.0|                  w|      0.0|          0.0|          20954.53|       20954.53|        16000.0|      4954.53|               0.0|       0.0|                    0.0|    Aug-2016|       11413.09|          Aug-2016|               699.0|              695.0|                       0.0|        1.0|      Individual|           0.0|                 5.0|        3935.0|   70.6|                     0.0|        0.0|     6.0|                 8.0|        6.0|    13.0|            60.0|                 0.0|      1.0|          20592.0|       13400.0|            N|               Cash|                   N|           0|              3.0| 0.1553521664238666|       1.0|   0.656449056231136|            6.0|  0.5968131743902927|                 3.0| 0.19170897137870133|             4.0|0.059616659452344505|                      1.0|    -0.3615039873000736|          12.0|-0.09482449892239396|      2.0|-0.18946891236965915|                  12.0|-0.10113784851868839|                 6.0| 0.09175326947771807|                 1.0|0.08886429252893809|             4.0| 0.04616138807431829|[0.15535216642386...|   0.351484521412617|\n",
      "|        Oct-2001|   750xx|       Not Verified|      MORTGAGE|       A4| 36 months|10080561|  15000.0|    15000.0|        15000.0|    7.69|     467.91|    A|   92500.0|Oct-2014|Charged Off|         n|https://lendingcl...|debt_consolidation|  Debt consolidation|        TX| 9.86|        0.0|         745.0|          749.0|           1.0|    12.0|    0.0|   8548.0|      23.3|     18.0|                  w|      0.0|          0.0|           5409.03|        5409.03|        2542.27|       696.88|              23.4|   2146.48|               193.1832|    Jun-2015|         467.91|          Oct-2016|               509.0|              505.0|                       0.0|        1.0|      Individual|           0.0|                 3.0|       17226.0|   19.1|                     0.0|        0.0|     1.0|                14.0|        6.0|    12.0|            33.3|                 0.0|      0.0|          18744.0|       21300.0|            N|               Cash|                   N|           1|              2.0|0.05077741928032634|       0.0|-0.27106867520003614|            2.0| -1.5202257425547134|                 5.0|-0.18009551362907258|             6.0|-0.14577632100216914|                      1.0|    -0.3615039873000736|          12.0|-0.09482449892239396|      0.0|-0.35388334814283673|                   6.0|-0.00893346136850...|                17.0| -0.6095204020800882|                 1.0|0.08886429252893809|             2.0|-0.12911125219343828|[0.05077741928032...| 0.03526132580923484|\n",
      "|        Aug-2003|   550xx|    Source Verified|          RENT|       C2| 60 months|10081836|  17000.0|    17000.0|        17000.0|   14.16|     396.98|    C|   57000.0|Apr-2014| Fully Paid|         n|https://lendingcl...|       credit_card|Credit card refin...|        MN| 21.2|        1.0|         680.0|          684.0|           0.0|    15.0|    0.0|  11072.0|      70.1|     29.0|                  w|      0.0|          0.0|23498.127991511097|       23498.13|        17000.0|      6498.13|               0.0|       0.0|                    0.0|    May-2018|        4840.07|          May-2018|               639.0|              635.0|                       0.0|        1.0|      Individual|           0.0|                 5.0|        1009.0|   90.8|                     0.0|        0.0|     4.0|                27.0|        3.0|    15.0|           100.0|                 0.0|      0.0|          61618.0|       11000.0|            N|               Cash|                   N|           0|              3.0| 0.1553521664238666|       1.0|   0.656449056231136|            0.0|   0.240086810426605|                 3.0| 0.19170897137870133|             4.0|0.059616659452344505|                      0.0|    0.05847419970770776|           5.0| 0.05709727960552149|      5.0| 0.04880547363448311|                   6.0|-0.00893346136850...|                 5.0| 0.18275134818994673|                 0.0|-0.1339431634847562|             5.0| 0.10112774317125806|[0.15535216642386...| 0.37995986998956544|\n",
      "|        Oct-1991|   557xx|    Source Verified|      MORTGAGE|       B2| 60 months|10086125|  28000.0|    28000.0|        28000.0|   10.15|     596.99|    B|   70000.0|Oct-2014| Fully Paid|         n|https://lendingcl...|       credit_card|Credit card refin...|        MN|16.11|        1.0|         690.0|          694.0|           1.0|    14.0|    0.0|  40531.0|      84.6|     36.0|                  w|      0.0|          0.0|  34767.2679305748|       34767.27|        28000.0|      6767.27|               0.0|       0.0|                    0.0|    Jan-2018|       12113.23|          Mar-2018|               809.0|              805.0|                       0.0|        1.0|      Individual|           0.0|                 6.0|        4472.0|   88.2|                     0.0|        0.0|     2.0|                 9.0|        7.0|    14.0|            50.0|                 0.0|      0.0|          88856.0|       37900.0|            N|               Cash|                   N|           0|              3.0| 0.1553521664238666|       1.0|   0.656449056231136|            4.0|  -0.706767613735917|                 5.0|-0.18009551362907258|             5.0|-0.04936568722431...|                      0.0|    0.05847419970770776|          10.0|-0.00865593062513...|      3.0|-0.10040446693150172|                   0.0| -0.2227885657945895|                 7.0| 0.04617836397088992|                 1.0|0.08886429252893809|             6.0| 0.15402305405769026|[0.15535216642386...| 0.14900738996801946|\n",
      "|        Sep-2001|   331xx|    Source Verified|      MORTGAGE|       B2| 36 months|10086573|   2500.0|     2500.0|         2500.0|   10.15|      80.85|    B|  101000.0|Jul-2014| Fully Paid|         n|https://lendingcl...|debt_consolidation|  Debt consolidation|        FL|17.48|        0.0|         685.0|          689.0|           0.0|    17.0|    0.0|  18482.0|      50.2|     43.0|                  w|      0.0|          0.0|           2696.17|        2696.17|         2500.0|       196.17|               0.0|       0.0|                    0.0|    Jun-2015|        1968.52|          Mar-2019|               709.0|              705.0|                       0.0|        1.0|      Individual|           0.0|                 8.0|        8867.0|   56.1|                     0.0|        0.0|     6.0|                11.0|        9.0|    17.0|            22.2|                 0.0|      0.0|          46893.0|       24200.0|            N|               Cash|                   N|           0|              0.0|-0.2589284814565611|       0.0|-0.27106867520003614|            4.0|  -0.706767613735917|                 5.0|-0.18009551362907258|             7.0|-0.24837833520060562|                      0.0|    0.05847419970770776|           6.0| 0.23918987576877748|      4.0|-0.03716783782410...|                  12.0|-0.10113784851868839|                 6.0| 0.09175326947771807|                 0.0|-0.1339431634847562|             4.0| 0.04616138807431829|[-0.2589284814565...| 0.08568619089945291|\n",
      "|        Nov-2004|   236xx|    Source Verified|           OWN|       B2| 36 months|10087672|  27000.0|    27000.0|        26975.0|   10.15|     873.12|    B|   74481.0|Jul-2014| Fully Paid|         n|https://lendingcl...|debt_consolidation|  Debt consolidation|        VA|31.59|        0.0|         700.0|          704.0|           1.0|    14.0|    0.0|  17170.0|      85.8|     24.0|                  f|      0.0|          0.0|         27228.375|       27203.16|        27000.0|       228.38|               0.0|       0.0|                    0.0|    Aug-2014|       27228.38|          Dec-2016|               589.0|              585.0|                       0.0|        1.0|      Individual|           0.0|                 3.0|        2830.0|   85.8|                     0.0|        0.0|     0.0|                25.0|        3.0|    14.0|           100.0|                 0.0|      0.0|          81504.0|       20000.0|            N|               Cash|                   N|           0|              3.0| 0.1553521664238666|       0.0|-0.27106867520003614|            4.0|  -0.706767613735917|                 1.0| 0.03716946706162301|             5.0|-0.04936568722431...|                      0.0|    0.05847419970770776|           5.0| 0.05709727960552149|      9.0| 0.42262649905478505|                  10.0|  0.1234241540501021|                 9.0|-0.07892256461055189|                 1.0|0.08886429252893809|             6.0| 0.15402305405769026|[0.15535216642386...| 0.17682569418940502|\n",
      "|        Jun-1999|   750xx|           Verified|      MORTGAGE|       A3| 36 months|10089831|  27500.0|    27500.0|        27500.0|    7.12|     850.63|    A|   85000.0|Jul-2014| Fully Paid|         n|https://lendingcl...|debt_consolidation|  Debt consolidation|        TX|23.84|        1.0|         720.0|          724.0|           0.0|    16.0|    0.0|  23862.0|      40.0|     31.0|                  w|      0.0|          0.0|           30113.6|        30113.6|        27500.0|       2613.6|               0.0|       0.0|                    0.0|    May-2016|       12250.37|          Mar-2019|               769.0|              765.0|                       0.0|        1.0|      Individual|           0.0|                 4.0|       30219.0|   43.5|                     0.0|        0.0|     3.0|                36.0|        6.0|    16.0|            16.7|                 0.0|      0.0|          61342.0|       53500.0|            N|               Cash|                   N|           0|              3.0| 0.1553521664238666|       0.0|-0.27106867520003614|            2.0| -1.5202257425547134|                 5.0|-0.18009551362907258|             5.0|-0.04936568722431...|                      2.0|     0.2252439030212081|          12.0|-0.09482449892239396|      6.0|  0.1635869795064134|                  12.0|-0.10113784851868839|                13.0|-0.36158158083545594|                 0.0|-0.1339431634847562|             3.0|-0.01815417880224...|[0.15535216642386...|0.056226456261904506|\n",
      "|        Aug-2006|   658xx|       Not Verified|          RENT|       A3| 36 months|10091440|   5000.0|     5000.0|         5000.0|    6.68|     153.66|    A|   30000.0|Feb-2015| Fully Paid|         n|https://lendingcl...|debt_consolidation|  Debt consolidation|        MO| 12.4|        0.0|         775.0|          779.0|           0.0|     6.0|    0.0|   3291.0|      11.5|     23.0|                  w|      0.0|          0.0|5529.7009656440005|         5529.7|         5000.0|        529.7|               0.0|       0.0|                    0.0|    Mar-2018|         153.46|          Nov-2018|               814.0|              810.0|                       0.0|        1.0|      Individual|           0.0|                 2.0|       23217.0|   11.4|                     0.0|        0.0|     0.0|                31.0|        4.0|     6.0|             0.0|                 0.0|      0.0|          33040.0|       26200.0|            N|               Cash|                   N|           0|              0.0|-0.2589284814565611|       0.0|-0.27106867520003614|            2.0| -1.5202257425547134|                 3.0| 0.19170897137870133|             1.0| 0.24200714018123423|                      1.0|    -0.3615039873000736|           5.0| 0.05709727960552149|      1.0|  -0.251819740248679|                   6.0|-0.00893346136850...|                20.0|  -0.892731060917019|                 0.0|-0.1339431634847562|             0.0| -0.3692679851287086|[-0.2589284814565...| 0.05159083542252246|\n",
      "|        Feb-2000|   337xx|    Source Verified|      MORTGAGE|       D1| 60 months|10095095|  19500.0|    19500.0|        19500.0|   15.61|     470.18|    D|   54000.0|Jul-2014|Charged Off|         n|https://lendingcl...|debt_consolidation|  Debt consolidation|        FL|26.24|        0.0|         670.0|          674.0|           1.0|    10.0|    0.0|   8607.0|      47.0|     25.0|                  f|      0.0|          0.0|           7522.88|        7522.88|        3823.68|       3699.2|               0.0|       0.0|                    0.0|    Nov-2015|         470.18|          Feb-2017|               539.0|              535.0|                       0.0|        1.0|      Individual|           0.0|                 6.0|        3100.0|   59.7|                     0.0|        0.0|     6.0|                 3.0|        3.0|    10.0|            33.3|                 0.0|      0.0|          44490.0|        7700.0|            N|               Cash|                   N|           1|              3.0| 0.1553521664238666|       1.0|   0.656449056231136|            0.0|   0.240086810426605|                 5.0|-0.18009551362907258|             4.0|0.059616659452344505|                      0.0|    0.05847419970770776|           5.0| 0.05709727960552149|      7.0|  0.2552304022058341|                   6.0|-0.00893346136850...|                 3.0|  0.2702729914619723|                 1.0|0.08886429252893809|             3.0|-0.01815417880224...|[0.15535216642386...|  0.3715564304235922|\n",
      "|        Oct-1998|   220xx|    Source Verified|          RENT|       B1| 36 months|10096063|  19200.0|    19200.0|        19200.0|    8.18|     603.26|    B|   95048.0|Jun-2015|Charged Off|         n|https://lendingcl...|debt_consolidation|  Debt consolidation|        VA|16.81|        1.0|         685.0|          689.0|           0.0|    14.0|    0.0|  28104.0|      49.4|     18.0|                  f|      0.0|          0.0|           7992.94|        7992.94|        5376.95|      1250.18|               0.0|   1365.81|         245.8457999925|    Jun-2016|         603.26|          Dec-2016|               619.0|              615.0|                       0.0|        1.0|      Individual|           0.0|                 2.0|       24185.0|   46.7|                     0.0|        0.0|     0.0|                84.0|        8.0|    14.0|            25.0|                 0.0|      0.0|          29669.0|       45400.0|            N|               Cash|                   N|           1|              3.0| 0.1553521664238666|       0.0|-0.27106867520003614|            4.0|  -0.706767613735917|                 3.0| 0.19170897137870133|             6.0|-0.14577632100216914|                      0.0|    0.05847419970770776|          12.0|-0.09482449892239396|      3.0|-0.10040446693150172|                   6.0|-0.00893346136850...|                 6.0| 0.09175326947771807|                 0.0|-0.1339431634847562|             4.0| 0.04616138807431829|[0.15535216642386...| 0.12200954291402104|\n",
      "|        Oct-1994|   241xx|    Source Verified|      MORTGAGE|       A3| 36 months|10096235|  28000.0|    28000.0|        28000.0|    7.12|      866.1|    A|   94500.0|Oct-2014| Fully Paid|         n|https://lendingcl...|       credit_card|Credit card refin...|        VA|28.42|        0.0|         740.0|          744.0|           0.0|    18.0|    0.0| 182166.0|      60.7|     33.0|                  w|      0.0|          0.0|  31140.3624998915|       31140.36|        28000.0|      3140.36|               0.0|       0.0|                    0.0|    Jul-2017|        3436.24|          Nov-2018|               719.0|              715.0|                       0.0|        1.0|      Individual|           0.0|                 3.0|       41849.0|   55.9|                     0.0|        0.0|     6.0|                12.0|        7.0|    18.0|            42.9|                 0.0|      0.0|         194422.0|       94900.0|            N|               Cash|                   N|           0|              3.0| 0.1553521664238666|       0.0|-0.27106867520003614|            2.0| -1.5202257425547134|                 5.0|-0.18009551362907258|             6.0|-0.14577632100216914|                      0.0|    0.05847419970770776|           5.0| 0.05709727960552149|      8.0| 0.32302334762562435|                   6.0|-0.00893346136850...|                17.0| -0.6095204020800882|                 0.0|-0.1339431634847562|             5.0| 0.10112774317125806|[0.15535216642386...| 0.05816839834651089|\n",
      "|        Apr-1997|   431xx|    Source Verified|      MORTGAGE|       C1| 60 months|10099597|  10800.0|    10800.0|        10800.0|   12.99|     245.68|    C|  100000.0|Oct-2014| Fully Paid|         n|https://lendingcl...|debt_consolidation|  Debt consolidation|        OH|14.98|        1.0|         675.0|          679.0|           0.0|    12.0|    0.0|  10044.0|      55.2|     13.0|                  w|      0.0|          0.0|14628.973255704099|       14628.97|        10800.0|      3828.97|               0.0|       0.0|                    0.0|    Dec-2018|        2590.65|          Mar-2019|               739.0|              735.0|                       0.0|        1.0|      Individual|           0.0|                 4.0|        1641.0|   63.5|                     0.0|        0.0|     1.0|                25.0|        3.0|    12.0|            66.7|                 0.0|      0.0|          39660.0|        4500.0|            N|               Cash|                   N|           0|              2.0|0.05077741928032634|       1.0|   0.656449056231136|            5.0|-0.20859572688986106|                 5.0|-0.18009551362907258|             6.0|-0.14577632100216914|                      0.0|    0.05847419970770776|           5.0| 0.05709727960552149|      3.0|-0.10040446693150172|                  12.0|-0.10113784851868839|                 4.0|  0.2150648356402604|                 0.0|-0.1339431634847562|             4.0| 0.04616138807431829|[0.05077741928032...|  0.1945895122452258|\n",
      "|        Apr-1992|   985xx|    Source Verified|      MORTGAGE|       C2| 36 months|10100188|   8400.0|     8400.0|         8400.0|   14.16|     287.75|    C|   43000.0|May-2014| Fully Paid|         n|https://lendingcl...|debt_consolidation|  Debt consolidation|        WA|18.27|        0.0|         720.0|          724.0|           1.0|    13.0|    1.0|   9258.0|      33.3|     21.0|                  w|      0.0|          0.0|           8499.12|        8499.12|         8400.0|        99.12|               0.0|       0.0|                    0.0|    Jun-2014|        8499.12|          Mar-2019|               689.0|              685.0|                       0.0|        1.0|      Individual|           0.0|                 5.0|       11850.0|   21.0|                     0.0|        0.0|     2.0|                 1.0|        3.0|    13.0|            33.3|                 1.0|      0.0|          12174.0|       15000.0|            N|               Cash|                   N|           0|              0.0|-0.2589284814565611|       0.0|-0.27106867520003614|            0.0|   0.240086810426605|                 5.0|-0.18009551362907258|             3.0| 0.11759055163046839|                      0.0|    0.05847419970770776|           1.0|  -0.210759095932935|      4.0|-0.03716783782410...|                  12.0|-0.10113784851868839|                13.0|-0.36158158083545594|                 1.0|0.08886429252893809|             2.0|-0.12911125219343828|[-0.2589284814565...| 0.11930277452178091|\n",
      "+----------------+--------+-------------------+--------------+---------+----------+--------+---------+-----------+---------------+--------+-----------+-----+----------+--------+-----------+----------+--------------------+------------------+--------------------+----------+-----+-----------+--------------+---------------+--------------+--------+-------+---------+----------+---------+-------------------+---------+-------------+------------------+---------------+---------------+-------------+------------------+----------+-----------------------+------------+---------------+------------------+--------------------+-------------------+--------------------------+-----------+----------------+--------------+--------------------+--------------+-------+------------------------+-----------+--------+--------------------+-----------+--------+----------------+--------------------+---------+-----------------+--------------+-------------+-------------------+--------------------+------------+-----------------+-------------------+----------+--------------------+---------------+--------------------+--------------------+--------------------+----------------+--------------------+-------------------------+-----------------------+--------------+--------------------+---------+--------------------+----------------------+--------------------+--------------------+--------------------+--------------------+-------------------+----------------+--------------------+--------------------+--------------------+\n",
      "only showing top 20 rows\n"
     ]
    }
   ],
   "source": [
    "raw_train_df\\\n",
    "    .transform(model.transform)\\\n",
    "    .show()"
   ]
  },
  {
   "cell_type": "code",
   "execution_count": 18,
   "id": "0eae4f9b",
   "metadata": {},
   "outputs": [
    {
     "name": "stderr",
     "output_type": "stream",
     "text": [
      "                                                                                \r"
     ]
    },
    {
     "data": {
      "text/plain": [
       "Coefficients:\n",
       "             Feature Estimate Std Error   T Value P Value\n",
       "         (Intercept)  -1.3925    0.0030 -463.4218  0.0000\n",
       "     funded_amnt_woe   0.6825    0.0204   33.4737  0.0000\n",
       "            term_woe   0.5354    0.0083   64.2819  0.0000\n",
       "       sub_grade_woe   0.6364    0.0058  110.4996  0.0000\n",
       "  home_ownership_woe   0.8873    0.0176   50.4644  0.0000\n",
       "      annual_inc_woe   0.6501    0.0211   30.7642  0.0000\n",
       "verification_stat...   0.2270    0.0134   16.9309  0.0000\n",
       "        zip_code_woe   0.9134    0.0160   57.0190  0.0000\n",
       "             dti_woe   0.5690    0.0114   50.1032  0.0000\n",
       "earliest_cr_line_woe   0.6038    0.0202   29.8682  0.0000\n",
       "  fico_range_low_woe   0.4678    0.0109   42.9222  0.0000\n",
       "  inq_last_6mths_woe   0.4625    0.0182   25.4253  0.0000\n",
       "      revol_util_woe  -0.2736    0.0220  -12.4080  0.0000\n",
       "\n",
       "(Dispersion parameter for binomial family taken to be 1.0000)\n",
       "    Null deviance: 808325.9463 on 809035 degrees of freedom\n",
       "Residual deviance: 732254.3396 on 809035 degrees of freedom\n",
       "AIC: 732280.3396"
      ]
     },
     "execution_count": 18,
     "metadata": {},
     "output_type": "execute_result"
    }
   ],
   "source": [
    "model.stages[-1].summary"
   ]
  },
  {
   "cell_type": "code",
   "execution_count": 124,
   "id": "35a9cff2",
   "metadata": {},
   "outputs": [
    {
     "name": "stderr",
     "output_type": "stream",
     "text": [
      "                                                                                \r"
     ]
    }
   ],
   "source": [
    "model.write().overwrite().save(f\"{output_path}_log_reg2.gz\")"
   ]
  },
  {
   "cell_type": "code",
   "execution_count": 125,
   "id": "005c77a9",
   "metadata": {},
   "outputs": [],
   "source": [
    "model = PipelineModel.load(f\"{output_path}_log_reg2.gz\")"
   ]
  },
  {
   "cell_type": "code",
   "execution_count": 126,
   "id": "481a4c46",
   "metadata": {},
   "outputs": [
    {
     "name": "stderr",
     "output_type": "stream",
     "text": [
      "                                                                                \r"
     ]
    },
    {
     "name": "stdout",
     "output_type": "stream",
     "text": [
      "+----------------+--------+-------------------+--------------+---------+----------+--------+---------+-----------+---------------+--------+-----------+-----+----------+--------+-----------+----------+--------------------+------------------+--------------------+----------+-----+-----------+--------------+---------------+--------------+--------+-------+---------+----------+---------+-------------------+---------+-------------+------------------+---------------+---------------+-------------+------------------+----------+-----------------------+------------+---------------+------------------+--------------------+-------------------+--------------------------+-----------+----------------+--------------+--------------------+--------------+-------+------------------------+-----------+--------+--------------------+-----------+--------+----------------+--------------------+---------+-----------------+--------------+-------------+-------------------+--------------------+------------+-----------------+-------------------+----------+--------------------+---------------+--------------------+--------------------+--------------------+----------------+--------------------+-------------------------+-----------------------+--------------+--------------------+---------+--------------------+----------------------+--------------------+--------------------+--------------------+--------------------+-------------------+----------------+--------------------+--------------------+--------------------+\n",
      "|earliest_cr_line|zip_code|verification_status|home_ownership|sub_grade|      term|      id|loan_amnt|funded_amnt|funded_amnt_inv|int_rate|installment|grade|annual_inc| issue_d|loan_status|pymnt_plan|                 url|           purpose|               title|addr_state|  dti|delinq_2yrs|fico_range_low|fico_range_high|inq_last_6mths|open_acc|pub_rec|revol_bal|revol_util|total_acc|initial_list_status|out_prncp|out_prncp_inv|       total_pymnt|total_pymnt_inv|total_rec_prncp|total_rec_int|total_rec_late_fee|recoveries|collection_recovery_fee|last_pymnt_d|last_pymnt_amnt|last_credit_pull_d|last_fico_range_high|last_fico_range_low|collections_12_mths_ex_med|policy_code|application_type|acc_now_delinq|acc_open_past_24mths|bc_open_to_buy|bc_util|chargeoff_within_12_mths|delinq_amnt|mort_acc|mths_since_recent_bc|num_bc_sats|num_sats|percent_bc_gt_75|pub_rec_bankruptcies|tax_liens|total_bal_ex_mort|total_bc_limit|hardship_flag|disbursement_method|debt_settlement_flag|default_flag|funded_amnt_bands|    funded_amnt_woe|term_bands|            term_woe|sub_grade_bands|       sub_grade_woe|home_ownership_bands|  home_ownership_woe|annual_inc_bands|      annual_inc_woe|verification_status_bands|verification_status_woe|zip_code_bands|        zip_code_woe|dti_bands|             dti_woe|earliest_cr_line_bands|earliest_cr_line_woe|fico_range_low_bands|  fico_range_low_woe|inq_last_6mths_bands| inq_last_6mths_woe|revol_util_bands|      revol_util_woe|            features|          prediction|\n",
      "+----------------+--------+-------------------+--------------+---------+----------+--------+---------+-----------+---------------+--------+-----------+-----+----------+--------+-----------+----------+--------------------+------------------+--------------------+----------+-----+-----------+--------------+---------------+--------------+--------+-------+---------+----------+---------+-------------------+---------+-------------+------------------+---------------+---------------+-------------+------------------+----------+-----------------------+------------+---------------+------------------+--------------------+-------------------+--------------------------+-----------+----------------+--------------+--------------------+--------------+-------+------------------------+-----------+--------+--------------------+-----------+--------+----------------+--------------------+---------+-----------------+--------------+-------------+-------------------+--------------------+------------+-----------------+-------------------+----------+--------------------+---------------+--------------------+--------------------+--------------------+----------------+--------------------+-------------------------+-----------------------+--------------+--------------------+---------+--------------------+----------------------+--------------------+--------------------+--------------------+--------------------+-------------------+----------------+--------------------+--------------------+--------------------+\n",
      "|        Jan-1982|   553xx|           Verified|      MORTGAGE|       B5| 36 months| 1003627|  35000.0|    35000.0|        35000.0|   12.49|    1170.71|    B|  230000.0|Oct-2014| Fully Paid|         n|https://lendingcl...|debt_consolidation|  Debt consolidation|        MN|21.37|        0.0|         705.0|          709.0|           1.0|    17.0|    0.0|  62397.0|      68.0|     45.0|                  w|      0.0|          0.0|   42121.227782598|       42121.23|        35000.0|      7121.23|               0.0|       0.0|                    0.0|    Oct-2017|        1170.67|          Oct-2017|               724.0|              720.0|                       0.0|        1.0|      Individual|           0.0|                 5.0|       18600.0|   76.4|                     0.0|        0.0|     7.0|                36.0|        6.0|    17.0|            66.7|                 0.0|      0.0|         240230.0|       78800.0|            N|               Cash|                   N|           0|              4.0|0.26685540466146423|       0.0|-0.27106867520003614|            5.0|-0.20859572688986106|                 5.0|-0.18009551362907258|             8.0| -0.3471781384144935|                      2.0|     0.2252439030212081|          10.0|-0.00865593062513...|      5.0| 0.04880547363448311|                   0.0| -0.2227885657945895|                10.0|-0.15691990749556192|                 1.0|0.08886429252893809|             5.0| 0.10112774317125806|[0.26685540466146...| 0.11949624510359981|\n",
      "|        May-1998|   029xx|    Source Verified|          RENT|       D2| 60 months|10066327|  14675.0|    14675.0|        14675.0|   16.29|     359.14|    D|   35000.0|Oct-2014| Fully Paid|         n|https://lendingcl...|       credit_card|Credit card refin...|        RI|27.85|        0.0|         710.0|          714.0|           1.0|    14.0|    0.0|  19403.0|      74.9|     24.0|                  w|      0.0|          0.0|  20273.5822074462|       20273.58|        14675.0|      5598.58|               0.0|       0.0|                    0.0|    Nov-2017|         1055.2|          Dec-2017|               739.0|              735.0|                       0.0|        1.0|      Individual|           0.0|                 2.0|        4897.0|   79.8|                     0.0|        0.0|     0.0|                 1.0|        8.0|    14.0|            75.0|                 0.0|      0.0|          26865.0|       24300.0|            N|               Cash|                   N|           0|              2.0|0.05077741928032634|       1.0|   0.656449056231136|            6.0|  0.5968131743902927|                 3.0| 0.19170897137870133|             2.0| 0.17815682184621756|                      0.0|    0.05847419970770776|          10.0|-0.00865593062513...|      8.0| 0.32302334762562435|                   6.0|-0.00893346136850...|                11.0|-0.24758862246590962|                 1.0|0.08886429252893809|             5.0| 0.10112774317125806|[0.05077741928032...| 0.43553694754571853|\n",
      "|        Sep-2005|   672xx|       Not Verified|      MORTGAGE|       C5| 36 months|10067257|  14575.0|    14575.0|        14575.0|   14.99|     505.18|    C|   95000.0|Jul-2014| Fully Paid|         n|https://lendingcl...|             other|               Other|        KS|18.48|        2.0|         675.0|          679.0|           1.0|     9.0|    0.0|   5328.0|      37.0|     47.0|                  w|      0.0|          0.0|          16745.68|       16745.68|        14575.0|      2170.68|               0.0|       0.0|                    0.0|    Sep-2015|       10178.34|          Jul-2018|               739.0|              735.0|                       0.0|        1.0|      Individual|           0.0|                 6.0|        1743.0|   71.4|                     0.0|        0.0|     0.0|                39.0|        3.0|     9.0|            33.3|                 0.0|      0.0|          93074.0|        6100.0|            N|               Cash|                   N|           0|              2.0|0.05077741928032634|       0.0|-0.27106867520003614|            0.0|   0.240086810426605|                 5.0|-0.18009551362907258|             6.0|-0.14577632100216914|                      1.0|    -0.3615039873000736|          13.0| 0.13598923268928162|      4.0|-0.03716783782410...|                   6.0|-0.00893346136850...|                 4.0|  0.2150648356402604|                 1.0|0.08886429252893809|             2.0|-0.12911125219343828|[0.05077741928032...| 0.19590367154080957|\n",
      "|        Jul-2002|   141xx|       Not Verified|      MORTGAGE|       A1| 36 months|10068968|  12500.0|    12500.0|        12500.0|    6.03|     380.45|    A|   50000.0|Jul-2014| Fully Paid|         n|https://lendingcl...|       credit_card|Credit card refin...|        NY|13.71|        0.0|         710.0|          714.0|           0.0|    12.0|    0.0|  15501.0|      47.5|     26.0|                  w|      0.0|          0.0|13695.969952289799|       13695.97|        12500.0|      1195.97|               0.0|       0.0|                    0.0|    Jul-2017|         380.22|          Mar-2018|               779.0|              775.0|                       0.0|        1.0|      Individual|           0.0|                 5.0|       10560.0|   51.6|                     0.0|        0.0|     1.0|                35.0|        4.0|    12.0|            50.0|                 0.0|      0.0|          37166.0|       21800.0|            N|               Cash|                   N|           0|              2.0|0.05077741928032634|       0.0|-0.27106867520003614|            2.0| -1.5202257425547134|                 5.0|-0.18009551362907258|             3.0| 0.11759055163046839|                      1.0|    -0.3615039873000736|          10.0|-0.00865593062513...|      2.0|-0.18946891236965915|                   6.0|-0.00893346136850...|                11.0|-0.24758862246590962|                 0.0|-0.1339431634847562|             3.0|-0.01815417880224...|[0.05077741928032...|0.050704466850112685|\n",
      "|        Jan-2004|   461xx|    Source Verified|          RENT|       B3| 36 months|10073089|  25000.0|    25000.0|        24975.0|   10.99|     818.35|    B|   63000.0|Aug-2014| Fully Paid|         n|https://lendingcl...|debt_consolidation|  Debt consolidation|        IN|25.26|        0.0|         685.0|          689.0|           0.0|    17.0|    0.0|  26289.0|      82.2|     29.0|                  f|      0.0|          0.0|   29460.580579111|       29431.12|        25000.0|      4460.58|               0.0|       0.0|                    0.0|    Aug-2017|         818.33|          Aug-2017|               729.0|              725.0|                       0.0|        1.0|      Individual|           0.0|                 2.0|        1770.0|   91.8|                     0.0|        0.0|     0.0|                19.0|        4.0|    17.0|           100.0|                 0.0|      0.0|          69640.0|       21500.0|            N|               Cash|                   N|           0|              3.0| 0.1553521664238666|       0.0|-0.27106867520003614|            4.0|  -0.706767613735917|                 3.0| 0.19170897137870133|             4.0|0.059616659452344505|                      0.0|    0.05847419970770776|          13.0| 0.13598923268928162|      6.0|  0.1635869795064134|                  10.0|  0.1234241540501021|                 6.0| 0.09175326947771807|                 0.0|-0.1339431634847562|             6.0| 0.15402305405769026|[0.15535216642386...| 0.19331979809836172|\n",
      "|        Nov-2001|   941xx|    Source Verified|          RENT|       C3| 60 months|10074967|  28650.0|    28650.0|        28650.0|   13.98|     666.34|    C|  150000.0|May-2014| Fully Paid|         n|https://lendingcl...|debt_consolidation|  Debt consolidation|        CA|11.87|        0.0|         705.0|          709.0|           0.0|     8.0|    0.0|  39764.0|      86.8|     18.0|                  w|      0.0|          0.0|  38646.0407702394|       38646.04|        28650.0|      9996.04|               0.0|       0.0|                    0.0|    Dec-2017|        8292.44|          Mar-2019|               764.0|              760.0|                       0.0|        1.0|      Individual|           0.0|                 1.0|        4278.0|   90.0|                     0.0|        0.0|     0.0|                26.0|        6.0|     8.0|            60.0|                 0.0|      0.0|          52593.0|       42800.0|            N|               Cash|                   N|           0|              4.0|0.26685540466146423|       1.0|   0.656449056231136|            0.0|   0.240086810426605|                 3.0| 0.19170897137870133|             7.0|-0.24837833520060562|                      0.0|    0.05847419970770776|          11.0|-0.38865646702389145|      1.0|  -0.251819740248679|                   6.0|-0.00893346136850...|                10.0|-0.15691990749556192|                 0.0|-0.1339431634847562|             6.0| 0.15402305405769026|[0.26685540466146...|  0.2033655504523788|\n",
      "|        Oct-1996|   014xx|    Source Verified|      MORTGAGE|       E2| 60 months|10078462|  35000.0|    35000.0|        34950.0|   20.49|     936.86|    E|   96000.0|May-2014|Charged Off|         n|https://lendingcl...|debt_consolidation|  Debt consolidation|        MA|11.35|        0.0|         710.0|          714.0|           1.0|    13.0|    1.0|  27218.0|      40.6|     23.0|                  f|      0.0|          0.0|          17140.08|       17115.59|        6186.96|       8807.8|               0.0|   2145.32|         386.1575999946|    Sep-2015|         936.86|          Jul-2018|               544.0|              540.0|                       0.0|        1.0|      Individual|           0.0|                 9.0|       37082.0|   42.3|                     0.0|        0.0|     7.0|                 6.0|        9.0|    13.0|            33.3|                 1.0|      0.0|          46036.0|       64300.0|            N|               Cash|                   N|           1|              4.0|0.26685540466146423|       1.0|   0.656449056231136|            3.0|  0.9274807772107007|                 5.0|-0.18009551362907258|             6.0|-0.14577632100216914|                      0.0|    0.05847419970770776|           5.0| 0.05709727960552149|      1.0|  -0.251819740248679|                  10.0|  0.1234241540501021|                11.0|-0.24758862246590962|                 1.0|0.08886429252893809|             3.0|-0.01815417880224...|[0.26685540466146...| 0.35517560472990733|\n",
      "|        Oct-1999|   301xx|       Not Verified|          RENT|       D3| 60 months|10078882|  16000.0|    16000.0|        16000.0|   16.99|     397.56|    D|   65000.0|Jul-2014| Fully Paid|         n|https://lendingcl...|debt_consolidation|  Debt consolidation|        GA|14.55|        0.0|         685.0|          689.0|           1.0|    13.0|    1.0|  11450.0|      48.9|     34.0|                  w|      0.0|          0.0|          20954.53|       20954.53|        16000.0|      4954.53|               0.0|       0.0|                    0.0|    Aug-2016|       11413.09|          Aug-2016|               699.0|              695.0|                       0.0|        1.0|      Individual|           0.0|                 5.0|        3935.0|   70.6|                     0.0|        0.0|     6.0|                 8.0|        6.0|    13.0|            60.0|                 0.0|      1.0|          20592.0|       13400.0|            N|               Cash|                   N|           0|              3.0| 0.1553521664238666|       1.0|   0.656449056231136|            6.0|  0.5968131743902927|                 3.0| 0.19170897137870133|             4.0|0.059616659452344505|                      1.0|    -0.3615039873000736|          12.0|-0.09482449892239396|      2.0|-0.18946891236965915|                  12.0|-0.10113784851868839|                 6.0| 0.09175326947771807|                 1.0|0.08886429252893809|             4.0| 0.04616138807431829|[0.15535216642386...|   0.351484521412617|\n",
      "|        Oct-2001|   750xx|       Not Verified|      MORTGAGE|       A4| 36 months|10080561|  15000.0|    15000.0|        15000.0|    7.69|     467.91|    A|   92500.0|Oct-2014|Charged Off|         n|https://lendingcl...|debt_consolidation|  Debt consolidation|        TX| 9.86|        0.0|         745.0|          749.0|           1.0|    12.0|    0.0|   8548.0|      23.3|     18.0|                  w|      0.0|          0.0|           5409.03|        5409.03|        2542.27|       696.88|              23.4|   2146.48|               193.1832|    Jun-2015|         467.91|          Oct-2016|               509.0|              505.0|                       0.0|        1.0|      Individual|           0.0|                 3.0|       17226.0|   19.1|                     0.0|        0.0|     1.0|                14.0|        6.0|    12.0|            33.3|                 0.0|      0.0|          18744.0|       21300.0|            N|               Cash|                   N|           1|              2.0|0.05077741928032634|       0.0|-0.27106867520003614|            2.0| -1.5202257425547134|                 5.0|-0.18009551362907258|             6.0|-0.14577632100216914|                      1.0|    -0.3615039873000736|          12.0|-0.09482449892239396|      0.0|-0.35388334814283673|                   6.0|-0.00893346136850...|                17.0| -0.6095204020800882|                 1.0|0.08886429252893809|             2.0|-0.12911125219343828|[0.05077741928032...| 0.03526132580923484|\n",
      "|        Aug-2003|   550xx|    Source Verified|          RENT|       C2| 60 months|10081836|  17000.0|    17000.0|        17000.0|   14.16|     396.98|    C|   57000.0|Apr-2014| Fully Paid|         n|https://lendingcl...|       credit_card|Credit card refin...|        MN| 21.2|        1.0|         680.0|          684.0|           0.0|    15.0|    0.0|  11072.0|      70.1|     29.0|                  w|      0.0|          0.0|23498.127991511097|       23498.13|        17000.0|      6498.13|               0.0|       0.0|                    0.0|    May-2018|        4840.07|          May-2018|               639.0|              635.0|                       0.0|        1.0|      Individual|           0.0|                 5.0|        1009.0|   90.8|                     0.0|        0.0|     4.0|                27.0|        3.0|    15.0|           100.0|                 0.0|      0.0|          61618.0|       11000.0|            N|               Cash|                   N|           0|              3.0| 0.1553521664238666|       1.0|   0.656449056231136|            0.0|   0.240086810426605|                 3.0| 0.19170897137870133|             4.0|0.059616659452344505|                      0.0|    0.05847419970770776|           5.0| 0.05709727960552149|      5.0| 0.04880547363448311|                   6.0|-0.00893346136850...|                 5.0| 0.18275134818994673|                 0.0|-0.1339431634847562|             5.0| 0.10112774317125806|[0.15535216642386...| 0.37995986998956544|\n",
      "|        Oct-1991|   557xx|    Source Verified|      MORTGAGE|       B2| 60 months|10086125|  28000.0|    28000.0|        28000.0|   10.15|     596.99|    B|   70000.0|Oct-2014| Fully Paid|         n|https://lendingcl...|       credit_card|Credit card refin...|        MN|16.11|        1.0|         690.0|          694.0|           1.0|    14.0|    0.0|  40531.0|      84.6|     36.0|                  w|      0.0|          0.0|  34767.2679305748|       34767.27|        28000.0|      6767.27|               0.0|       0.0|                    0.0|    Jan-2018|       12113.23|          Mar-2018|               809.0|              805.0|                       0.0|        1.0|      Individual|           0.0|                 6.0|        4472.0|   88.2|                     0.0|        0.0|     2.0|                 9.0|        7.0|    14.0|            50.0|                 0.0|      0.0|          88856.0|       37900.0|            N|               Cash|                   N|           0|              3.0| 0.1553521664238666|       1.0|   0.656449056231136|            4.0|  -0.706767613735917|                 5.0|-0.18009551362907258|             5.0|-0.04936568722431...|                      0.0|    0.05847419970770776|          10.0|-0.00865593062513...|      3.0|-0.10040446693150172|                   0.0| -0.2227885657945895|                 7.0| 0.04617836397088992|                 1.0|0.08886429252893809|             6.0| 0.15402305405769026|[0.15535216642386...| 0.14900738996801946|\n",
      "|        Sep-2001|   331xx|    Source Verified|      MORTGAGE|       B2| 36 months|10086573|   2500.0|     2500.0|         2500.0|   10.15|      80.85|    B|  101000.0|Jul-2014| Fully Paid|         n|https://lendingcl...|debt_consolidation|  Debt consolidation|        FL|17.48|        0.0|         685.0|          689.0|           0.0|    17.0|    0.0|  18482.0|      50.2|     43.0|                  w|      0.0|          0.0|           2696.17|        2696.17|         2500.0|       196.17|               0.0|       0.0|                    0.0|    Jun-2015|        1968.52|          Mar-2019|               709.0|              705.0|                       0.0|        1.0|      Individual|           0.0|                 8.0|        8867.0|   56.1|                     0.0|        0.0|     6.0|                11.0|        9.0|    17.0|            22.2|                 0.0|      0.0|          46893.0|       24200.0|            N|               Cash|                   N|           0|              0.0|-0.2589284814565611|       0.0|-0.27106867520003614|            4.0|  -0.706767613735917|                 5.0|-0.18009551362907258|             7.0|-0.24837833520060562|                      0.0|    0.05847419970770776|           6.0| 0.23918987576877748|      4.0|-0.03716783782410...|                  12.0|-0.10113784851868839|                 6.0| 0.09175326947771807|                 0.0|-0.1339431634847562|             4.0| 0.04616138807431829|[-0.2589284814565...| 0.08568619089945291|\n",
      "|        Nov-2004|   236xx|    Source Verified|           OWN|       B2| 36 months|10087672|  27000.0|    27000.0|        26975.0|   10.15|     873.12|    B|   74481.0|Jul-2014| Fully Paid|         n|https://lendingcl...|debt_consolidation|  Debt consolidation|        VA|31.59|        0.0|         700.0|          704.0|           1.0|    14.0|    0.0|  17170.0|      85.8|     24.0|                  f|      0.0|          0.0|         27228.375|       27203.16|        27000.0|       228.38|               0.0|       0.0|                    0.0|    Aug-2014|       27228.38|          Dec-2016|               589.0|              585.0|                       0.0|        1.0|      Individual|           0.0|                 3.0|        2830.0|   85.8|                     0.0|        0.0|     0.0|                25.0|        3.0|    14.0|           100.0|                 0.0|      0.0|          81504.0|       20000.0|            N|               Cash|                   N|           0|              3.0| 0.1553521664238666|       0.0|-0.27106867520003614|            4.0|  -0.706767613735917|                 1.0| 0.03716946706162301|             5.0|-0.04936568722431...|                      0.0|    0.05847419970770776|           5.0| 0.05709727960552149|      9.0| 0.42262649905478505|                  10.0|  0.1234241540501021|                 9.0|-0.07892256461055189|                 1.0|0.08886429252893809|             6.0| 0.15402305405769026|[0.15535216642386...| 0.17682569418940502|\n",
      "|        Jun-1999|   750xx|           Verified|      MORTGAGE|       A3| 36 months|10089831|  27500.0|    27500.0|        27500.0|    7.12|     850.63|    A|   85000.0|Jul-2014| Fully Paid|         n|https://lendingcl...|debt_consolidation|  Debt consolidation|        TX|23.84|        1.0|         720.0|          724.0|           0.0|    16.0|    0.0|  23862.0|      40.0|     31.0|                  w|      0.0|          0.0|           30113.6|        30113.6|        27500.0|       2613.6|               0.0|       0.0|                    0.0|    May-2016|       12250.37|          Mar-2019|               769.0|              765.0|                       0.0|        1.0|      Individual|           0.0|                 4.0|       30219.0|   43.5|                     0.0|        0.0|     3.0|                36.0|        6.0|    16.0|            16.7|                 0.0|      0.0|          61342.0|       53500.0|            N|               Cash|                   N|           0|              3.0| 0.1553521664238666|       0.0|-0.27106867520003614|            2.0| -1.5202257425547134|                 5.0|-0.18009551362907258|             5.0|-0.04936568722431...|                      2.0|     0.2252439030212081|          12.0|-0.09482449892239396|      6.0|  0.1635869795064134|                  12.0|-0.10113784851868839|                13.0|-0.36158158083545594|                 0.0|-0.1339431634847562|             3.0|-0.01815417880224...|[0.15535216642386...|0.056226456261904506|\n",
      "|        Aug-2006|   658xx|       Not Verified|          RENT|       A3| 36 months|10091440|   5000.0|     5000.0|         5000.0|    6.68|     153.66|    A|   30000.0|Feb-2015| Fully Paid|         n|https://lendingcl...|debt_consolidation|  Debt consolidation|        MO| 12.4|        0.0|         775.0|          779.0|           0.0|     6.0|    0.0|   3291.0|      11.5|     23.0|                  w|      0.0|          0.0|5529.7009656440005|         5529.7|         5000.0|        529.7|               0.0|       0.0|                    0.0|    Mar-2018|         153.46|          Nov-2018|               814.0|              810.0|                       0.0|        1.0|      Individual|           0.0|                 2.0|       23217.0|   11.4|                     0.0|        0.0|     0.0|                31.0|        4.0|     6.0|             0.0|                 0.0|      0.0|          33040.0|       26200.0|            N|               Cash|                   N|           0|              0.0|-0.2589284814565611|       0.0|-0.27106867520003614|            2.0| -1.5202257425547134|                 3.0| 0.19170897137870133|             1.0| 0.24200714018123423|                      1.0|    -0.3615039873000736|           5.0| 0.05709727960552149|      1.0|  -0.251819740248679|                   6.0|-0.00893346136850...|                20.0|  -0.892731060917019|                 0.0|-0.1339431634847562|             0.0| -0.3692679851287086|[-0.2589284814565...| 0.05159083542252246|\n",
      "|        Feb-2000|   337xx|    Source Verified|      MORTGAGE|       D1| 60 months|10095095|  19500.0|    19500.0|        19500.0|   15.61|     470.18|    D|   54000.0|Jul-2014|Charged Off|         n|https://lendingcl...|debt_consolidation|  Debt consolidation|        FL|26.24|        0.0|         670.0|          674.0|           1.0|    10.0|    0.0|   8607.0|      47.0|     25.0|                  f|      0.0|          0.0|           7522.88|        7522.88|        3823.68|       3699.2|               0.0|       0.0|                    0.0|    Nov-2015|         470.18|          Feb-2017|               539.0|              535.0|                       0.0|        1.0|      Individual|           0.0|                 6.0|        3100.0|   59.7|                     0.0|        0.0|     6.0|                 3.0|        3.0|    10.0|            33.3|                 0.0|      0.0|          44490.0|        7700.0|            N|               Cash|                   N|           1|              3.0| 0.1553521664238666|       1.0|   0.656449056231136|            0.0|   0.240086810426605|                 5.0|-0.18009551362907258|             4.0|0.059616659452344505|                      0.0|    0.05847419970770776|           5.0| 0.05709727960552149|      7.0|  0.2552304022058341|                   6.0|-0.00893346136850...|                 3.0|  0.2702729914619723|                 1.0|0.08886429252893809|             3.0|-0.01815417880224...|[0.15535216642386...|  0.3715564304235922|\n",
      "|        Oct-1998|   220xx|    Source Verified|          RENT|       B1| 36 months|10096063|  19200.0|    19200.0|        19200.0|    8.18|     603.26|    B|   95048.0|Jun-2015|Charged Off|         n|https://lendingcl...|debt_consolidation|  Debt consolidation|        VA|16.81|        1.0|         685.0|          689.0|           0.0|    14.0|    0.0|  28104.0|      49.4|     18.0|                  f|      0.0|          0.0|           7992.94|        7992.94|        5376.95|      1250.18|               0.0|   1365.81|         245.8457999925|    Jun-2016|         603.26|          Dec-2016|               619.0|              615.0|                       0.0|        1.0|      Individual|           0.0|                 2.0|       24185.0|   46.7|                     0.0|        0.0|     0.0|                84.0|        8.0|    14.0|            25.0|                 0.0|      0.0|          29669.0|       45400.0|            N|               Cash|                   N|           1|              3.0| 0.1553521664238666|       0.0|-0.27106867520003614|            4.0|  -0.706767613735917|                 3.0| 0.19170897137870133|             6.0|-0.14577632100216914|                      0.0|    0.05847419970770776|          12.0|-0.09482449892239396|      3.0|-0.10040446693150172|                   6.0|-0.00893346136850...|                 6.0| 0.09175326947771807|                 0.0|-0.1339431634847562|             4.0| 0.04616138807431829|[0.15535216642386...| 0.12200954291402104|\n",
      "|        Oct-1994|   241xx|    Source Verified|      MORTGAGE|       A3| 36 months|10096235|  28000.0|    28000.0|        28000.0|    7.12|      866.1|    A|   94500.0|Oct-2014| Fully Paid|         n|https://lendingcl...|       credit_card|Credit card refin...|        VA|28.42|        0.0|         740.0|          744.0|           0.0|    18.0|    0.0| 182166.0|      60.7|     33.0|                  w|      0.0|          0.0|  31140.3624998915|       31140.36|        28000.0|      3140.36|               0.0|       0.0|                    0.0|    Jul-2017|        3436.24|          Nov-2018|               719.0|              715.0|                       0.0|        1.0|      Individual|           0.0|                 3.0|       41849.0|   55.9|                     0.0|        0.0|     6.0|                12.0|        7.0|    18.0|            42.9|                 0.0|      0.0|         194422.0|       94900.0|            N|               Cash|                   N|           0|              3.0| 0.1553521664238666|       0.0|-0.27106867520003614|            2.0| -1.5202257425547134|                 5.0|-0.18009551362907258|             6.0|-0.14577632100216914|                      0.0|    0.05847419970770776|           5.0| 0.05709727960552149|      8.0| 0.32302334762562435|                   6.0|-0.00893346136850...|                17.0| -0.6095204020800882|                 0.0|-0.1339431634847562|             5.0| 0.10112774317125806|[0.15535216642386...| 0.05816839834651089|\n",
      "|        Apr-1997|   431xx|    Source Verified|      MORTGAGE|       C1| 60 months|10099597|  10800.0|    10800.0|        10800.0|   12.99|     245.68|    C|  100000.0|Oct-2014| Fully Paid|         n|https://lendingcl...|debt_consolidation|  Debt consolidation|        OH|14.98|        1.0|         675.0|          679.0|           0.0|    12.0|    0.0|  10044.0|      55.2|     13.0|                  w|      0.0|          0.0|14628.973255704099|       14628.97|        10800.0|      3828.97|               0.0|       0.0|                    0.0|    Dec-2018|        2590.65|          Mar-2019|               739.0|              735.0|                       0.0|        1.0|      Individual|           0.0|                 4.0|        1641.0|   63.5|                     0.0|        0.0|     1.0|                25.0|        3.0|    12.0|            66.7|                 0.0|      0.0|          39660.0|        4500.0|            N|               Cash|                   N|           0|              2.0|0.05077741928032634|       1.0|   0.656449056231136|            5.0|-0.20859572688986106|                 5.0|-0.18009551362907258|             6.0|-0.14577632100216914|                      0.0|    0.05847419970770776|           5.0| 0.05709727960552149|      3.0|-0.10040446693150172|                  12.0|-0.10113784851868839|                 4.0|  0.2150648356402604|                 0.0|-0.1339431634847562|             4.0| 0.04616138807431829|[0.05077741928032...|  0.1945895122452258|\n",
      "|        Apr-1992|   985xx|    Source Verified|      MORTGAGE|       C2| 36 months|10100188|   8400.0|     8400.0|         8400.0|   14.16|     287.75|    C|   43000.0|May-2014| Fully Paid|         n|https://lendingcl...|debt_consolidation|  Debt consolidation|        WA|18.27|        0.0|         720.0|          724.0|           1.0|    13.0|    1.0|   9258.0|      33.3|     21.0|                  w|      0.0|          0.0|           8499.12|        8499.12|         8400.0|        99.12|               0.0|       0.0|                    0.0|    Jun-2014|        8499.12|          Mar-2019|               689.0|              685.0|                       0.0|        1.0|      Individual|           0.0|                 5.0|       11850.0|   21.0|                     0.0|        0.0|     2.0|                 1.0|        3.0|    13.0|            33.3|                 1.0|      0.0|          12174.0|       15000.0|            N|               Cash|                   N|           0|              0.0|-0.2589284814565611|       0.0|-0.27106867520003614|            0.0|   0.240086810426605|                 5.0|-0.18009551362907258|             3.0| 0.11759055163046839|                      0.0|    0.05847419970770776|           1.0|  -0.210759095932935|      4.0|-0.03716783782410...|                  12.0|-0.10113784851868839|                13.0|-0.36158158083545594|                 1.0|0.08886429252893809|             2.0|-0.12911125219343828|[-0.2589284814565...| 0.11930277452178091|\n",
      "+----------------+--------+-------------------+--------------+---------+----------+--------+---------+-----------+---------------+--------+-----------+-----+----------+--------+-----------+----------+--------------------+------------------+--------------------+----------+-----+-----------+--------------+---------------+--------------+--------+-------+---------+----------+---------+-------------------+---------+-------------+------------------+---------------+---------------+-------------+------------------+----------+-----------------------+------------+---------------+------------------+--------------------+-------------------+--------------------------+-----------+----------------+--------------+--------------------+--------------+-------+------------------------+-----------+--------+--------------------+-----------+--------+----------------+--------------------+---------+-----------------+--------------+-------------+-------------------+--------------------+------------+-----------------+-------------------+----------+--------------------+---------------+--------------------+--------------------+--------------------+----------------+--------------------+-------------------------+-----------------------+--------------+--------------------+---------+--------------------+----------------------+--------------------+--------------------+--------------------+--------------------+-------------------+----------------+--------------------+--------------------+--------------------+\n",
      "only showing top 20 rows\n"
     ]
    }
   ],
   "source": [
    "raw_train_df\\\n",
    "    .transform(model.transform)\\\n",
    "    .show()"
   ]
  }
 ],
 "metadata": {
  "kernelspec": {
   "display_name": ".venv",
   "language": "python",
   "name": "python3"
  },
  "language_info": {
   "codemirror_mode": {
    "name": "ipython",
    "version": 3
   },
   "file_extension": ".py",
   "mimetype": "text/x-python",
   "name": "python",
   "nbconvert_exporter": "python",
   "pygments_lexer": "ipython3",
   "version": "3.10.12"
  }
 },
 "nbformat": 4,
 "nbformat_minor": 5
}
