{
 "cells": [
  {
   "cell_type": "markdown",
   "id": "8e8e1fa5",
   "metadata": {},
   "source": [
    "# Description\n",
    "Create a logistic regression"
   ]
  },
  {
   "cell_type": "markdown",
   "id": "1afb7bab",
   "metadata": {},
   "source": [
    "# Setup"
   ]
  },
  {
   "cell_type": "code",
   "execution_count": null,
   "id": "dc294d45",
   "metadata": {},
   "outputs": [],
   "source": [
    "import pandas as pd\n",
    "import plotly.express as px\n",
    "import re\n",
    "import numpy as np\n",
    "from IPython.display import Image\n",
    "from sklearn.tree import DecisionTreeClassifier\n",
    "from sklearn import tree\n",
    "import joblib\n",
    "\n",
    "import findspark\n",
    "import pyspark\n",
    "from pyspark.sql import SparkSession\n",
    "import pyspark\n",
    "from pyspark.sql import DataFrame\n",
    "import pyspark.sql.functions as sql\n",
    "from pyspark.sql.window import Window\n",
    "from pyspark.sql.functions import *\n",
    "from pyspark.sql import functions as F\n",
    "from pyspark.sql.types import *\n",
    "from pyspark.ml.stat import Correlation\n",
    "from pyspark.ml.feature import VectorAssembler\n",
    "\n",
    "from pyspark.ml import Pipeline, PipelineModel\n",
    "from pyspark.ml.regression import GeneralizedLinearRegression\n",
    "from pyspark.ml.functions import vector_to_array"
   ]
  },
  {
   "cell_type": "code",
   "execution_count": 3,
   "id": "9aeed56d",
   "metadata": {},
   "outputs": [
    {
     "name": "stderr",
     "output_type": "stream",
     "text": [
      "WARNING: Using incubator modules: jdk.incubator.vector\n",
      "Using Spark's default log4j profile: org/apache/spark/log4j2-defaults.properties\n",
      "25/06/09 10:00:28 WARN Utils: Your hostname, pop-os-note, resolves to a loopback address: 127.0.0.1; using 192.168.0.4 instead (on interface wlp2s0)\n",
      "25/06/09 10:00:28 WARN Utils: Set SPARK_LOCAL_IP if you need to bind to another address\n",
      "Using Spark's default log4j profile: org/apache/spark/log4j2-defaults.properties\n",
      "Setting default log level to \"WARN\".\n",
      "To adjust logging level use sc.setLogLevel(newLevel). For SparkR, use setLogLevel(newLevel).\n",
      "25/06/09 10:00:32 WARN NativeCodeLoader: Unable to load native-hadoop library for your platform... using builtin-java classes where applicable\n",
      "25/06/09 10:00:36 WARN Utils: Service 'SparkUI' could not bind on port 4040. Attempting port 4041.\n"
     ]
    }
   ],
   "source": [
    "findspark.init()\n",
    "sc = pyspark.SparkContext(appName=\"Test\")\n",
    "spark = SparkSession.builder.master(\"local[*]\") \\\n",
    "                    .appName('test') \\\n",
    "                    .getOrCreate()"
   ]
  },
  {
   "cell_type": "code",
   "execution_count": 4,
   "id": "7e2b62f7",
   "metadata": {},
   "outputs": [],
   "source": [
    "pd.set_option('display.max_rows', 1000)"
   ]
  },
  {
   "cell_type": "code",
   "execution_count": 5,
   "id": "8a483287",
   "metadata": {},
   "outputs": [],
   "source": [
    "input_path = \"../data/\"\n",
    "output_path = \"../outputs/\""
   ]
  },
  {
   "cell_type": "markdown",
   "id": "75f33933",
   "metadata": {},
   "source": [
    "# Data"
   ]
  },
  {
   "cell_type": "code",
   "execution_count": 6,
   "id": "4b546dd0",
   "metadata": {},
   "outputs": [
    {
     "name": "stderr",
     "output_type": "stream",
     "text": [
      "                                                                                \r"
     ]
    }
   ],
   "source": [
    "train_data = spark.read.parquet(f\"{output_path}train_df_woe.parquet\")\n",
    "test_data = spark.read.parquet(f\"{output_path}test_df_woe.parquet\")"
   ]
  },
  {
   "cell_type": "markdown",
   "id": "397c2c80",
   "metadata": {},
   "source": [
    "# Analysis"
   ]
  },
  {
   "cell_type": "code",
   "execution_count": 10,
   "id": "7fe32908",
   "metadata": {},
   "outputs": [
    {
     "name": "stderr",
     "output_type": "stream",
     "text": [
      "                                                                                \r"
     ]
    }
   ],
   "source": [
    "selected_cols = \\\n",
    "['funded_amnt_woe',\n",
    " 'term_woe',\n",
    " 'sub_grade_woe',\n",
    " 'home_ownership_woe',\n",
    " 'annual_inc_woe',\n",
    " 'verification_status_woe',\n",
    " 'zip_code_woe',\n",
    " 'dti_woe',\n",
    " 'earliest_cr_line_woe',\n",
    " 'fico_range_low_woe',\n",
    " 'inq_last_6mths_woe',\n",
    " 'revol_util_woe']\n",
    "\n",
    "target_col = \"default_flag\"\n",
    "\n",
    "Xtrain = train_data.select(selected_cols).toPandas()\n",
    "ytrain = train_data.select(target_col).toPandas()[target_col]"
   ]
  },
  {
   "cell_type": "code",
   "execution_count": 13,
   "id": "4826c69a",
   "metadata": {},
   "outputs": [
    {
     "name": "stdout",
     "output_type": "stream",
     "text": [
      "Optimization terminated successfully.\n",
      "         Current function value: 0.452541\n",
      "         Iterations 6\n"
     ]
    },
    {
     "data": {
      "text/html": [
       "<table class=\"simpletable\">\n",
       "<caption>Logit Regression Results</caption>\n",
       "<tr>\n",
       "  <th>Dep. Variable:</th>     <td>default_flag</td>   <th>  No. Observations:  </th>   <td>809048</td>   \n",
       "</tr>\n",
       "<tr>\n",
       "  <th>Model:</th>                 <td>Logit</td>      <th>  Df Residuals:      </th>   <td>809035</td>   \n",
       "</tr>\n",
       "<tr>\n",
       "  <th>Method:</th>                 <td>MLE</td>       <th>  Df Model:          </th>   <td>    12</td>   \n",
       "</tr>\n",
       "<tr>\n",
       "  <th>Date:</th>            <td>Mon, 09 Jun 2025</td> <th>  Pseudo R-squ.:     </th>   <td>0.09411</td>  \n",
       "</tr>\n",
       "<tr>\n",
       "  <th>Time:</th>                <td>10:38:23</td>     <th>  Log-Likelihood:    </th> <td>-3.6613e+05</td>\n",
       "</tr>\n",
       "<tr>\n",
       "  <th>converged:</th>             <td>True</td>       <th>  LL-Null:           </th> <td>-4.0416e+05</td>\n",
       "</tr>\n",
       "<tr>\n",
       "  <th>Covariance Type:</th>     <td>nonrobust</td>    <th>  LLR p-value:       </th>   <td> 0.000</td>   \n",
       "</tr>\n",
       "</table>\n",
       "<table class=\"simpletable\">\n",
       "<tr>\n",
       "             <td></td>                <th>coef</th>     <th>std err</th>      <th>z</th>      <th>P>|z|</th>  <th>[0.025</th>    <th>0.975]</th>  \n",
       "</tr>\n",
       "<tr>\n",
       "  <th>const</th>                   <td>   -1.3925</td> <td>    0.003</td> <td> -463.422</td> <td> 0.000</td> <td>   -1.398</td> <td>   -1.387</td>\n",
       "</tr>\n",
       "<tr>\n",
       "  <th>funded_amnt_woe</th>         <td>    0.6825</td> <td>    0.020</td> <td>   33.474</td> <td> 0.000</td> <td>    0.643</td> <td>    0.722</td>\n",
       "</tr>\n",
       "<tr>\n",
       "  <th>term_woe</th>                <td>    0.5354</td> <td>    0.008</td> <td>   64.282</td> <td> 0.000</td> <td>    0.519</td> <td>    0.552</td>\n",
       "</tr>\n",
       "<tr>\n",
       "  <th>sub_grade_woe</th>           <td>    0.6364</td> <td>    0.006</td> <td>  110.500</td> <td> 0.000</td> <td>    0.625</td> <td>    0.648</td>\n",
       "</tr>\n",
       "<tr>\n",
       "  <th>home_ownership_woe</th>      <td>    0.8873</td> <td>    0.018</td> <td>   50.464</td> <td> 0.000</td> <td>    0.853</td> <td>    0.922</td>\n",
       "</tr>\n",
       "<tr>\n",
       "  <th>annual_inc_woe</th>          <td>    0.6501</td> <td>    0.021</td> <td>   30.764</td> <td> 0.000</td> <td>    0.609</td> <td>    0.691</td>\n",
       "</tr>\n",
       "<tr>\n",
       "  <th>verification_status_woe</th> <td>    0.2270</td> <td>    0.013</td> <td>   16.931</td> <td> 0.000</td> <td>    0.201</td> <td>    0.253</td>\n",
       "</tr>\n",
       "<tr>\n",
       "  <th>zip_code_woe</th>            <td>    0.9134</td> <td>    0.016</td> <td>   57.019</td> <td> 0.000</td> <td>    0.882</td> <td>    0.945</td>\n",
       "</tr>\n",
       "<tr>\n",
       "  <th>dti_woe</th>                 <td>    0.5690</td> <td>    0.011</td> <td>   50.103</td> <td> 0.000</td> <td>    0.547</td> <td>    0.591</td>\n",
       "</tr>\n",
       "<tr>\n",
       "  <th>earliest_cr_line_woe</th>    <td>    0.6038</td> <td>    0.020</td> <td>   29.868</td> <td> 0.000</td> <td>    0.564</td> <td>    0.643</td>\n",
       "</tr>\n",
       "<tr>\n",
       "  <th>fico_range_low_woe</th>      <td>    0.4678</td> <td>    0.011</td> <td>   42.922</td> <td> 0.000</td> <td>    0.446</td> <td>    0.489</td>\n",
       "</tr>\n",
       "<tr>\n",
       "  <th>inq_last_6mths_woe</th>      <td>    0.4625</td> <td>    0.018</td> <td>   25.425</td> <td> 0.000</td> <td>    0.427</td> <td>    0.498</td>\n",
       "</tr>\n",
       "<tr>\n",
       "  <th>revol_util_woe</th>          <td>   -0.2736</td> <td>    0.022</td> <td>  -12.408</td> <td> 0.000</td> <td>   -0.317</td> <td>   -0.230</td>\n",
       "</tr>\n",
       "</table>"
      ],
      "text/latex": [
       "\\begin{center}\n",
       "\\begin{tabular}{lclc}\n",
       "\\toprule\n",
       "\\textbf{Dep. Variable:}            &  default\\_flag   & \\textbf{  No. Observations:  } &    809048    \\\\\n",
       "\\textbf{Model:}                    &      Logit       & \\textbf{  Df Residuals:      } &    809035    \\\\\n",
       "\\textbf{Method:}                   &       MLE        & \\textbf{  Df Model:          } &        12    \\\\\n",
       "\\textbf{Date:}                     & Mon, 09 Jun 2025 & \\textbf{  Pseudo R-squ.:     } &   0.09411    \\\\\n",
       "\\textbf{Time:}                     &     10:38:23     & \\textbf{  Log-Likelihood:    } & -3.6613e+05  \\\\\n",
       "\\textbf{converged:}                &       True       & \\textbf{  LL-Null:           } & -4.0416e+05  \\\\\n",
       "\\textbf{Covariance Type:}          &    nonrobust     & \\textbf{  LLR p-value:       } &     0.000    \\\\\n",
       "\\bottomrule\n",
       "\\end{tabular}\n",
       "\\begin{tabular}{lcccccc}\n",
       "                                   & \\textbf{coef} & \\textbf{std err} & \\textbf{z} & \\textbf{P$> |$z$|$} & \\textbf{[0.025} & \\textbf{0.975]}  \\\\\n",
       "\\midrule\n",
       "\\textbf{const}                     &      -1.3925  &        0.003     &  -463.422  &         0.000        &       -1.398    &       -1.387     \\\\\n",
       "\\textbf{funded\\_amnt\\_woe}         &       0.6825  &        0.020     &    33.474  &         0.000        &        0.643    &        0.722     \\\\\n",
       "\\textbf{term\\_woe}                 &       0.5354  &        0.008     &    64.282  &         0.000        &        0.519    &        0.552     \\\\\n",
       "\\textbf{sub\\_grade\\_woe}           &       0.6364  &        0.006     &   110.500  &         0.000        &        0.625    &        0.648     \\\\\n",
       "\\textbf{home\\_ownership\\_woe}      &       0.8873  &        0.018     &    50.464  &         0.000        &        0.853    &        0.922     \\\\\n",
       "\\textbf{annual\\_inc\\_woe}          &       0.6501  &        0.021     &    30.764  &         0.000        &        0.609    &        0.691     \\\\\n",
       "\\textbf{verification\\_status\\_woe} &       0.2270  &        0.013     &    16.931  &         0.000        &        0.201    &        0.253     \\\\\n",
       "\\textbf{zip\\_code\\_woe}            &       0.9134  &        0.016     &    57.019  &         0.000        &        0.882    &        0.945     \\\\\n",
       "\\textbf{dti\\_woe}                  &       0.5690  &        0.011     &    50.103  &         0.000        &        0.547    &        0.591     \\\\\n",
       "\\textbf{earliest\\_cr\\_line\\_woe}   &       0.6038  &        0.020     &    29.868  &         0.000        &        0.564    &        0.643     \\\\\n",
       "\\textbf{fico\\_range\\_low\\_woe}     &       0.4678  &        0.011     &    42.922  &         0.000        &        0.446    &        0.489     \\\\\n",
       "\\textbf{inq\\_last\\_6mths\\_woe}     &       0.4625  &        0.018     &    25.425  &         0.000        &        0.427    &        0.498     \\\\\n",
       "\\textbf{revol\\_util\\_woe}          &      -0.2736  &        0.022     &   -12.408  &         0.000        &       -0.317    &       -0.230     \\\\\n",
       "\\bottomrule\n",
       "\\end{tabular}\n",
       "%\\caption{Logit Regression Results}\n",
       "\\end{center}"
      ],
      "text/plain": [
       "<class 'statsmodels.iolib.summary.Summary'>\n",
       "\"\"\"\n",
       "                           Logit Regression Results                           \n",
       "==============================================================================\n",
       "Dep. Variable:           default_flag   No. Observations:               809048\n",
       "Model:                          Logit   Df Residuals:                   809035\n",
       "Method:                           MLE   Df Model:                           12\n",
       "Date:                Mon, 09 Jun 2025   Pseudo R-squ.:                 0.09411\n",
       "Time:                        10:38:23   Log-Likelihood:            -3.6613e+05\n",
       "converged:                       True   LL-Null:                   -4.0416e+05\n",
       "Covariance Type:            nonrobust   LLR p-value:                     0.000\n",
       "===========================================================================================\n",
       "                              coef    std err          z      P>|z|      [0.025      0.975]\n",
       "-------------------------------------------------------------------------------------------\n",
       "const                      -1.3925      0.003   -463.422      0.000      -1.398      -1.387\n",
       "funded_amnt_woe             0.6825      0.020     33.474      0.000       0.643       0.722\n",
       "term_woe                    0.5354      0.008     64.282      0.000       0.519       0.552\n",
       "sub_grade_woe               0.6364      0.006    110.500      0.000       0.625       0.648\n",
       "home_ownership_woe          0.8873      0.018     50.464      0.000       0.853       0.922\n",
       "annual_inc_woe              0.6501      0.021     30.764      0.000       0.609       0.691\n",
       "verification_status_woe     0.2270      0.013     16.931      0.000       0.201       0.253\n",
       "zip_code_woe                0.9134      0.016     57.019      0.000       0.882       0.945\n",
       "dti_woe                     0.5690      0.011     50.103      0.000       0.547       0.591\n",
       "earliest_cr_line_woe        0.6038      0.020     29.868      0.000       0.564       0.643\n",
       "fico_range_low_woe          0.4678      0.011     42.922      0.000       0.446       0.489\n",
       "inq_last_6mths_woe          0.4625      0.018     25.425      0.000       0.427       0.498\n",
       "revol_util_woe             -0.2736      0.022    -12.408      0.000      -0.317      -0.230\n",
       "===========================================================================================\n",
       "\"\"\""
      ]
     },
     "execution_count": 13,
     "metadata": {},
     "output_type": "execute_result"
    }
   ],
   "source": [
    "import statsmodels.api as sm\n",
    "Xtrain_cons = sm.add_constant(Xtrain)\n",
    "log_reg = sm.Logit(ytrain, Xtrain_cons).fit()\n",
    "log_reg.summary()"
   ]
  },
  {
   "cell_type": "code",
   "execution_count": null,
   "id": "a7355e16",
   "metadata": {},
   "outputs": [
    {
     "name": "stderr",
     "output_type": "stream",
     "text": [
      "25/06/09 10:54:01 WARN Instrumentation: [872d0bf2] regParam is zero, which might cause numerical instability and overfitting.\n",
      "25/06/09 10:54:08 WARN Instrumentation: [872d0bf2] regParam is zero, which might cause numerical instability and overfitting.\n",
      "25/06/09 10:54:14 WARN Instrumentation: [872d0bf2] regParam is zero, which might cause numerical instability and overfitting.\n",
      "25/06/09 10:54:18 WARN Instrumentation: [872d0bf2] regParam is zero, which might cause numerical instability and overfitting.\n",
      "25/06/09 10:54:23 WARN Instrumentation: [872d0bf2] regParam is zero, which might cause numerical instability and overfitting.\n",
      "25/06/09 10:54:27 WARN Instrumentation: [872d0bf2] regParam is zero, which might cause numerical instability and overfitting.\n",
      "25/06/09 10:54:31 WARN Instrumentation: [872d0bf2] regParam is zero, which might cause numerical instability and overfitting.\n",
      "                                                                                \r"
     ]
    }
   ],
   "source": [
    "selected_cols = \\\n",
    "['funded_amnt_woe',\n",
    " 'term_woe',\n",
    " 'sub_grade_woe',\n",
    " 'home_ownership_woe',\n",
    " 'annual_inc_woe',\n",
    " 'verification_status_woe',\n",
    " 'zip_code_woe',\n",
    " 'dti_woe',\n",
    " 'earliest_cr_line_woe',\n",
    " 'fico_range_low_woe',\n",
    " 'inq_last_6mths_woe',\n",
    " 'revol_util_woe']\n",
    "\n",
    "target_col = \"default_flag\"\n",
    "\n",
    "vectoriser = VectorAssembler(inputCols=selected_cols, outputCol=\"features\")\n",
    "glr = GeneralizedLinearRegression(family=\"binomial\", \n",
    "                                  link=\"logit\", \n",
    "                                  maxIter=10, \n",
    "                                  regParam=0, \n",
    "                                  featuresCol=\"features\",\n",
    "                                  labelCol=target_col)\n",
    "\n",
    "pipeline = Pipeline(stages=[vectoriser, glr])\n",
    "\n",
    "\n",
    "model = pipeline.fit(train_data)"
   ]
  },
  {
   "cell_type": "code",
   "execution_count": 30,
   "id": "46a2930e",
   "metadata": {},
   "outputs": [
    {
     "name": "stderr",
     "output_type": "stream",
     "text": [
      "                                                                                \r"
     ]
    },
    {
     "data": {
      "text/plain": [
       "Coefficients:\n",
       "             Feature Estimate Std Error   T Value P Value\n",
       "         (Intercept)  -1.3925    0.0030 -463.4218  0.0000\n",
       "     funded_amnt_woe   0.6825    0.0204   33.4737  0.0000\n",
       "            term_woe   0.5354    0.0083   64.2819  0.0000\n",
       "       sub_grade_woe   0.6364    0.0058  110.4996  0.0000\n",
       "  home_ownership_woe   0.8873    0.0176   50.4644  0.0000\n",
       "      annual_inc_woe   0.6501    0.0211   30.7642  0.0000\n",
       "verification_stat...   0.2270    0.0134   16.9309  0.0000\n",
       "        zip_code_woe   0.9134    0.0160   57.0190  0.0000\n",
       "             dti_woe   0.5690    0.0114   50.1032  0.0000\n",
       "earliest_cr_line_woe   0.6038    0.0202   29.8682  0.0000\n",
       "  fico_range_low_woe   0.4678    0.0109   42.9222  0.0000\n",
       "  inq_last_6mths_woe   0.4625    0.0182   25.4253  0.0000\n",
       "      revol_util_woe  -0.2736    0.0220  -12.4080  0.0000\n",
       "\n",
       "(Dispersion parameter for binomial family taken to be 1.0000)\n",
       "    Null deviance: 808325.9463 on 809035 degrees of freedom\n",
       "Residual deviance: 732254.3396 on 809035 degrees of freedom\n",
       "AIC: 732280.3396"
      ]
     },
     "execution_count": 30,
     "metadata": {},
     "output_type": "execute_result"
    }
   ],
   "source": [
    "model.stages[1].summary"
   ]
  },
  {
   "cell_type": "code",
   "execution_count": 50,
   "id": "f3de1845",
   "metadata": {},
   "outputs": [
    {
     "name": "stderr",
     "output_type": "stream",
     "text": [
      "[Stage 51:==============================================>           (4 + 1) / 5]\r"
     ]
    },
    {
     "name": "stdout",
     "output_type": "stream",
     "text": [
      "+-------------------+-------------------+\n",
      "|             actual|               pred|\n",
      "+-------------------+-------------------+\n",
      "|0.19938866420780968|0.19938866420781015|\n",
      "+-------------------+-------------------+\n",
      "\n"
     ]
    },
    {
     "name": "stderr",
     "output_type": "stream",
     "text": [
      "                                                                                \r"
     ]
    }
   ],
   "source": [
    "model\\\n",
    "    .transform(train_data)\\\n",
    "    .agg(avg(target_col).alias(\"actual\"),\n",
    "         avg(\"prediction\").alias(\"pred\"))\\\n",
    "    .show()"
   ]
  },
  {
   "cell_type": "code",
   "execution_count": 51,
   "id": "0df07d45",
   "metadata": {},
   "outputs": [
    {
     "name": "stderr",
     "output_type": "stream",
     "text": [
      "[Stage 54:===========================================>              (3 + 1) / 4]\r"
     ]
    },
    {
     "name": "stdout",
     "output_type": "stream",
     "text": [
      "+-------------------+-------------------+\n",
      "|             actual|               pred|\n",
      "+-------------------+-------------------+\n",
      "|0.20043558030687264|0.19942816374955474|\n",
      "+-------------------+-------------------+\n",
      "\n"
     ]
    },
    {
     "name": "stderr",
     "output_type": "stream",
     "text": [
      "                                                                                \r"
     ]
    }
   ],
   "source": [
    "test_data\\\n",
    "    .transform(model.transform)\\\n",
    "    .agg(avg(target_col).alias(\"actual\"),\n",
    "         avg(\"prediction\").alias(\"pred\"))\\\n",
    "    .show()"
   ]
  },
  {
   "cell_type": "code",
   "execution_count": null,
   "id": "76252813",
   "metadata": {},
   "outputs": [
    {
     "data": {
      "text/plain": [
       "Coefficients:\n",
       "             Feature Estimate Std Error   T Value P Value\n",
       "         (Intercept)  -1.3925    0.0030 -463.4218  0.0000\n",
       "     funded_amnt_woe   0.6825    0.0204   33.4737  0.0000\n",
       "            term_woe   0.5354    0.0083   64.2819  0.0000\n",
       "       sub_grade_woe   0.6364    0.0058  110.4996  0.0000\n",
       "  home_ownership_woe   0.8873    0.0176   50.4644  0.0000\n",
       "      annual_inc_woe   0.6501    0.0211   30.7642  0.0000\n",
       "verification_stat...   0.2270    0.0134   16.9309  0.0000\n",
       "        zip_code_woe   0.9134    0.0160   57.0190  0.0000\n",
       "             dti_woe   0.5690    0.0114   50.1032  0.0000\n",
       "earliest_cr_line_woe   0.6038    0.0202   29.8682  0.0000\n",
       "  fico_range_low_woe   0.4678    0.0109   42.9222  0.0000\n",
       "  inq_last_6mths_woe   0.4625    0.0182   25.4253  0.0000\n",
       "      revol_util_woe  -0.2736    0.0220  -12.4080  0.0000\n",
       "\n",
       "(Dispersion parameter for binomial family taken to be 1.0000)\n",
       "    Null deviance: 808325.9463 on 809035 degrees of freedom\n",
       "Residual deviance: 732254.3396 on 809035 degrees of freedom\n",
       "AIC: 732280.3396"
      ]
     },
     "execution_count": 63,
     "metadata": {},
     "output_type": "execute_result"
    }
   ],
   "source": [
    "model.stages[1].summary"
   ]
  },
  {
   "cell_type": "code",
   "execution_count": 57,
   "id": "7e483fcc",
   "metadata": {},
   "outputs": [
    {
     "name": "stderr",
     "output_type": "stream",
     "text": [
      "                                                                                \r"
     ]
    }
   ],
   "source": [
    "model.save(f\"{output_path}_log_reg.gz\")"
   ]
  },
  {
   "cell_type": "code",
   "execution_count": null,
   "id": "2f6398a9",
   "metadata": {},
   "outputs": [],
   "source": [
    "pipe = PipelineModel.load(f\"{output_path}_log_reg.gz\")"
   ]
  },
  {
   "cell_type": "code",
   "execution_count": 82,
   "id": "4c302c1a",
   "metadata": {},
   "outputs": [
    {
     "data": {
      "text/plain": [
       "DenseVector([0.6825, 0.5354, 0.6364, 0.8873, 0.6501, 0.227, 0.9134, 0.569, 0.6038, 0.4678, 0.4625, -0.2736])"
      ]
     },
     "execution_count": 82,
     "metadata": {},
     "output_type": "execute_result"
    }
   ],
   "source": [
    "pipe.stages[-1].coefficients"
   ]
  },
  {
   "cell_type": "code",
   "execution_count": null,
   "id": "d579904c",
   "metadata": {},
   "outputs": [],
   "source": [
    "dt = spark.read.parquet(f\"{output_path}/_log_reg.gz/stages/1_GeneralizedLinearRegression_bbc52cf66d2b/data\")"
   ]
  },
  {
   "cell_type": "code",
   "execution_count": 101,
   "id": "cf247bc6",
   "metadata": {},
   "outputs": [
    {
     "name": "stderr",
     "output_type": "stream",
     "text": [
      "[Stage 140:>                                                        (0 + 1) / 1]\r"
     ]
    },
    {
     "name": "stdout",
     "output_type": "stream",
     "text": [
      "+-------------------+------------------+------------------+--------------------+------------------+------------------+------------------+-------------------+-------------------+------------------+-----------------+-----------------------+------------------+\n",
      "|          intercept|    annual_inc_woe|           dti_woe|earliest_cr_line_woe|fico_range_low_woe|   funded_amnt_woe|home_ownership_woe| inq_last_6mths_woe|     revol_util_woe|     sub_grade_woe|         term_woe|verification_status_woe|      zip_code_woe|\n",
      "+-------------------+------------------+------------------+--------------------+------------------+------------------+------------------+-------------------+-------------------+------------------+-----------------+-----------------------+------------------+\n",
      "|-1.3924913836320794|0.6500697919534217|0.5690049329222368|  0.6037555702965285|0.4677702711714637|0.6824781085590917|0.8872963663697023|0.46248972965391955|-0.2735607855371191|0.6363798884908634|0.535351288968826|    0.22697144408561548|0.9133677666299737|\n",
      "+-------------------+------------------+------------------+--------------------+------------------+------------------+------------------+-------------------+-------------------+------------------+-----------------+-----------------------+------------------+\n",
      "\n"
     ]
    },
    {
     "name": "stderr",
     "output_type": "stream",
     "text": [
      "                                                                                \r"
     ]
    }
   ],
   "source": [
    "dt\\\n",
    ".withColumn(\"features\", lit(pipe.stages[0].getInputCols()))\\\n",
    ".withColumn(\"temp\", explode(F.arrays_zip(\"features\", vector_to_array(\"coefficients\").alias(\"coefficients\"))))\\\n",
    ".withColumn(\"features\", F.col(\"temp.features\"))\\\n",
    ".withColumn(\"coefficients\", F.col(\"temp.coefficients\"))\\\n",
    ".drop(\"temp\")\\\n",
    ".groupBy(\"intercept\")\\\n",
    ".pivot(\"features\")\\\n",
    ".agg(sum(\"coefficients\"))\\\n",
    ".show()"
   ]
  },
  {
   "cell_type": "code",
   "execution_count": 81,
   "id": "7f0b1a59",
   "metadata": {},
   "outputs": [
    {
     "data": {
      "text/plain": [
       "['funded_amnt_woe',\n",
       " 'term_woe',\n",
       " 'sub_grade_woe',\n",
       " 'home_ownership_woe',\n",
       " 'annual_inc_woe',\n",
       " 'verification_status_woe',\n",
       " 'zip_code_woe',\n",
       " 'dti_woe',\n",
       " 'earliest_cr_line_woe',\n",
       " 'fico_range_low_woe',\n",
       " 'inq_last_6mths_woe',\n",
       " 'revol_util_woe']"
      ]
     },
     "execution_count": 81,
     "metadata": {},
     "output_type": "execute_result"
    }
   ],
   "source": [
    "pipe.stages[0].getInputCols()"
   ]
  },
  {
   "cell_type": "code",
   "execution_count": 104,
   "id": "971cc4c0",
   "metadata": {},
   "outputs": [
    {
     "data": {
      "text/plain": [
       "Param(parent='GeneralizedLinearRegression_bbc52cf66d2b', name='link', doc='The name of link function which provides the relationship between the linear predictor and the mean of the distribution function. Supported options: identity, log, inverse, logit, probit, cloglog and sqrt.')"
      ]
     },
     "execution_count": 104,
     "metadata": {},
     "output_type": "execute_result"
    }
   ],
   "source": [
    "model.stages[1].getParam(\"link\")"
   ]
  }
 ],
 "metadata": {
  "kernelspec": {
   "display_name": ".venv",
   "language": "python",
   "name": "python3"
  },
  "language_info": {
   "codemirror_mode": {
    "name": "ipython",
    "version": 3
   },
   "file_extension": ".py",
   "mimetype": "text/x-python",
   "name": "python",
   "nbconvert_exporter": "python",
   "pygments_lexer": "ipython3",
   "version": "3.10.12"
  }
 },
 "nbformat": 4,
 "nbformat_minor": 5
}
