{
 "cells": [
  {
   "cell_type": "markdown",
   "id": "516eba87",
   "metadata": {},
   "source": [
    "# Description\n",
    "This notebook aims to download data from lending club and do a initial analysis"
   ]
  },
  {
   "cell_type": "markdown",
   "id": "df0d9aac",
   "metadata": {},
   "source": [
    "# Setup"
   ]
  },
  {
   "cell_type": "code",
   "execution_count": null,
   "id": "1b386153",
   "metadata": {},
   "outputs": [],
   "source": [
    "import pandas as pd\n",
    "import plotly.express as px\n",
    "from sklearn import tree\n",
    "from sklearn.tree import DecisionTreeClassifier\n",
    "from sklearn.cluster import KMeans\n",
    "import re\n",
    "import numpy as np\n",
    "\n",
    "import findspark\n",
    "import pyspark\n",
    "from pyspark.sql import SparkSession\n",
    "import pyspark\n",
    "import pyspark.sql.functions as sql\n",
    "from pyspark.sql.window import Window\n",
    "from pyspark.sql.functions import *\n",
    "from pyspark.sql.types import *\n",
    "from pyspark.ml.stat import Correlation\n",
    "from pyspark.ml.feature import VectorAssembler"
   ]
  },
  {
   "cell_type": "code",
   "execution_count": 2,
   "id": "b4b7b401",
   "metadata": {},
   "outputs": [
    {
     "name": "stderr",
     "output_type": "stream",
     "text": [
      "WARNING: Using incubator modules: jdk.incubator.vector\n",
      "Using Spark's default log4j profile: org/apache/spark/log4j2-defaults.properties\n",
      "25/06/01 10:53:28 WARN Utils: Your hostname, pop-os-note, resolves to a loopback address: 127.0.0.1; using 192.168.0.4 instead (on interface wlp2s0)\n",
      "25/06/01 10:53:28 WARN Utils: Set SPARK_LOCAL_IP if you need to bind to another address\n",
      "Using Spark's default log4j profile: org/apache/spark/log4j2-defaults.properties\n",
      "Setting default log level to \"WARN\".\n",
      "To adjust logging level use sc.setLogLevel(newLevel). For SparkR, use setLogLevel(newLevel).\n",
      "25/06/01 10:53:31 WARN NativeCodeLoader: Unable to load native-hadoop library for your platform... using builtin-java classes where applicable\n"
     ]
    }
   ],
   "source": [
    "findspark.init()\n",
    "sc = pyspark.SparkContext(appName=\"Test\")\n",
    "spark = SparkSession.builder.master(\"local[*]\") \\\n",
    "                    .appName('test') \\\n",
    "                    .getOrCreate()"
   ]
  },
  {
   "cell_type": "code",
   "execution_count": 3,
   "id": "ddf65376",
   "metadata": {},
   "outputs": [],
   "source": [
    "pd.set_option('display.max_rows', 1000)"
   ]
  },
  {
   "cell_type": "code",
   "execution_count": 4,
   "id": "4e137855",
   "metadata": {},
   "outputs": [],
   "source": [
    "input_path = \"../data/\"\n",
    "output_path = \"../outputs/\""
   ]
  },
  {
   "cell_type": "markdown",
   "id": "f86e889b",
   "metadata": {},
   "source": [
    "# Data"
   ]
  },
  {
   "cell_type": "markdown",
   "id": "3e9b3991",
   "metadata": {},
   "source": [
    "## raw data input\n",
    "We'll read the csv file and save as parquet, being a more efficient data type"
   ]
  },
  {
   "cell_type": "code",
   "execution_count": 90,
   "id": "c721e968",
   "metadata": {},
   "outputs": [
    {
     "name": "stderr",
     "output_type": "stream",
     "text": [
      "                                                                                \r"
     ]
    }
   ],
   "source": [
    "raw_df = spark.read\\\n",
    ".format(\"csv\")\\\n",
    ".option(\"header\", \"True\")\\\n",
    ".option(\"quote\", '''\"''')\\\n",
    ".option(\"escape\", '''\"''')\\\n",
    ".option(\"inferSchema\", \"True\")\\\n",
    ".load(\"/home/neon/.cache/kagglehub/datasets/wordsforthewise/lending-club/versions/3/accepted_2007_to_2018q4.csv/accepted_2007_to_2018Q4.csv\")"
   ]
  },
  {
   "cell_type": "code",
   "execution_count": 93,
   "id": "8cf1a7d2",
   "metadata": {},
   "outputs": [
    {
     "name": "stdout",
     "output_type": "stream",
     "text": [
      "root\n",
      " |-- id: string (nullable = true)\n",
      " |-- member_id: string (nullable = true)\n",
      " |-- loan_amnt: double (nullable = true)\n",
      " |-- funded_amnt: double (nullable = true)\n",
      " |-- funded_amnt_inv: double (nullable = true)\n",
      " |-- term: string (nullable = true)\n",
      " |-- int_rate: double (nullable = true)\n",
      " |-- installment: double (nullable = true)\n",
      " |-- grade: string (nullable = true)\n",
      " |-- sub_grade: string (nullable = true)\n",
      " |-- emp_title: string (nullable = true)\n",
      " |-- emp_length: string (nullable = true)\n",
      " |-- home_ownership: string (nullable = true)\n",
      " |-- annual_inc: double (nullable = true)\n",
      " |-- verification_status: string (nullable = true)\n",
      " |-- issue_d: string (nullable = true)\n",
      " |-- loan_status: string (nullable = true)\n",
      " |-- pymnt_plan: string (nullable = true)\n",
      " |-- url: string (nullable = true)\n",
      " |-- desc: string (nullable = true)\n",
      " |-- purpose: string (nullable = true)\n",
      " |-- title: string (nullable = true)\n",
      " |-- zip_code: string (nullable = true)\n",
      " |-- addr_state: string (nullable = true)\n",
      " |-- dti: double (nullable = true)\n",
      " |-- delinq_2yrs: double (nullable = true)\n",
      " |-- earliest_cr_line: string (nullable = true)\n",
      " |-- fico_range_low: double (nullable = true)\n",
      " |-- fico_range_high: double (nullable = true)\n",
      " |-- inq_last_6mths: double (nullable = true)\n",
      " |-- mths_since_last_delinq: double (nullable = true)\n",
      " |-- mths_since_last_record: double (nullable = true)\n",
      " |-- open_acc: double (nullable = true)\n",
      " |-- pub_rec: double (nullable = true)\n",
      " |-- revol_bal: double (nullable = true)\n",
      " |-- revol_util: double (nullable = true)\n",
      " |-- total_acc: double (nullable = true)\n",
      " |-- initial_list_status: string (nullable = true)\n",
      " |-- out_prncp: double (nullable = true)\n",
      " |-- out_prncp_inv: double (nullable = true)\n",
      " |-- total_pymnt: double (nullable = true)\n",
      " |-- total_pymnt_inv: double (nullable = true)\n",
      " |-- total_rec_prncp: double (nullable = true)\n",
      " |-- total_rec_int: double (nullable = true)\n",
      " |-- total_rec_late_fee: double (nullable = true)\n",
      " |-- recoveries: double (nullable = true)\n",
      " |-- collection_recovery_fee: double (nullable = true)\n",
      " |-- last_pymnt_d: string (nullable = true)\n",
      " |-- last_pymnt_amnt: double (nullable = true)\n",
      " |-- next_pymnt_d: string (nullable = true)\n",
      " |-- last_credit_pull_d: string (nullable = true)\n",
      " |-- last_fico_range_high: double (nullable = true)\n",
      " |-- last_fico_range_low: double (nullable = true)\n",
      " |-- collections_12_mths_ex_med: double (nullable = true)\n",
      " |-- mths_since_last_major_derog: double (nullable = true)\n",
      " |-- policy_code: double (nullable = true)\n",
      " |-- application_type: string (nullable = true)\n",
      " |-- annual_inc_joint: double (nullable = true)\n",
      " |-- dti_joint: double (nullable = true)\n",
      " |-- verification_status_joint: string (nullable = true)\n",
      " |-- acc_now_delinq: double (nullable = true)\n",
      " |-- tot_coll_amt: double (nullable = true)\n",
      " |-- tot_cur_bal: double (nullable = true)\n",
      " |-- open_acc_6m: double (nullable = true)\n",
      " |-- open_act_il: double (nullable = true)\n",
      " |-- open_il_12m: double (nullable = true)\n",
      " |-- open_il_24m: double (nullable = true)\n",
      " |-- mths_since_rcnt_il: double (nullable = true)\n",
      " |-- total_bal_il: double (nullable = true)\n",
      " |-- il_util: double (nullable = true)\n",
      " |-- open_rv_12m: double (nullable = true)\n",
      " |-- open_rv_24m: double (nullable = true)\n",
      " |-- max_bal_bc: double (nullable = true)\n",
      " |-- all_util: double (nullable = true)\n",
      " |-- total_rev_hi_lim: double (nullable = true)\n",
      " |-- inq_fi: double (nullable = true)\n",
      " |-- total_cu_tl: double (nullable = true)\n",
      " |-- inq_last_12m: double (nullable = true)\n",
      " |-- acc_open_past_24mths: double (nullable = true)\n",
      " |-- avg_cur_bal: double (nullable = true)\n",
      " |-- bc_open_to_buy: double (nullable = true)\n",
      " |-- bc_util: double (nullable = true)\n",
      " |-- chargeoff_within_12_mths: double (nullable = true)\n",
      " |-- delinq_amnt: double (nullable = true)\n",
      " |-- mo_sin_old_il_acct: double (nullable = true)\n",
      " |-- mo_sin_old_rev_tl_op: double (nullable = true)\n",
      " |-- mo_sin_rcnt_rev_tl_op: double (nullable = true)\n",
      " |-- mo_sin_rcnt_tl: double (nullable = true)\n",
      " |-- mort_acc: double (nullable = true)\n",
      " |-- mths_since_recent_bc: double (nullable = true)\n",
      " |-- mths_since_recent_bc_dlq: double (nullable = true)\n",
      " |-- mths_since_recent_inq: double (nullable = true)\n",
      " |-- mths_since_recent_revol_delinq: double (nullable = true)\n",
      " |-- num_accts_ever_120_pd: double (nullable = true)\n",
      " |-- num_actv_bc_tl: double (nullable = true)\n",
      " |-- num_actv_rev_tl: double (nullable = true)\n",
      " |-- num_bc_sats: double (nullable = true)\n",
      " |-- num_bc_tl: double (nullable = true)\n",
      " |-- num_il_tl: double (nullable = true)\n",
      " |-- num_op_rev_tl: double (nullable = true)\n",
      " |-- num_rev_accts: double (nullable = true)\n",
      " |-- num_rev_tl_bal_gt_0: double (nullable = true)\n",
      " |-- num_sats: double (nullable = true)\n",
      " |-- num_tl_120dpd_2m: double (nullable = true)\n",
      " |-- num_tl_30dpd: double (nullable = true)\n",
      " |-- num_tl_90g_dpd_24m: double (nullable = true)\n",
      " |-- num_tl_op_past_12m: double (nullable = true)\n",
      " |-- pct_tl_nvr_dlq: double (nullable = true)\n",
      " |-- percent_bc_gt_75: double (nullable = true)\n",
      " |-- pub_rec_bankruptcies: double (nullable = true)\n",
      " |-- tax_liens: double (nullable = true)\n",
      " |-- tot_hi_cred_lim: double (nullable = true)\n",
      " |-- total_bal_ex_mort: double (nullable = true)\n",
      " |-- total_bc_limit: double (nullable = true)\n",
      " |-- total_il_high_credit_limit: double (nullable = true)\n",
      " |-- revol_bal_joint: double (nullable = true)\n",
      " |-- sec_app_fico_range_low: double (nullable = true)\n",
      " |-- sec_app_fico_range_high: double (nullable = true)\n",
      " |-- sec_app_earliest_cr_line: string (nullable = true)\n",
      " |-- sec_app_inq_last_6mths: double (nullable = true)\n",
      " |-- sec_app_mort_acc: double (nullable = true)\n",
      " |-- sec_app_open_acc: double (nullable = true)\n",
      " |-- sec_app_revol_util: double (nullable = true)\n",
      " |-- sec_app_open_act_il: double (nullable = true)\n",
      " |-- sec_app_num_rev_accts: double (nullable = true)\n",
      " |-- sec_app_chargeoff_within_12_mths: double (nullable = true)\n",
      " |-- sec_app_collections_12_mths_ex_med: double (nullable = true)\n",
      " |-- sec_app_mths_since_last_major_derog: double (nullable = true)\n",
      " |-- hardship_flag: string (nullable = true)\n",
      " |-- hardship_type: string (nullable = true)\n",
      " |-- hardship_reason: string (nullable = true)\n",
      " |-- hardship_status: string (nullable = true)\n",
      " |-- deferral_term: double (nullable = true)\n",
      " |-- hardship_amount: double (nullable = true)\n",
      " |-- hardship_start_date: string (nullable = true)\n",
      " |-- hardship_end_date: string (nullable = true)\n",
      " |-- payment_plan_start_date: string (nullable = true)\n",
      " |-- hardship_length: double (nullable = true)\n",
      " |-- hardship_dpd: double (nullable = true)\n",
      " |-- hardship_loan_status: string (nullable = true)\n",
      " |-- orig_projected_additional_accrued_interest: double (nullable = true)\n",
      " |-- hardship_payoff_balance_amount: double (nullable = true)\n",
      " |-- hardship_last_payment_amount: double (nullable = true)\n",
      " |-- disbursement_method: string (nullable = true)\n",
      " |-- debt_settlement_flag: string (nullable = true)\n",
      " |-- debt_settlement_flag_date: string (nullable = true)\n",
      " |-- settlement_status: string (nullable = true)\n",
      " |-- settlement_date: string (nullable = true)\n",
      " |-- settlement_amount: double (nullable = true)\n",
      " |-- settlement_percentage: double (nullable = true)\n",
      " |-- settlement_term: double (nullable = true)\n",
      "\n"
     ]
    }
   ],
   "source": [
    "raw_df.printSchema()"
   ]
  },
  {
   "cell_type": "code",
   "execution_count": 91,
   "id": "cc2ff3b2",
   "metadata": {},
   "outputs": [
    {
     "name": "stdout",
     "output_type": "stream",
     "text": [
      "+--------+---------+---------+-----------+---------------+----------+--------+-----------+-----+---------+--------------------+----------+--------------+----------+-------------------+--------+-----------+----------+--------------------+----+------------------+------------------+--------+----------+-----+-----------+----------------+--------------+---------------+--------------+----------------------+----------------------+--------+-------+---------+----------+---------+-------------------+---------+-------------+------------------+---------------+---------------+-------------+------------------+----------+-----------------------+------------+---------------+------------+------------------+--------------------+-------------------+--------------------------+---------------------------+-----------+----------------+----------------+---------+-------------------------+--------------+------------+-----------+-----------+-----------+-----------+-----------+------------------+------------+-------+-----------+-----------+----------+--------+----------------+------+-----------+------------+--------------------+-----------+--------------+-------+------------------------+-----------+------------------+--------------------+---------------------+--------------+--------+--------------------+------------------------+---------------------+------------------------------+---------------------+--------------+---------------+-----------+---------+---------+-------------+-------------+-------------------+--------+----------------+------------+------------------+------------------+--------------+----------------+--------------------+---------+---------------+-----------------+--------------+--------------------------+---------------+----------------------+-----------------------+------------------------+----------------------+----------------+----------------+------------------+-------------------+---------------------+--------------------------------+----------------------------------+-----------------------------------+-------------+-------------+---------------+---------------+-------------+---------------+-------------------+-----------------+-----------------------+---------------+------------+--------------------+------------------------------------------+------------------------------+----------------------------+-------------------+--------------------+-------------------------+-----------------+---------------+-----------------+---------------------+---------------+\n",
      "|      id|member_id|loan_amnt|funded_amnt|funded_amnt_inv|      term|int_rate|installment|grade|sub_grade|           emp_title|emp_length|home_ownership|annual_inc|verification_status| issue_d|loan_status|pymnt_plan|                 url|desc|           purpose|             title|zip_code|addr_state|  dti|delinq_2yrs|earliest_cr_line|fico_range_low|fico_range_high|inq_last_6mths|mths_since_last_delinq|mths_since_last_record|open_acc|pub_rec|revol_bal|revol_util|total_acc|initial_list_status|out_prncp|out_prncp_inv|       total_pymnt|total_pymnt_inv|total_rec_prncp|total_rec_int|total_rec_late_fee|recoveries|collection_recovery_fee|last_pymnt_d|last_pymnt_amnt|next_pymnt_d|last_credit_pull_d|last_fico_range_high|last_fico_range_low|collections_12_mths_ex_med|mths_since_last_major_derog|policy_code|application_type|annual_inc_joint|dti_joint|verification_status_joint|acc_now_delinq|tot_coll_amt|tot_cur_bal|open_acc_6m|open_act_il|open_il_12m|open_il_24m|mths_since_rcnt_il|total_bal_il|il_util|open_rv_12m|open_rv_24m|max_bal_bc|all_util|total_rev_hi_lim|inq_fi|total_cu_tl|inq_last_12m|acc_open_past_24mths|avg_cur_bal|bc_open_to_buy|bc_util|chargeoff_within_12_mths|delinq_amnt|mo_sin_old_il_acct|mo_sin_old_rev_tl_op|mo_sin_rcnt_rev_tl_op|mo_sin_rcnt_tl|mort_acc|mths_since_recent_bc|mths_since_recent_bc_dlq|mths_since_recent_inq|mths_since_recent_revol_delinq|num_accts_ever_120_pd|num_actv_bc_tl|num_actv_rev_tl|num_bc_sats|num_bc_tl|num_il_tl|num_op_rev_tl|num_rev_accts|num_rev_tl_bal_gt_0|num_sats|num_tl_120dpd_2m|num_tl_30dpd|num_tl_90g_dpd_24m|num_tl_op_past_12m|pct_tl_nvr_dlq|percent_bc_gt_75|pub_rec_bankruptcies|tax_liens|tot_hi_cred_lim|total_bal_ex_mort|total_bc_limit|total_il_high_credit_limit|revol_bal_joint|sec_app_fico_range_low|sec_app_fico_range_high|sec_app_earliest_cr_line|sec_app_inq_last_6mths|sec_app_mort_acc|sec_app_open_acc|sec_app_revol_util|sec_app_open_act_il|sec_app_num_rev_accts|sec_app_chargeoff_within_12_mths|sec_app_collections_12_mths_ex_med|sec_app_mths_since_last_major_derog|hardship_flag|hardship_type|hardship_reason|hardship_status|deferral_term|hardship_amount|hardship_start_date|hardship_end_date|payment_plan_start_date|hardship_length|hardship_dpd|hardship_loan_status|orig_projected_additional_accrued_interest|hardship_payoff_balance_amount|hardship_last_payment_amount|disbursement_method|debt_settlement_flag|debt_settlement_flag_date|settlement_status|settlement_date|settlement_amount|settlement_percentage|settlement_term|\n",
      "+--------+---------+---------+-----------+---------------+----------+--------+-----------+-----+---------+--------------------+----------+--------------+----------+-------------------+--------+-----------+----------+--------------------+----+------------------+------------------+--------+----------+-----+-----------+----------------+--------------+---------------+--------------+----------------------+----------------------+--------+-------+---------+----------+---------+-------------------+---------+-------------+------------------+---------------+---------------+-------------+------------------+----------+-----------------------+------------+---------------+------------+------------------+--------------------+-------------------+--------------------------+---------------------------+-----------+----------------+----------------+---------+-------------------------+--------------+------------+-----------+-----------+-----------+-----------+-----------+------------------+------------+-------+-----------+-----------+----------+--------+----------------+------+-----------+------------+--------------------+-----------+--------------+-------+------------------------+-----------+------------------+--------------------+---------------------+--------------+--------+--------------------+------------------------+---------------------+------------------------------+---------------------+--------------+---------------+-----------+---------+---------+-------------+-------------+-------------------+--------+----------------+------------+------------------+------------------+--------------+----------------+--------------------+---------+---------------+-----------------+--------------+--------------------------+---------------+----------------------+-----------------------+------------------------+----------------------+----------------+----------------+------------------+-------------------+---------------------+--------------------------------+----------------------------------+-----------------------------------+-------------+-------------+---------------+---------------+-------------+---------------+-------------------+-----------------+-----------------------+---------------+------------+--------------------+------------------------------------------+------------------------------+----------------------------+-------------------+--------------------+-------------------------+-----------------+---------------+-----------------+---------------------+---------------+\n",
      "|68407277|     NULL|   3600.0|     3600.0|         3600.0| 36 months|   13.99|     123.03|    C|       C4|             leadman| 10+ years|      MORTGAGE|   55000.0|       Not Verified|Dec-2015| Fully Paid|         n|https://lendingcl...|NULL|debt_consolidation|Debt consolidation|   190xx|        PA| 5.91|        0.0|        Aug-2003|         675.0|          679.0|           1.0|                  30.0|                  NULL|     7.0|    0.0|   2765.0|      29.7|     13.0|                  w|      0.0|          0.0| 4421.723916800001|        4421.72|         3600.0|       821.72|               0.0|       0.0|                    0.0|    Jan-2019|         122.67|        NULL|          Mar-2019|               564.0|              560.0|                       0.0|                       30.0|        1.0|      Individual|            NULL|     NULL|                     NULL|           0.0|       722.0|   144904.0|        2.0|        2.0|        0.0|        1.0|              21.0|      4981.0|   36.0|        3.0|        3.0|     722.0|    34.0|          9300.0|   3.0|        1.0|         4.0|                 4.0|    20701.0|        1506.0|   37.2|                     0.0|        0.0|             148.0|               128.0|                  3.0|           3.0|     1.0|                 4.0|                    69.0|                  4.0|                          69.0|                  2.0|           2.0|            4.0|        2.0|      5.0|      3.0|          4.0|          9.0|                4.0|     7.0|             0.0|         0.0|               0.0|               3.0|          76.9|             0.0|                 0.0|      0.0|       178050.0|           7746.0|        2400.0|                   13734.0|           NULL|                  NULL|                   NULL|                    NULL|                  NULL|            NULL|            NULL|              NULL|               NULL|                 NULL|                            NULL|                              NULL|                               NULL|            N|         NULL|           NULL|           NULL|         NULL|           NULL|               NULL|             NULL|                   NULL|           NULL|        NULL|                NULL|                                      NULL|                          NULL|                        NULL|               Cash|                   N|                     NULL|             NULL|           NULL|             NULL|                 NULL|           NULL|\n",
      "|68355089|     NULL|  24700.0|    24700.0|        24700.0| 36 months|   11.99|     820.28|    C|       C1|            Engineer| 10+ years|      MORTGAGE|   65000.0|       Not Verified|Dec-2015| Fully Paid|         n|https://lendingcl...|NULL|    small_business|          Business|   577xx|        SD|16.06|        1.0|        Dec-1999|         715.0|          719.0|           4.0|                   6.0|                  NULL|    22.0|    0.0|  21470.0|      19.2|     38.0|                  w|      0.0|          0.0|          25679.66|       25679.66|        24700.0|       979.66|               0.0|       0.0|                    0.0|    Jun-2016|         926.35|        NULL|          Mar-2019|               699.0|              695.0|                       0.0|                       NULL|        1.0|      Individual|            NULL|     NULL|                     NULL|           0.0|         0.0|   204396.0|        1.0|        1.0|        0.0|        1.0|              19.0|     18005.0|   73.0|        2.0|        3.0|    6472.0|    29.0|        111800.0|   0.0|        0.0|         6.0|                 4.0|     9733.0|       57830.0|   27.1|                     0.0|        0.0|             113.0|               192.0|                  2.0|           2.0|     4.0|                 2.0|                    NULL|                  0.0|                           6.0|                  0.0|           5.0|            5.0|       13.0|     17.0|      6.0|         20.0|         27.0|                5.0|    22.0|             0.0|         0.0|               0.0|               2.0|          97.4|             7.7|                 0.0|      0.0|       314017.0|          39475.0|       79300.0|                   24667.0|           NULL|                  NULL|                   NULL|                    NULL|                  NULL|            NULL|            NULL|              NULL|               NULL|                 NULL|                            NULL|                              NULL|                               NULL|            N|         NULL|           NULL|           NULL|         NULL|           NULL|               NULL|             NULL|                   NULL|           NULL|        NULL|                NULL|                                      NULL|                          NULL|                        NULL|               Cash|                   N|                     NULL|             NULL|           NULL|             NULL|                 NULL|           NULL|\n",
      "|68341763|     NULL|  20000.0|    20000.0|        20000.0| 60 months|   10.78|     432.66|    B|       B4|        truck driver| 10+ years|      MORTGAGE|   63000.0|       Not Verified|Dec-2015| Fully Paid|         n|https://lendingcl...|NULL|  home_improvement|              NULL|   605xx|        IL|10.78|        0.0|        Aug-2000|         695.0|          699.0|           0.0|                  NULL|                  NULL|     6.0|    0.0|   7869.0|      56.2|     18.0|                  w|      0.0|          0.0|22705.924293878397|       22705.92|        20000.0|      2705.92|               0.0|       0.0|                    0.0|    Jun-2017|        15813.3|        NULL|          Mar-2019|               704.0|              700.0|                       0.0|                       NULL|        1.0|       Joint App|         71000.0|    13.85|             Not Verified|           0.0|         0.0|   189699.0|        0.0|        1.0|        0.0|        4.0|              19.0|     10827.0|   73.0|        0.0|        2.0|    2081.0|    65.0|         14000.0|   2.0|        5.0|         1.0|                 6.0|    31617.0|        2737.0|   55.9|                     0.0|        0.0|             125.0|               184.0|                 14.0|          14.0|     5.0|               101.0|                    NULL|                 10.0|                          NULL|                  0.0|           2.0|            3.0|        2.0|      4.0|      6.0|          4.0|          7.0|                3.0|     6.0|             0.0|         0.0|               0.0|               0.0|         100.0|            50.0|                 0.0|      0.0|       218418.0|          18696.0|        6200.0|                   14877.0|           NULL|                  NULL|                   NULL|                    NULL|                  NULL|            NULL|            NULL|              NULL|               NULL|                 NULL|                            NULL|                              NULL|                               NULL|            N|         NULL|           NULL|           NULL|         NULL|           NULL|               NULL|             NULL|                   NULL|           NULL|        NULL|                NULL|                                      NULL|                          NULL|                        NULL|               Cash|                   N|                     NULL|             NULL|           NULL|             NULL|                 NULL|           NULL|\n",
      "|66310712|     NULL|  35000.0|    35000.0|        35000.0| 60 months|   14.85|      829.9|    C|       C5|Information Syste...| 10+ years|      MORTGAGE|  110000.0|    Source Verified|Dec-2015|    Current|         n|https://lendingcl...|NULL|debt_consolidation|Debt consolidation|   076xx|        NJ|17.06|        0.0|        Sep-2008|         785.0|          789.0|           0.0|                  NULL|                  NULL|    13.0|    0.0|   7802.0|      11.6|     17.0|                  w| 15897.65|     15897.65|          31464.01|       31464.01|       19102.35|     12361.66|               0.0|       0.0|                    0.0|    Feb-2019|          829.9|    Apr-2019|          Mar-2019|               679.0|              675.0|                       0.0|                       NULL|        1.0|      Individual|            NULL|     NULL|                     NULL|           0.0|         0.0|   301500.0|        1.0|        1.0|        0.0|        1.0|              23.0|     12609.0|   70.0|        1.0|        1.0|    6987.0|    45.0|         67300.0|   0.0|        1.0|         0.0|                 2.0|    23192.0|       54962.0|   12.1|                     0.0|        0.0|              36.0|                87.0|                  2.0|           2.0|     1.0|                 2.0|                    NULL|                 NULL|                          NULL|                  0.0|           4.0|            5.0|        8.0|     10.0|      2.0|         10.0|         13.0|                5.0|    13.0|             0.0|         0.0|               0.0|               1.0|         100.0|             0.0|                 0.0|      0.0|       381215.0|          52226.0|       62500.0|                   18000.0|           NULL|                  NULL|                   NULL|                    NULL|                  NULL|            NULL|            NULL|              NULL|               NULL|                 NULL|                            NULL|                              NULL|                               NULL|            N|         NULL|           NULL|           NULL|         NULL|           NULL|               NULL|             NULL|                   NULL|           NULL|        NULL|                NULL|                                      NULL|                          NULL|                        NULL|               Cash|                   N|                     NULL|             NULL|           NULL|             NULL|                 NULL|           NULL|\n",
      "|68476807|     NULL|  10400.0|    10400.0|        10400.0| 60 months|   22.45|     289.91|    F|       F1| Contract Specialist|   3 years|      MORTGAGE|  104433.0|    Source Verified|Dec-2015| Fully Paid|         n|https://lendingcl...|NULL|    major_purchase|    Major purchase|   174xx|        PA|25.37|        1.0|        Jun-1998|         695.0|          699.0|           3.0|                  12.0|                  NULL|    12.0|    0.0|  21929.0|      64.5|     35.0|                  w|      0.0|          0.0|           11740.5|        11740.5|        10400.0|       1340.5|               0.0|       0.0|                    0.0|    Jul-2016|       10128.96|        NULL|          Mar-2018|               704.0|              700.0|                       0.0|                       NULL|        1.0|      Individual|            NULL|     NULL|                     NULL|           0.0|         0.0|   331730.0|        1.0|        3.0|        0.0|        3.0|              14.0|     73839.0|   84.0|        4.0|        7.0|    9702.0|    78.0|         34000.0|   2.0|        1.0|         3.0|                10.0|    27644.0|        4567.0|   77.5|                     0.0|        0.0|             128.0|               210.0|                  4.0|           4.0|     6.0|                 4.0|                    12.0|                  1.0|                          12.0|                  0.0|           4.0|            6.0|        5.0|      9.0|     10.0|          7.0|         19.0|                6.0|    12.0|             0.0|         0.0|               0.0|               4.0|          96.6|            60.0|                 0.0|      0.0|       439570.0|          95768.0|       20300.0|                   88097.0|           NULL|                  NULL|                   NULL|                    NULL|                  NULL|            NULL|            NULL|              NULL|               NULL|                 NULL|                            NULL|                              NULL|                               NULL|            N|         NULL|           NULL|           NULL|         NULL|           NULL|               NULL|             NULL|                   NULL|           NULL|        NULL|                NULL|                                      NULL|                          NULL|                        NULL|               Cash|                   N|                     NULL|             NULL|           NULL|             NULL|                 NULL|           NULL|\n",
      "+--------+---------+---------+-----------+---------------+----------+--------+-----------+-----+---------+--------------------+----------+--------------+----------+-------------------+--------+-----------+----------+--------------------+----+------------------+------------------+--------+----------+-----+-----------+----------------+--------------+---------------+--------------+----------------------+----------------------+--------+-------+---------+----------+---------+-------------------+---------+-------------+------------------+---------------+---------------+-------------+------------------+----------+-----------------------+------------+---------------+------------+------------------+--------------------+-------------------+--------------------------+---------------------------+-----------+----------------+----------------+---------+-------------------------+--------------+------------+-----------+-----------+-----------+-----------+-----------+------------------+------------+-------+-----------+-----------+----------+--------+----------------+------+-----------+------------+--------------------+-----------+--------------+-------+------------------------+-----------+------------------+--------------------+---------------------+--------------+--------+--------------------+------------------------+---------------------+------------------------------+---------------------+--------------+---------------+-----------+---------+---------+-------------+-------------+-------------------+--------+----------------+------------+------------------+------------------+--------------+----------------+--------------------+---------+---------------+-----------------+--------------+--------------------------+---------------+----------------------+-----------------------+------------------------+----------------------+----------------+----------------+------------------+-------------------+---------------------+--------------------------------+----------------------------------+-----------------------------------+-------------+-------------+---------------+---------------+-------------+---------------+-------------------+-----------------+-----------------------+---------------+------------+--------------------+------------------------------------------+------------------------------+----------------------------+-------------------+--------------------+-------------------------+-----------------+---------------+-----------------+---------------------+---------------+\n",
      "\n"
     ]
    }
   ],
   "source": [
    "raw_df.limit(5).show()"
   ]
  },
  {
   "cell_type": "code",
   "execution_count": 92,
   "id": "118e4ba4",
   "metadata": {},
   "outputs": [
    {
     "name": "stderr",
     "output_type": "stream",
     "text": [
      "[Stage 43:===================================================>    (12 + 1) / 13]\r"
     ]
    },
    {
     "name": "stdout",
     "output_type": "stream",
     "text": [
      "+--------------------+-------+\n",
      "|         loan_status|  count|\n",
      "+--------------------+-------+\n",
      "|          Fully Paid|1076751|\n",
      "|             Default|     40|\n",
      "|     In Grace Period|   8436|\n",
      "|         Charged Off| 268559|\n",
      "|  Late (31-120 days)|  21467|\n",
      "|             Current| 878317|\n",
      "|   Late (16-30 days)|   4349|\n",
      "|                NULL|     33|\n",
      "|Does not meet the...|   1988|\n",
      "|Does not meet the...|    761|\n",
      "+--------------------+-------+\n",
      "\n"
     ]
    },
    {
     "name": "stderr",
     "output_type": "stream",
     "text": [
      "                                                                                \r"
     ]
    }
   ],
   "source": [
    "raw_df\\\n",
    ".groupBy(\"loan_status\")\\\n",
    ".agg(count(\"id\").alias(\"count\"))\\\n",
    ".show()"
   ]
  },
  {
   "cell_type": "code",
   "execution_count": 94,
   "id": "f2360a82",
   "metadata": {},
   "outputs": [
    {
     "name": "stderr",
     "output_type": "stream",
     "text": [
      "                                                                                \r"
     ]
    }
   ],
   "source": [
    "raw_df\\\n",
    ".write\\\n",
    ".mode(\"overwrite\")\\\n",
    ".format(\"parquet\")\\\n",
    ".save(f\"{input_path}accepted_2007_to_2018Q4_2.parquet\")"
   ]
  },
  {
   "cell_type": "markdown",
   "id": "d4405841",
   "metadata": {},
   "source": [
    "## Read parquet"
   ]
  },
  {
   "cell_type": "code",
   "execution_count": 5,
   "id": "f9f0f092",
   "metadata": {},
   "outputs": [
    {
     "name": "stderr",
     "output_type": "stream",
     "text": [
      "                                                                                \r"
     ]
    }
   ],
   "source": [
    "data = spark.read.parquet(f\"{input_path}accepted_2007_to_2018Q4_2.parquet\")"
   ]
  },
  {
   "cell_type": "code",
   "execution_count": null,
   "id": "1356e252",
   "metadata": {},
   "outputs": [],
   "source": [
    "# data = pd.read_parquet(f\"{input_path}accepted_2007_to_2018Q4_2.parquet\")"
   ]
  },
  {
   "cell_type": "markdown",
   "id": "4a88a734",
   "metadata": {},
   "source": [
    "# Analysis"
   ]
  },
  {
   "cell_type": "code",
   "execution_count": 6,
   "id": "d51568ee",
   "metadata": {},
   "outputs": [
    {
     "name": "stderr",
     "output_type": "stream",
     "text": [
      "25/06/01 10:55:35 WARN SparkStringUtils: Truncated the string representation of a plan since it was too large. This behavior can be adjusted by setting 'spark.sql.debug.maxToStringFields'.\n",
      "                                                                                \r"
     ]
    }
   ],
   "source": [
    "perc_nulls = data\\\n",
    ".select(\n",
    "    [(count(when(col(c).isNull(), c)) / count(lit(1))).alias(c) for c in data.columns]\n",
    ")\\\n",
    ".toPandas()"
   ]
  },
  {
   "cell_type": "code",
   "execution_count": 15,
   "id": "988152e5",
   "metadata": {},
   "outputs": [
    {
     "data": {
      "application/vnd.plotly.v1+json": {
       "config": {
        "plotlyServerURL": "https://plot.ly"
       },
       "data": [
        {
         "hovertemplate": "variable=%{x}<br>value=%{y}<extra></extra>",
         "legendgroup": "",
         "marker": {
          "color": "#1F77B4",
          "pattern": {
           "shape": ""
          }
         },
         "name": "",
         "orientation": "v",
         "showlegend": false,
         "textposition": "auto",
         "type": "bar",
         "x": [
          "member_id",
          "orig_projected_additional_accrued_interest",
          "hardship_reason",
          "hardship_payoff_balance_amount",
          "hardship_last_payment_amount",
          "payment_plan_start_date",
          "hardship_type",
          "hardship_status",
          "hardship_start_date",
          "deferral_term",
          "hardship_amount",
          "hardship_dpd",
          "hardship_loan_status",
          "hardship_length",
          "hardship_end_date",
          "settlement_status",
          "debt_settlement_flag_date",
          "settlement_term",
          "settlement_percentage",
          "settlement_date",
          "settlement_amount",
          "sec_app_mths_since_last_major_derog",
          "sec_app_revol_util",
          "revol_bal_joint",
          "sec_app_inq_last_6mths",
          "sec_app_num_rev_accts",
          "sec_app_open_acc",
          "sec_app_earliest_cr_line",
          "sec_app_fico_range_high",
          "sec_app_mort_acc",
          "sec_app_open_act_il",
          "sec_app_fico_range_low",
          "sec_app_collections_12_mths_ex_med",
          "sec_app_chargeoff_within_12_mths",
          "verification_status_joint",
          "dti_joint",
          "annual_inc_joint",
          "desc",
          "mths_since_last_record",
          "mths_since_recent_bc_dlq",
          "mths_since_last_major_derog",
          "mths_since_recent_revol_delinq",
          "next_pymnt_d",
          "mths_since_last_delinq",
          "il_util",
          "mths_since_rcnt_il",
          "all_util",
          "open_acc_6m",
          "inq_last_12m",
          "total_cu_tl",
          "open_il_24m",
          "max_bal_bc",
          "open_act_il",
          "open_il_12m",
          "open_rv_24m",
          "total_bal_il",
          "inq_fi",
          "open_rv_12m",
          "mths_since_recent_inq",
          "emp_title",
          "num_tl_120dpd_2m",
          "emp_length",
          "mo_sin_old_il_acct",
          "bc_util",
          "percent_bc_gt_75",
          "bc_open_to_buy",
          "mths_since_recent_bc",
          "pct_tl_nvr_dlq",
          "avg_cur_bal",
          "mo_sin_rcnt_rev_tl_op",
          "num_rev_accts",
          "mo_sin_old_rev_tl_op",
          "num_op_rev_tl",
          "num_il_tl",
          "num_tl_op_past_12m",
          "tot_coll_amt",
          "num_actv_rev_tl",
          "total_rev_hi_lim",
          "tot_cur_bal",
          "num_tl_30dpd",
          "num_actv_bc_tl",
          "num_accts_ever_120_pd",
          "num_rev_tl_bal_gt_0",
          "mo_sin_rcnt_tl",
          "num_tl_90g_dpd_24m",
          "tot_hi_cred_lim",
          "total_il_high_credit_limit",
          "num_bc_tl",
          "num_bc_sats",
          "num_sats",
          "mort_acc",
          "total_bal_ex_mort",
          "total_bc_limit",
          "acc_open_past_24mths",
          "title",
          "last_pymnt_d",
          "revol_util",
          "dti",
          "pub_rec_bankruptcies",
          "chargeoff_within_12_mths",
          "collections_12_mths_ex_med",
          "tax_liens",
          "last_credit_pull_d",
          "inq_last_6mths",
          "delinq_amnt",
          "total_acc",
          "open_acc",
          "earliest_cr_line",
          "pub_rec",
          "delinq_2yrs",
          "acc_now_delinq",
          "annual_inc",
          "zip_code",
          "loan_amnt",
          "funded_amnt",
          "term",
          "funded_amnt_inv",
          "int_rate",
          "verification_status",
          "out_prncp",
          "purpose",
          "pymnt_plan",
          "loan_status",
          "issue_d",
          "grade",
          "home_ownership",
          "url",
          "installment",
          "sub_grade",
          "revol_bal",
          "policy_code",
          "application_type",
          "last_pymnt_amnt",
          "last_fico_range_low",
          "addr_state",
          "collection_recovery_fee",
          "initial_list_status",
          "last_fico_range_high",
          "fico_range_low",
          "fico_range_high",
          "out_prncp_inv",
          "total_pymnt_inv",
          "total_pymnt",
          "total_rec_prncp",
          "recoveries",
          "total_rec_late_fee",
          "total_rec_int",
          "disbursement_method",
          "hardship_flag",
          "debt_settlement_flag",
          "id"
         ],
         "xaxis": "x",
         "y": {
          "bdata": "AAAAAAAA8D/PPOfZpuDvP8/plchw2O8/z+mVyHDY7z/P6ZXIcNjvP8/plchw2O8/z+mVyHDY7z/P6ZXIcNjvP8/plchw2O8/z+mVyHDY7z/P6ZXIcNjvP8/plchw2O8/z+mVyHDY7z/P6ZXIcNjvP8/plchw2O8/+lVlgeeD7z/6VWWB54PvP/pVZYHng+8/+lVlgeeD7z/6VWWB54PvP/pVZYHng+8/iEeWM8J97z/JlajQOX/uPzUPrKOSeO4/aDgxtpF47j9oODG2kXjuP2g4MbaReO4/aDgxtpF47j9oODG2kXjuP2g4MbaReO4/aDgxtpF47j9oODG2kXjuP2g4MbaReO4/aDgxtpF47j+62xpqolzuPxmqa2aaSu4/5U6AsJZK7j8Zbv88LTfuP8VOjOqK6uo/BGmeccik6D+RRt3NeMfnP4y4D88xheU/k/WFAA8L4z/xqY2CIWbgP7xi26eGQt4/xny4db3C2T+gLrJq7obYP2dZfPVZhdg/Z1l89VmF2D9nWXz1WYXYP82rhhpYhdg/zauGGliF2D/Nq4YaWIXYP82rhhpYhdg/zauGGliF2D/Nq4YaWIXYP82rhhpYhdg/zauGGliF2D8v9JQ1srrAP+38DcJC6bI/z8gAJVtnsT9sNKO9raOwP2mi17oJga8/gtAE3GQ8oT8qrDrbRRShPxPyccqH+qA/CJSzrTqioD/s8X5uyuqfP0ivVDXv4J8/vgbY8e7Ynz++Btjx7tifP74G2PHu2J8/HC19QtHYnz8cLX1C0difPxwtfULR2J8/HC19QtHYnz8cLX1C0difPxwtfULR2J8/HC19QtHYnz8cLX1C0difPxwtfULR2J8/HC19QtHYnz8cLX1C0difPxwtfULR2J8/HC19QtHYnz8cLX1C0difPxwtfULR2J8/HC19QtHYnz+5qFKVvo2aP7moUpW+jZo/+56FJyetlj/7noUnJ62WP/uehScnrZY/+56FJyetlj/gQ7qGCymFP+rFNNAQ1FE/7x6/Bv6YSj9VkVNdU0dJP2gGD0RzQ0Q/cFNSK+2jFD9wU1Ir7aMUP4sVUfmGABA/9ISGhthZCD/yBTtunTj9PsF/1ALgwfw+wX/UAuDB/D7Bf9QC4MH8PsF/1ALgwfw+wX/UAuDB/D7Bf9QC4MH8PsF/1ALgwfw+BGXRhWAp8T7lpDuHUIrvPoOYbrDVnO4+g5husNWc7j6DmG6w1ZzuPoOYbrDVnO4+g5husNWc7j6DmG6w1ZzuPoOYbrDVnO4+g5husNWc7j6DmG6w1ZzuPoOYbrDVnO4+g5husNWc7j6DmG6w1ZzuPoOYbrDVnO4+g5husNWc7j6DmG6w1ZzuPoOYbrDVnO4+g5husNWc7j6DmG6w1ZzuPoOYbrDVnO4+g5husNWc7j6DmG6w1ZzuPoOYbrDVnO4+g5husNWc7j6DmG6w1ZzuPoOYbrDVnO4+g5husNWc7j6DmG6w1ZzuPoOYbrDVnO4+g5husNWc7j6DmG6w1ZzuPoOYbrDVnO4+g5husNWc7j6DmG6w1ZzuPoOYbrDVnO4+g5husNWc7j6DmG6w1ZzuPoOYbrDVnO4+AAAAAAAAAAA=",
          "dtype": "f8"
         },
         "yaxis": "y"
        }
       ],
       "layout": {
        "annotations": [
         {
          "showarrow": false,
          "text": "5%",
          "x": 1,
          "xanchor": "right",
          "xref": "x domain",
          "y": 0.05,
          "yanchor": "bottom",
          "yref": "y"
         },
         {
          "showarrow": false,
          "text": "40%",
          "x": 1,
          "xanchor": "right",
          "xref": "x domain",
          "y": 0.4,
          "yanchor": "bottom",
          "yref": "y"
         }
        ],
        "barmode": "relative",
        "legend": {
         "tracegroupgap": 0
        },
        "shapes": [
         {
          "line": {
           "color": "green",
           "dash": "dash"
          },
          "type": "line",
          "x0": 0,
          "x1": 1,
          "xref": "x domain",
          "y0": 0.05,
          "y1": 0.05,
          "yref": "y"
         },
         {
          "line": {
           "color": "red",
           "dash": "dash"
          },
          "type": "line",
          "x0": 0,
          "x1": 1,
          "xref": "x domain",
          "y0": 0.4,
          "y1": 0.4,
          "yref": "y"
         }
        ],
        "template": {
         "data": {
          "scatter": [
           {
            "type": "scatter"
           }
          ]
         }
        },
        "title": {
         "text": "Percentage of Null"
        },
        "width": 700,
        "xaxis": {
         "anchor": "y",
         "domain": [
          0,
          1
         ],
         "title": {
          "text": "variable"
         }
        },
        "yaxis": {
         "anchor": "x",
         "domain": [
          0,
          1
         ],
         "title": {
          "text": "value"
         }
        }
       }
      }
     },
     "metadata": {},
     "output_type": "display_data"
    }
   ],
   "source": [
    "data_chart = perc_nulls.melt().sort_values(\"value\", ascending=False)\n",
    "fig = px.bar(\n",
    "    data_chart,\n",
    "    y='value',\n",
    "    x='variable',\n",
    "    template='none',\n",
    "    title=\"Percentage of Null\",\n",
    "    width=700\n",
    ")\n",
    "fig.add_hline(y=0.05, annotation={'text':\"5%\"}, line={'dash':'dash', 'color':'green'})\n",
    "fig.add_hline(y=0.4 , annotation={'text':\"40%\"}, line={'dash':'dash', 'color':'red'})\n",
    "fig"
   ]
  },
  {
   "cell_type": "code",
   "execution_count": null,
   "id": "d955bb7b",
   "metadata": {},
   "outputs": [
    {
     "data": {
      "text/plain": [
       "['member_id',\n",
       " 'emp_title',\n",
       " 'emp_length',\n",
       " 'desc',\n",
       " 'mths_since_last_delinq',\n",
       " 'mths_since_last_record',\n",
       " 'next_pymnt_d',\n",
       " 'mths_since_last_major_derog',\n",
       " 'annual_inc_joint',\n",
       " 'dti_joint',\n",
       " 'verification_status_joint',\n",
       " 'open_acc_6m',\n",
       " 'open_act_il',\n",
       " 'open_il_12m',\n",
       " 'open_il_24m',\n",
       " 'mths_since_rcnt_il',\n",
       " 'total_bal_il',\n",
       " 'il_util',\n",
       " 'open_rv_12m',\n",
       " 'open_rv_24m',\n",
       " 'max_bal_bc',\n",
       " 'all_util',\n",
       " 'inq_fi',\n",
       " 'total_cu_tl',\n",
       " 'inq_last_12m',\n",
       " 'mo_sin_old_il_acct',\n",
       " 'mths_since_recent_bc_dlq',\n",
       " 'mths_since_recent_inq',\n",
       " 'mths_since_recent_revol_delinq',\n",
       " 'num_tl_120dpd_2m',\n",
       " 'revol_bal_joint',\n",
       " 'sec_app_fico_range_low',\n",
       " 'sec_app_fico_range_high',\n",
       " 'sec_app_earliest_cr_line',\n",
       " 'sec_app_inq_last_6mths',\n",
       " 'sec_app_mort_acc',\n",
       " 'sec_app_open_acc',\n",
       " 'sec_app_revol_util',\n",
       " 'sec_app_open_act_il',\n",
       " 'sec_app_num_rev_accts',\n",
       " 'sec_app_chargeoff_within_12_mths',\n",
       " 'sec_app_collections_12_mths_ex_med',\n",
       " 'sec_app_mths_since_last_major_derog',\n",
       " 'hardship_type',\n",
       " 'hardship_reason',\n",
       " 'hardship_status',\n",
       " 'deferral_term',\n",
       " 'hardship_amount',\n",
       " 'hardship_start_date',\n",
       " 'hardship_end_date',\n",
       " 'payment_plan_start_date',\n",
       " 'hardship_length',\n",
       " 'hardship_dpd',\n",
       " 'hardship_loan_status',\n",
       " 'orig_projected_additional_accrued_interest',\n",
       " 'hardship_payoff_balance_amount',\n",
       " 'hardship_last_payment_amount',\n",
       " 'debt_settlement_flag_date',\n",
       " 'settlement_status',\n",
       " 'settlement_date',\n",
       " 'settlement_amount',\n",
       " 'settlement_percentage',\n",
       " 'settlement_term']"
      ]
     },
     "execution_count": 20,
     "metadata": {},
     "output_type": "execute_result"
    }
   ],
   "source": [
    "excluded_cols = perc_nulls.melt()\n",
    "excluded_cols = excluded_cols[excluded_cols['value']>0.05]['variable'].to_list()\n",
    "excluded_cols"
   ]
  },
  {
   "cell_type": "code",
   "execution_count": 49,
   "id": "67b7d0f2",
   "metadata": {},
   "outputs": [
    {
     "name": "stderr",
     "output_type": "stream",
     "text": [
      "[Stage 10:==============================================>           (4 + 1) / 5]\r"
     ]
    },
    {
     "name": "stdout",
     "output_type": "stream",
     "text": [
      "+--------------------+--------+\n",
      "|            variable|n_values|\n",
      "+--------------------+--------+\n",
      "|         policy_code|       1|\n",
      "|    application_type|       2|\n",
      "| initial_list_status|       2|\n",
      "|          pymnt_plan|       2|\n",
      "|                term|       2|\n",
      "| disbursement_method|       2|\n",
      "|       hardship_flag|       2|\n",
      "|debt_settlement_flag|       2|\n",
      "| verification_status|       3|\n",
      "|        num_tl_30dpd|       5|\n",
      "|      home_ownership|       6|\n",
      "|               grade|       7|\n",
      "|         loan_status|       9|\n",
      "|      acc_now_delinq|       9|\n",
      "|chargeoff_within_...|      11|\n",
      "|pub_rec_bankruptcies|      12|\n",
      "|             purpose|      14|\n",
      "|collections_12_mt...|      16|\n",
      "|      inq_last_6mths|      28|\n",
      "|  num_tl_op_past_12m|      33|\n",
      "+--------------------+--------+\n",
      "only showing top 20 rows\n"
     ]
    },
    {
     "name": "stderr",
     "output_type": "stream",
     "text": [
      "                                                                                \r"
     ]
    }
   ],
   "source": [
    "data_nulls_excluded = data\\\n",
    ".select([col for col in data.columns if col not in excluded_cols])\n",
    "\n",
    "string_select = []\n",
    "for col in data_nulls_excluded.columns:\n",
    "    string_select.append(f\"CAST({col} AS STRING) AS {col}\")\n",
    "\n",
    "data_nulls_excluded\\\n",
    ".selectExpr(string_select)\\\n",
    ".melt(ids=[], values=[col for col in data_nulls_excluded.columns], variableColumnName=\"variable\", valueColumnName=\"value\")\\\n",
    ".drop_duplicates()\\\n",
    ".groupBy(\"variable\")\\\n",
    ".agg(count(col(\"value\")).alias(\"n_values\"))\\\n",
    ".orderBy(\"n_values\")\\\n",
    ".show()"
   ]
  },
  {
   "cell_type": "code",
   "execution_count": null,
   "id": "e1e18a93",
   "metadata": {},
   "outputs": [],
   "source": [
    "data_selected = data\\\n",
    ".select([col for col in data.columns if col not in excluded_cols])\\\n",
    ".drop(\"policy_code\")"
   ]
  },
  {
   "cell_type": "code",
   "execution_count": null,
   "id": "4b2b5997",
   "metadata": {},
   "outputs": [],
   "source": [
    "class TreeClassifierBinner:\n",
    "    def __init__(self,\n",
    "                 data: pd.DataFrame,\n",
    "                 col_to_bin: str,\n",
    "                 target_col: str,\n",
    "                 min_samples_split: float = 0.3,\n",
    "                 max_leaf_nodes: int = 10):\n",
    "        self.col_to_bin = col_to_bin\n",
    "        self.target_col = target_col\n",
    "        self.max_leaf_nodes = max_leaf_nodes\n",
    "        self.min_samples_split = min_samples_split\n",
    "        self.clf = DecisionTreeClassifier(max_leaf_nodes=self.max_leaf_nodes, random_state=42)\n",
    "        self.data = data\n",
    "        self.x = data[[self.col_to_bin]]\n",
    "        self.y = data[self.target_col]\n",
    "        self.clf.fit(self.x, self.y)\n",
    "        self.univariate_thresholds = self.uniVariableDecisionTreeThresholds()\n",
    "    \n",
    "    def plot(self):\n",
    "        tree.plot_tree(self.clf)\n",
    "    \n",
    "    def uniVariableDecisionTreeThresholds(self):\n",
    "        self.text_tree = tree.export_text(self.clf, feature_names=[self.col_to_bin])\n",
    "        result = str(self.text_tree)\n",
    "        result = result.replace(f\"{self.col_to_bin}\", \"\")\n",
    "        result = re.sub(\"class: [0-9]\", \"\", result)\n",
    "        result = re.sub(\"[0-9., ]\", \"\", result)\n",
    "        result = re.sub(\" +\", \", \", result.strip()).split(\", \")\n",
    "        result = list(set([float(x) for x in result])) + [float(\"-inf\"), float(\"+inf\")]\n",
    "        result.sort()\n",
    "        return result\n",
    "    \n",
    "    def withBands(self, df):\n",
    "        result = df.copy()\n",
    "        result[f'{self.col_to_bin}'] = result[f'{self.col_to_bin}'].fillna(result[f'{self.col_to_bin}'].mean())\n",
    "        result[f'{self.col_to_bin}_bands'] = pd.cut(result[self.col_to_bin], self.univariate_thresholds, labels=False)\n",
    "        return result\n",
    "\n",
    "    def defaultRatesByGroups(self, df):\n",
    "        result = df.groupby(f'{self.col_to_bin}_bands', observed=False)[self.target_col].agg(['count', 'sum'])\n",
    "        result['total_count'] = result['count'].sum()\n",
    "        result['m_rate'] = result['sum']/result['count']\n",
    "        return result.reset_index()\n",
    "\n",
    "    def calculateWoe(self):\n",
    "        grouped_data = self.data\\\n",
    "            .pipe(self.withBands)\\\n",
    "            .pipe(self.defaultRatesByGroups)\n",
    "        grouped_data['non_defaults'] = grouped_data['count'] - grouped_data['sum']\n",
    "        total_defaults = grouped_data['sum'].sum()\n",
    "        total_non_defaults = grouped_data['non_defaults'].sum()\n",
    "        grouped_data['perc_defaults'] = np.clip(grouped_data['sum']/ total_defaults, 0.00001, 0.99999)\n",
    "        grouped_data['perc_non_defaults'] = np.clip(grouped_data['non_defaults']/ total_non_defaults, 0.00001, 0.99999)\n",
    "        grouped_data['woe'] = np.log(grouped_data['perc_defaults'] / grouped_data['perc_non_defaults'])\n",
    "        grouped_data['iv'] = np.sum(-grouped_data['woe'] * (grouped_data['perc_non_defaults'] - grouped_data['perc_defaults']))\n",
    "        self.woe = grouped_data[[f'{self.col_to_bin}_bands', 'woe', 'iv']]\n",
    "    \n",
    "    def addWoeColumn(self, df, na_values=None):\n",
    "        result = df.pipe(self.withBands)\n",
    "        result = result.merge(\n",
    "            self.woe,\n",
    "            how = 'left',\n",
    "            on = f'{self.col_to_bin}_bands'\n",
    "        )\n",
    "        result = result.drop(columns=['iv'])\n",
    "        result = result.rename(columns={'woe':f'{self.col_to_bin}_woe'})\n",
    "        if na_values:\n",
    "            result[f'{self.col_to_bin}_woe'] = result[f'{self.col_to_bin}_woe'].fillna(na_values)\n",
    "        return result\n",
    "    \n",
    "    \n",
    "    \n",
    "class categoryClassifierBinner:\n",
    "    def __init__(self,\n",
    "                    data: pd.DataFrame,\n",
    "                    col_to_bin: str,\n",
    "                    target_col: str,\n",
    "                    n_splits:  int = 10,\n",
    "                    n_samples: int = 10000,\n",
    "                    n_groups:  int = 50):\n",
    "        self.n_splits = n_splits\n",
    "        self.col_to_bin = col_to_bin\n",
    "        self.target_col = target_col\n",
    "        self.data = data\n",
    "        self.n_samples = n_samples\n",
    "        self.n_groups = n_groups\n",
    "\n",
    "    def applyKMeans(self):\n",
    "        sample = self.data\\\n",
    "        .pipe(self.withDFResampled, self.n_samples, self.n_groups)\\\n",
    "        .pipe(self.defaultRatesByGroups, [self.col_to_bin, 'groups'])\n",
    "\n",
    "        k_fold_sample = pd.pivot_table(sample, values='m_rate', index=self.col_to_bin, columns='groups').reset_index().set_index(self.col_to_bin)\n",
    "        kmeans = KMeans(n_clusters=self.n_splits, random_state=42).fit(k_fold_sample)\n",
    "        k_fold_sample['k_fold_groups'] = kmeans.predict(k_fold_sample)\n",
    "        k_fold_sample = k_fold_sample.reset_index()\n",
    "        self.groups_dict = k_fold_sample[[self.col_to_bin, 'k_fold_groups']].set_index(self.col_to_bin).to_dict()\n",
    "        self.clusters = {}\n",
    "        for group_i in k_fold_sample['k_fold_groups'].drop_duplicates():\n",
    "            self.clusters[group_i] = k_fold_sample[k_fold_sample['k_fold_groups']==group_i][self.col_to_bin].to_list()\n",
    "    \n",
    "    def withDFResampled(self, df, n_samples, n_groups):\n",
    "        sample = df.copy()\n",
    "        sample[self.col_to_bin] = sample[self.col_to_bin].fillna(\"None\")\n",
    "        sample = sample[[self.col_to_bin, self.target_col]].groupby(self.col_to_bin).sample(n_samples, replace=True, random_state=42).reset_index(drop=True)\n",
    "        sample['count'] = sample.groupby(self.col_to_bin)[self.target].expanding().count().reset_index()[self.target_col]\n",
    "        sample['groups'] = pd.cut(sample['count'], n_groups, labels=False)\n",
    "        return sample\n",
    "\n",
    "    def withBands(self, df):\n",
    "        result = df.copy()\n",
    "        result[f'{self.col_to_bin}'] = result[f'{self.col_to_bin}'].fillna('None')\n",
    "        result[f'{self.col_to_bin}_bands'] = result[self.col_to_bin].map(self.groups_dict['k_fold_groups'])\n",
    "        return result\n",
    "    \n",
    "    def defaultRatesByGroups(self, df, col_list: list):\n",
    "        result = df.groupby(col_list, observed=False)[self.target_col].agg(['count', 'sum'])\n",
    "        result['total_count'] = result['count'].sum()\n",
    "        result['m_rate'] = np.clip(result['sum']/result['count'], 0.00001, None)\n",
    "        return result.reset_index()\n",
    "    \n",
    "    def calculateWoe(self):\n",
    "        grouped_data = self.data\\\n",
    "            .pipe(self.withBands)\\\n",
    "            .pipe(self.defaultRatesByGroups, [f\"{self.col_to_bin}_bands\"])\n",
    "        grouped_data['non_defaults'] = grouped_data['count'] - grouped_data['sum']\n",
    "        total_defaults = grouped_data['sum'].sum()\n",
    "        total_non_defaults = grouped_data['non_defaults'].sum()\n",
    "        grouped_data['perc_defaults'] = np.clip(grouped_data['sum']/ total_defaults, 0.00001, 0.99999)\n",
    "        grouped_data['perc_non_defaults'] = np.clip(grouped_data['non_defaults']/ total_non_defaults, 0.00001, 0.99999)\n",
    "        grouped_data['woe'] = np.log(grouped_data['perc_defaults'] / grouped_data['perc_non_defaults'])\n",
    "        grouped_data['iv'] = np.sum(-grouped_data['woe'] * (grouped_data['perc_non_defaults'] - grouped_data['perc_defaults']))\n",
    "        self.woe = grouped_data[[f'{self.col_to_bin}_bands', 'woe', 'iv']]\n",
    "\n",
    "    def addWoeColumn(self, df, na_values=None):\n",
    "        result = df.pipe(self.withBands)\n",
    "        result = result.merge(\n",
    "            self.woe,\n",
    "            how = 'left',\n",
    "            on = f'{self.col_to_bin}_bands'\n",
    "        )\n",
    "        result = result.drop(columns=['iv'])\n",
    "        result = result.rename(columns={'woe':f'{self.col_to_bin}_woe'})\n",
    "        if na_values:\n",
    "            result[f'{self.col_to_bin}_woe'] = result[f'{self.col_to_bin}_woe'].fillna(na_values)\n",
    "        return result\n",
    "\n",
    "class binnerSelector:\n",
    "    def __init__(self):\n",
    "        "
   ]
  }
 ],
 "metadata": {
  "kernelspec": {
   "display_name": ".venv",
   "language": "python",
   "name": "python3"
  },
  "language_info": {
   "codemirror_mode": {
    "name": "ipython",
    "version": 3
   },
   "file_extension": ".py",
   "mimetype": "text/x-python",
   "name": "python",
   "nbconvert_exporter": "python",
   "pygments_lexer": "ipython3",
   "version": "3.10.12"
  }
 },
 "nbformat": 4,
 "nbformat_minor": 5
}
