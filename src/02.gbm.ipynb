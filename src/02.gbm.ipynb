{
 "cells": [
  {
   "cell_type": "markdown",
   "id": "8e0341b7",
   "metadata": {},
   "source": [
    "# Description\n",
    "Create a GBM model"
   ]
  }
 ],
 "metadata": {
  "language_info": {
   "name": "python"
  }
 },
 "nbformat": 4,
 "nbformat_minor": 5
}
